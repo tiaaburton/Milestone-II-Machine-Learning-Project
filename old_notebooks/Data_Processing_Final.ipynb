{
  "nbformat": 4,
  "nbformat_minor": 0,
  "metadata": {
    "colab": {
      "name": "Data Processing Final.ipynb",
      "provenance": [],
      "collapsed_sections": [],
      "mount_file_id": "1xhP-JY0jMqxzhuXr-1AktsVsJ8ZcEzVC",
      "authorship_tag": "ABX9TyMg9CxH7Xk5i7kbsrmv13l+",
      "include_colab_link": true
    },
    "kernelspec": {
      "name": "python3",
      "display_name": "Python 3"
    },
    "language_info": {
      "name": "python"
    }
  },
  "cells": [
    {
      "cell_type": "markdown",
      "metadata": {
        "id": "view-in-github",
        "colab_type": "text"
      },
      "source": [
        "<a href=\"https://colab.research.google.com/github/tiaaburton/Milestone-II-Machine-Learning-Project/blob/main/Data_Processing_Final.ipynb\" target=\"_parent\"><img src=\"https://colab.research.google.com/assets/colab-badge.svg\" alt=\"Open In Colab\"/></a>"
      ]
    },
    {
      "cell_type": "code",
      "source": [
        "from google.colab import drive\n",
        "drive.mount('/content/drive')"
      ],
      "metadata": {
        "colab": {
          "base_uri": "https://localhost:8080/"
        },
        "id": "HkafcB1sjvNT",
        "outputId": "475a9e57-c1a2-4cbc-d90f-2c786ac89f14"
      },
      "execution_count": 1,
      "outputs": [
        {
          "output_type": "stream",
          "name": "stdout",
          "text": [
            "Drive already mounted at /content/drive; to attempt to forcibly remount, call drive.mount(\"/content/drive\", force_remount=True).\n"
          ]
        }
      ]
    },
    {
      "cell_type": "code",
      "source": [
        "import pandas as pd\n",
        "import numpy as np\n",
        "import re\n",
        "import os\n",
        "import sys\n",
        "\n",
        "from google.cloud import bigquery\n",
        "import pyarrow\n",
        "from datetime import datetime\n",
        "from tqdm import tqdm\n",
        "\n",
        "from oauth2client.client import GoogleCredentials\n",
        "from google.colab import auth, files\n",
        "\n",
        "import ast\n",
        "import json\n",
        "import re\n",
        "import random"
      ],
      "metadata": {
        "id": "Dn-tcYpjshiV"
      },
      "execution_count": 2,
      "outputs": []
    },
    {
      "cell_type": "markdown",
      "source": [
        ""
      ],
      "metadata": {
        "id": "LfNWMW17Y4Rs"
      }
    },
    {
      "cell_type": "markdown",
      "source": [
        ""
      ],
      "metadata": {
        "id": "eJPR5QSjKWkz"
      }
    },
    {
      "cell_type": "code",
      "source": [
        "filename1 = '/content/drive/Shareddrives/SIADS - 694-695 Team Drive/Partitioned Data/August 2016 Google Analytics Dataset.csv'\n",
        "filename2 = '/content/drive/Shareddrives/SIADS - 694-695 Team Drive/Partitioned Data/September 2016 Google Analytics Dataset.csv'\n",
        "filename3 = '/content/drive/Shareddrives/SIADS - 694-695 Team Drive/Partitioned Data/October 2016 Google Analytics Dataset.csv'\n",
        "filename4 = '/content/drive/Shareddrives/SIADS - 694-695 Team Drive/Partitioned Data/November 2016 Google Analytics Dataset.csv'\n",
        "filename5 = '/content/drive/Shareddrives/SIADS - 694-695 Team Drive/Partitioned Data/December 2016 Google Analytics Dataset.csv'\n",
        "filename6 = '/content/drive/Shareddrives/SIADS - 694-695 Team Drive/Partitioned Data/January 2017 Google Analytics Dataset.csv'\n",
        "\n",
        "\n",
        "def get_selected_columns(filename='/content/drive/Shareddrives/SIADS - 694-695 Team Drive/Notebooks/final_columns.txt'):\n",
        "  \"\"\"\n",
        "  filename: \"\"\"\n",
        "  columns = []\n",
        "  with open(filename, 'r') as f:\n",
        "    for ln in f.readlines():\n",
        "      col = (ln.strip().split('\\xa0\\xa0')[1])\n",
        "      groups = re.search(r\"'(\\w.+)'\", col)\n",
        "      columns.append(groups.group(1))\n",
        "  return columns\n",
        "\n",
        "def fileCount(filename):\n",
        "  n = sum(1 for line in open(filename)) \n",
        "  return n\n",
        "\n",
        "def append_sample(filename):\n",
        "  n = sum(1 for line in open(filename)) - 1 #number of records in file (excludes header)\n",
        "  s = int(n * .1) #desired sample size\n",
        "  skip = sorted(random.sample(range(1,n+1),n-s)) #the 0-indexed header will not be included in the skip list\n",
        "  df = pd.read_csv(filename, skiprows=skip)\n",
        "  return df\n",
        "\n",
        "def get_full_sample(filenames: list):\n",
        "  fullSample = pd.DataFrame()\n",
        "\n",
        "  for file in filenames:\n",
        "    if len(fullSample) == 0:\n",
        "      fullSample = append_sample(file)\n",
        "    else:\n",
        "      fileSample = append_sample(file)\n",
        "      fullSample = pd.concat([fullSample, fileSample])\n",
        "\n",
        "  return fullSample"
      ],
      "metadata": {
        "id": "MFTTibgm9Qao"
      },
      "execution_count": 3,
      "outputs": []
    },
    {
      "cell_type": "code",
      "source": [
        "files = [filename1, filename2, filename3, filename4, filename5, filename6]\n",
        "for f in files:\n",
        "  count = 0\n",
        "  count += fileCount(f)\n",
        "print(\"Total row count is: \", count)"
      ],
      "metadata": {
        "colab": {
          "base_uri": "https://localhost:8080/"
        },
        "id": "j1MEJ_gGuNDR",
        "outputId": "dc826683-344e-4076-c12e-2a2e2dc978a2"
      },
      "execution_count": 30,
      "outputs": [
        {
          "output_type": "stream",
          "name": "stdout",
          "text": [
            "Total file count is:  64695\n"
          ]
        }
      ]
    },
    {
      "cell_type": "code",
      "source": [
        "keep_cols = set()\n",
        "\n",
        "for col in get_selected_columns():\n",
        "  if col != 'clientId': keep_cols.add(col.split('.')[0])"
      ],
      "metadata": {
        "id": "U5r9jt1SqQ-E"
      },
      "execution_count": 4,
      "outputs": []
    },
    {
      "cell_type": "code",
      "source": [
        "sample = get_full_sample([filename1, filename2, filename3, filename4])[list(keep_cols)]"
      ],
      "metadata": {
        "id": "xkTzxG5AlEbl"
      },
      "execution_count": 5,
      "outputs": []
    },
    {
      "cell_type": "code",
      "source": [
        "len(sample)"
      ],
      "metadata": {
        "colab": {
          "base_uri": "https://localhost:8080/"
        },
        "id": "tTsol-43vDhC",
        "outputId": "cd60f92c-2bfb-4559-f4c9-6bf727660494"
      },
      "execution_count": 6,
      "outputs": [
        {
          "output_type": "execute_result",
          "data": {
            "text/plain": [
              "35725"
            ]
          },
          "metadata": {},
          "execution_count": 6
        }
      ]
    },
    {
      "cell_type": "code",
      "source": [
        "sample"
      ],
      "metadata": {
        "id": "8Rxd4BTM2Dfy"
      },
      "execution_count": null,
      "outputs": []
    }
  ]
}