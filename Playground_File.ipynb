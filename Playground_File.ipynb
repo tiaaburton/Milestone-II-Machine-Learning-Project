{
  "nbformat": 4,
  "nbformat_minor": 0,
  "metadata": {
    "colab": {
      "name": "Playground_File.ipynb",
      "provenance": [],
      "collapsed_sections": [],
      "authorship_tag": "ABX9TyMYQiWZb3fePAyBpZ0LuLMn",
      "include_colab_link": true
    },
    "kernelspec": {
      "name": "python3",
      "display_name": "Python 3"
    },
    "language_info": {
      "name": "python"
    }
  },
  "cells": [
    {
      "cell_type": "markdown",
      "metadata": {
        "id": "view-in-github",
        "colab_type": "text"
      },
      "source": [
        "<a href=\"https://colab.research.google.com/github/tiaaburton/Milestone-II-Machine-Learning-Project/blob/main/Playground_File.ipynb\" target=\"_parent\"><img src=\"https://colab.research.google.com/assets/colab-badge.svg\" alt=\"Open In Colab\"/></a>"
      ]
    },
    {
      "cell_type": "code",
      "source": [
        "from google.colab import drive\n",
        "drive.mount('/content/drive')"
      ],
      "metadata": {
        "colab": {
          "base_uri": "https://localhost:8080/"
        },
        "id": "8xmGL6kAav-u",
        "outputId": "9f6c8045-eb07-4943-b3ec-ce1e2ffbda89"
      },
      "execution_count": null,
      "outputs": [
        {
          "output_type": "stream",
          "name": "stdout",
          "text": [
            "Mounted at /content/drive\n"
          ]
        }
      ]
    },
    {
      "cell_type": "code",
      "source": [
        "! pip install pyspark"
      ],
      "metadata": {
        "colab": {
          "base_uri": "https://localhost:8080/"
        },
        "id": "7AYBIUcSa46S",
        "outputId": "00450a3a-e119-468c-9e07-9d7a4031864c"
      },
      "execution_count": null,
      "outputs": [
        {
          "output_type": "stream",
          "name": "stdout",
          "text": [
            "Requirement already satisfied: pyspark in /usr/local/lib/python3.7/dist-packages (3.2.1)\n",
            "Requirement already satisfied: py4j==0.10.9.3 in /usr/local/lib/python3.7/dist-packages (from pyspark) (0.10.9.3)\n"
          ]
        }
      ]
    },
    {
      "cell_type": "code",
      "source": [
        "! pip install pyspark[pandas-on-spark] plotly"
      ],
      "metadata": {
        "colab": {
          "base_uri": "https://localhost:8080/"
        },
        "id": "TKJ-8GoAa7uG",
        "outputId": "630c00c6-d1eb-4cc1-f6a9-60b53ceab009"
      },
      "execution_count": null,
      "outputs": [
        {
          "output_type": "stream",
          "name": "stdout",
          "text": [
            "Requirement already satisfied: pyspark[pandas-on-spark] in /usr/local/lib/python3.7/dist-packages (3.2.1)\n",
            "Requirement already satisfied: plotly in /usr/local/lib/python3.7/dist-packages (5.5.0)\n",
            "Requirement already satisfied: tenacity>=6.2.0 in /usr/local/lib/python3.7/dist-packages (from plotly) (8.0.1)\n",
            "Requirement already satisfied: six in /usr/local/lib/python3.7/dist-packages (from plotly) (1.15.0)\n",
            "\u001b[33mWARNING: pyspark 3.2.1 does not provide the extra 'pandas-on-spark'\u001b[0m\n",
            "Requirement already satisfied: py4j==0.10.9.3 in /usr/local/lib/python3.7/dist-packages (from pyspark[pandas-on-spark]) (0.10.9.3)\n"
          ]
        }
      ]
    },
    {
      "cell_type": "code",
      "source": [
        "! pip install chart_studio"
      ],
      "metadata": {
        "colab": {
          "base_uri": "https://localhost:8080/"
        },
        "id": "avO2VXC8kgG5",
        "outputId": "b696d33a-400d-4f67-c03b-9e4721ed3312"
      },
      "execution_count": null,
      "outputs": [
        {
          "output_type": "stream",
          "name": "stdout",
          "text": [
            "Collecting chart_studio\n",
            "  Downloading chart_studio-1.1.0-py3-none-any.whl (64 kB)\n",
            "\u001b[?25l\r\u001b[K     |█████                           | 10 kB 16.2 MB/s eta 0:00:01\r\u001b[K     |██████████▏                     | 20 kB 10.5 MB/s eta 0:00:01\r\u001b[K     |███████████████▎                | 30 kB 6.4 MB/s eta 0:00:01\r\u001b[K     |████████████████████▍           | 40 kB 6.1 MB/s eta 0:00:01\r\u001b[K     |█████████████████████████▍      | 51 kB 6.3 MB/s eta 0:00:01\r\u001b[K     |██████████████████████████████▌ | 61 kB 6.4 MB/s eta 0:00:01\r\u001b[K     |████████████████████████████████| 64 kB 1.7 MB/s \n",
            "\u001b[?25hRequirement already satisfied: six in /usr/local/lib/python3.7/dist-packages (from chart_studio) (1.15.0)\n",
            "Requirement already satisfied: plotly in /usr/local/lib/python3.7/dist-packages (from chart_studio) (5.5.0)\n",
            "Requirement already satisfied: requests in /usr/local/lib/python3.7/dist-packages (from chart_studio) (2.23.0)\n",
            "Collecting retrying>=1.3.3\n",
            "  Downloading retrying-1.3.3.tar.gz (10 kB)\n",
            "Requirement already satisfied: tenacity>=6.2.0 in /usr/local/lib/python3.7/dist-packages (from plotly->chart_studio) (8.0.1)\n",
            "Requirement already satisfied: urllib3!=1.25.0,!=1.25.1,<1.26,>=1.21.1 in /usr/local/lib/python3.7/dist-packages (from requests->chart_studio) (1.24.3)\n",
            "Requirement already satisfied: idna<3,>=2.5 in /usr/local/lib/python3.7/dist-packages (from requests->chart_studio) (2.10)\n",
            "Requirement already satisfied: chardet<4,>=3.0.2 in /usr/local/lib/python3.7/dist-packages (from requests->chart_studio) (3.0.4)\n",
            "Requirement already satisfied: certifi>=2017.4.17 in /usr/local/lib/python3.7/dist-packages (from requests->chart_studio) (2021.10.8)\n",
            "Building wheels for collected packages: retrying\n",
            "  Building wheel for retrying (setup.py) ... \u001b[?25l\u001b[?25hdone\n",
            "  Created wheel for retrying: filename=retrying-1.3.3-py3-none-any.whl size=11447 sha256=a51b7f84eba928f1bdb6b72df6f72fa1dd912868e442cb1e73e3546b14e57ee8\n",
            "  Stored in directory: /root/.cache/pip/wheels/f9/8d/8d/f6af3f7f9eea3553bc2fe6d53e4b287dad18b06a861ac56ddf\n",
            "Successfully built retrying\n",
            "Installing collected packages: retrying, chart-studio\n",
            "Successfully installed chart-studio-1.1.0 retrying-1.3.3\n"
          ]
        }
      ]
    },
    {
      "cell_type": "code",
      "execution_count": null,
      "metadata": {
        "id": "Mjw6Q2RoZLhi"
      },
      "outputs": [],
      "source": [
        "import pandas as pd\n",
        "import numpy as np\n",
        "import re\n",
        "import os\n",
        "import sys\n",
        "\n",
        "from google.cloud import bigquery\n",
        "import pyarrow\n",
        "from datetime import datetime\n",
        "from tqdm import tqdm\n",
        "\n",
        "from oauth2client.client import GoogleCredentials\n",
        "from google.colab import auth, files\n",
        "\n",
        "import ast\n",
        "import json\n",
        "import re\n",
        "import random\n",
        "\n",
        "import pyspark\n",
        "from pyspark.sql.functions import *\n",
        "from pyspark.sql import SparkSession\n",
        "import pyspark.ml\n",
        "from pyspark.ml import *\n",
        "\n"
      ]
    },
    {
      "cell_type": "code",
      "source": [
        "RANDOM_SEED = 655"
      ],
      "metadata": {
        "id": "_p96T5Bj0ZjU"
      },
      "execution_count": null,
      "outputs": []
    },
    {
      "cell_type": "code",
      "source": [
        "spark = SparkSession.builder \\\n",
        "    .master(\"local[*]\") \\\n",
        "    .appName(\"Binary Buyer Prediction\") \\\n",
        "    .getOrCreate()"
      ],
      "metadata": {
        "id": "z-mq7l5abJJP"
      },
      "execution_count": null,
      "outputs": []
    },
    {
      "cell_type": "code",
      "source": [
        "sample = spark.read.csv('/content/drive/Shareddrives/SIADS - 694-695 Team Drive/processed_file.csv', header=True).withColumnRenamed('_c0','index')"
      ],
      "metadata": {
        "id": "UWUOisPydQ00"
      },
      "execution_count": null,
      "outputs": []
    },
    {
      "cell_type": "code",
      "source": [
        "from collections import Counter\n",
        "core = [col for col in sample.columns if '.' not in col]\n",
        "additional = [col for col in sample.columns if '.' in col]\n",
        "second = []\n",
        "third = []\n",
        "\n",
        "for col in additional:\n",
        "  count = Counter(col)\n",
        "  if count['.'] == 1:\n",
        "    second.append(col)\n",
        "  elif count['.'] == 2:\n",
        "    third.append(col)"
      ],
      "metadata": {
        "id": "UODMsnxk8GF6"
      },
      "execution_count": null,
      "outputs": []
    },
    {
      "cell_type": "code",
      "source": [
        "# columns = []\n",
        "# with open('/content/drive/Shareddrives/SIADS - 694-695 Team Drive/Notebooks/final_columns.txt') as f:\n",
        "#   for ln in f.readlines():\n",
        "#     saved = ln.strip().split('\\'')\n",
        "#     columns.append(saved[1])\n",
        "# print(columns)"
      ],
      "metadata": {
        "id": "Vuu2YBi2xWmt"
      },
      "execution_count": null,
      "outputs": []
    },
    {
      "cell_type": "code",
      "source": [
        "processed = pd.read_csv('/content/drive/Shareddrives/SIADS - 694-695 Team Drive/processed_file.csv',index_col=0)"
      ],
      "metadata": {
        "id": "jFw9nUvevXHt"
      },
      "execution_count": null,
      "outputs": []
    },
    {
      "cell_type": "code",
      "source": [
        "processed.columns"
      ],
      "metadata": {
        "colab": {
          "base_uri": "https://localhost:8080/"
        },
        "id": "JqrHtDx3d5VT",
        "outputId": "66b733c1-1fd1-4a25-a7f3-d4cbbaa50533"
      },
      "execution_count": null,
      "outputs": [
        {
          "output_type": "execute_result",
          "data": {
            "text/plain": [
              "Index(['socialEngagementType', 'hits', 'channelGrouping', 'trafficSource',\n",
              "       'totals', 'date', 'device', 'fullVisitorId', 'geoNetwork',\n",
              "       'totals_visits', 'totals_hits', 'totals_pageviews', 'totals_timeOnSite',\n",
              "       'totals_transactions', 'totals_newVisits', 'totals_screenviews',\n",
              "       'totals_uniqueScreenviews', 'totals_timeOnScreen',\n",
              "       'totals_totalTransactionRevenue', 'hits_type', 'geoNetwork_country',\n",
              "       'trafficSource_source', 'trafficSource_medium',\n",
              "       'trafficSource_isTrueDirect', 'device_browser',\n",
              "       'device_operatingSystem', 'device_deviceCategory', 'hits_hour',\n",
              "       'hits_minute', 'hits_transaction', 'hits_item', 'hits_dataSource',\n",
              "       'hits_appInfo', 'hits_eCommerceAction', 'totals_bounces',\n",
              "       'hits_appInfo_screenDepth', 'hits_eCommerceAction_action_type',\n",
              "       'hits_transaction_transactionRevenue', 'hits_item_productName',\n",
              "       'hits_item_productCategory', 'hits_item_itemRevenue'],\n",
              "      dtype='object')"
            ]
          },
          "metadata": {},
          "execution_count": 23
        }
      ]
    },
    {
      "cell_type": "code",
      "source": [
        "processed.describe()"
      ],
      "metadata": {
        "colab": {
          "base_uri": "https://localhost:8080/",
          "height": 364
        },
        "id": "asCCSO6PeyP7",
        "outputId": "7f7b115e-1bd6-41ac-c738-ca555fe1dc6c"
      },
      "execution_count": null,
      "outputs": [
        {
          "output_type": "execute_result",
          "data": {
            "text/plain": [
              "               date  fullVisitorId  totals.visits  totals.screenviews  \\\n",
              "count  3.572500e+04   3.572500e+04        35725.0                 0.0   \n",
              "mean   2.016099e+07   4.537203e+18            1.0                 NaN   \n",
              "std    1.128160e+02   3.077969e+18            0.0                 NaN   \n",
              "min    2.016080e+07   3.347106e+13            1.0                 NaN   \n",
              "25%    2.016091e+07   1.624230e+18            1.0                 NaN   \n",
              "50%    2.016101e+07   4.444965e+18            1.0                 NaN   \n",
              "75%    2.016111e+07   7.227935e+18            1.0                 NaN   \n",
              "max    2.016113e+07   9.999397e+18            1.0                 NaN   \n",
              "\n",
              "       totals.totalTransactionRevenue  totals.bounces  \\\n",
              "count                    3.630000e+02         18244.0   \n",
              "mean                     1.565480e+08             1.0   \n",
              "std                      2.527672e+08             0.0   \n",
              "min                      3.560000e+06             1.0   \n",
              "25%                      3.173500e+07             1.0   \n",
              "50%                      6.399000e+07             1.0   \n",
              "75%                      1.496200e+08             1.0   \n",
              "max                      2.213380e+09             1.0   \n",
              "\n",
              "       totals.uniqueScreenviews  totals.newVisits   totals.hits  \\\n",
              "count                       0.0           28977.0  35725.000000   \n",
              "mean                        NaN               1.0      4.740770   \n",
              "std                         NaN               0.0     11.530412   \n",
              "min                         NaN               1.0      1.000000   \n",
              "25%                         NaN               1.0      1.000000   \n",
              "50%                         NaN               1.0      1.000000   \n",
              "75%                         NaN               1.0      4.000000   \n",
              "max                         NaN               1.0    500.000000   \n",
              "\n",
              "       totals.transactions  totals.timeOnScreen  totals.timeOnSite  \\\n",
              "count           369.000000                  0.0       17447.000000   \n",
              "mean              1.054201                  NaN         242.206626   \n",
              "std               0.308027                  NaN         483.392041   \n",
              "min               1.000000                  NaN           1.000000   \n",
              "25%               1.000000                  NaN          33.000000   \n",
              "50%               1.000000                  NaN          72.000000   \n",
              "75%               1.000000                  NaN         219.000000   \n",
              "max               4.000000                  NaN       11094.000000   \n",
              "\n",
              "       totals.pageviews  \n",
              "count      35718.000000  \n",
              "mean           3.883980  \n",
              "std            8.217082  \n",
              "min            1.000000  \n",
              "25%            1.000000  \n",
              "50%            1.000000  \n",
              "75%            3.000000  \n",
              "max          469.000000  "
            ],
            "text/html": [
              "\n",
              "  <div id=\"df-046e2e77-3280-41d2-8630-53e7d65b2e13\">\n",
              "    <div class=\"colab-df-container\">\n",
              "      <div>\n",
              "<style scoped>\n",
              "    .dataframe tbody tr th:only-of-type {\n",
              "        vertical-align: middle;\n",
              "    }\n",
              "\n",
              "    .dataframe tbody tr th {\n",
              "        vertical-align: top;\n",
              "    }\n",
              "\n",
              "    .dataframe thead th {\n",
              "        text-align: right;\n",
              "    }\n",
              "</style>\n",
              "<table border=\"1\" class=\"dataframe\">\n",
              "  <thead>\n",
              "    <tr style=\"text-align: right;\">\n",
              "      <th></th>\n",
              "      <th>date</th>\n",
              "      <th>fullVisitorId</th>\n",
              "      <th>totals.visits</th>\n",
              "      <th>totals.screenviews</th>\n",
              "      <th>totals.totalTransactionRevenue</th>\n",
              "      <th>totals.bounces</th>\n",
              "      <th>totals.uniqueScreenviews</th>\n",
              "      <th>totals.newVisits</th>\n",
              "      <th>totals.hits</th>\n",
              "      <th>totals.transactions</th>\n",
              "      <th>totals.timeOnScreen</th>\n",
              "      <th>totals.timeOnSite</th>\n",
              "      <th>totals.pageviews</th>\n",
              "    </tr>\n",
              "  </thead>\n",
              "  <tbody>\n",
              "    <tr>\n",
              "      <th>count</th>\n",
              "      <td>3.572500e+04</td>\n",
              "      <td>3.572500e+04</td>\n",
              "      <td>35725.0</td>\n",
              "      <td>0.0</td>\n",
              "      <td>3.630000e+02</td>\n",
              "      <td>18244.0</td>\n",
              "      <td>0.0</td>\n",
              "      <td>28977.0</td>\n",
              "      <td>35725.000000</td>\n",
              "      <td>369.000000</td>\n",
              "      <td>0.0</td>\n",
              "      <td>17447.000000</td>\n",
              "      <td>35718.000000</td>\n",
              "    </tr>\n",
              "    <tr>\n",
              "      <th>mean</th>\n",
              "      <td>2.016099e+07</td>\n",
              "      <td>4.537203e+18</td>\n",
              "      <td>1.0</td>\n",
              "      <td>NaN</td>\n",
              "      <td>1.565480e+08</td>\n",
              "      <td>1.0</td>\n",
              "      <td>NaN</td>\n",
              "      <td>1.0</td>\n",
              "      <td>4.740770</td>\n",
              "      <td>1.054201</td>\n",
              "      <td>NaN</td>\n",
              "      <td>242.206626</td>\n",
              "      <td>3.883980</td>\n",
              "    </tr>\n",
              "    <tr>\n",
              "      <th>std</th>\n",
              "      <td>1.128160e+02</td>\n",
              "      <td>3.077969e+18</td>\n",
              "      <td>0.0</td>\n",
              "      <td>NaN</td>\n",
              "      <td>2.527672e+08</td>\n",
              "      <td>0.0</td>\n",
              "      <td>NaN</td>\n",
              "      <td>0.0</td>\n",
              "      <td>11.530412</td>\n",
              "      <td>0.308027</td>\n",
              "      <td>NaN</td>\n",
              "      <td>483.392041</td>\n",
              "      <td>8.217082</td>\n",
              "    </tr>\n",
              "    <tr>\n",
              "      <th>min</th>\n",
              "      <td>2.016080e+07</td>\n",
              "      <td>3.347106e+13</td>\n",
              "      <td>1.0</td>\n",
              "      <td>NaN</td>\n",
              "      <td>3.560000e+06</td>\n",
              "      <td>1.0</td>\n",
              "      <td>NaN</td>\n",
              "      <td>1.0</td>\n",
              "      <td>1.000000</td>\n",
              "      <td>1.000000</td>\n",
              "      <td>NaN</td>\n",
              "      <td>1.000000</td>\n",
              "      <td>1.000000</td>\n",
              "    </tr>\n",
              "    <tr>\n",
              "      <th>25%</th>\n",
              "      <td>2.016091e+07</td>\n",
              "      <td>1.624230e+18</td>\n",
              "      <td>1.0</td>\n",
              "      <td>NaN</td>\n",
              "      <td>3.173500e+07</td>\n",
              "      <td>1.0</td>\n",
              "      <td>NaN</td>\n",
              "      <td>1.0</td>\n",
              "      <td>1.000000</td>\n",
              "      <td>1.000000</td>\n",
              "      <td>NaN</td>\n",
              "      <td>33.000000</td>\n",
              "      <td>1.000000</td>\n",
              "    </tr>\n",
              "    <tr>\n",
              "      <th>50%</th>\n",
              "      <td>2.016101e+07</td>\n",
              "      <td>4.444965e+18</td>\n",
              "      <td>1.0</td>\n",
              "      <td>NaN</td>\n",
              "      <td>6.399000e+07</td>\n",
              "      <td>1.0</td>\n",
              "      <td>NaN</td>\n",
              "      <td>1.0</td>\n",
              "      <td>1.000000</td>\n",
              "      <td>1.000000</td>\n",
              "      <td>NaN</td>\n",
              "      <td>72.000000</td>\n",
              "      <td>1.000000</td>\n",
              "    </tr>\n",
              "    <tr>\n",
              "      <th>75%</th>\n",
              "      <td>2.016111e+07</td>\n",
              "      <td>7.227935e+18</td>\n",
              "      <td>1.0</td>\n",
              "      <td>NaN</td>\n",
              "      <td>1.496200e+08</td>\n",
              "      <td>1.0</td>\n",
              "      <td>NaN</td>\n",
              "      <td>1.0</td>\n",
              "      <td>4.000000</td>\n",
              "      <td>1.000000</td>\n",
              "      <td>NaN</td>\n",
              "      <td>219.000000</td>\n",
              "      <td>3.000000</td>\n",
              "    </tr>\n",
              "    <tr>\n",
              "      <th>max</th>\n",
              "      <td>2.016113e+07</td>\n",
              "      <td>9.999397e+18</td>\n",
              "      <td>1.0</td>\n",
              "      <td>NaN</td>\n",
              "      <td>2.213380e+09</td>\n",
              "      <td>1.0</td>\n",
              "      <td>NaN</td>\n",
              "      <td>1.0</td>\n",
              "      <td>500.000000</td>\n",
              "      <td>4.000000</td>\n",
              "      <td>NaN</td>\n",
              "      <td>11094.000000</td>\n",
              "      <td>469.000000</td>\n",
              "    </tr>\n",
              "  </tbody>\n",
              "</table>\n",
              "</div>\n",
              "      <button class=\"colab-df-convert\" onclick=\"convertToInteractive('df-046e2e77-3280-41d2-8630-53e7d65b2e13')\"\n",
              "              title=\"Convert this dataframe to an interactive table.\"\n",
              "              style=\"display:none;\">\n",
              "        \n",
              "  <svg xmlns=\"http://www.w3.org/2000/svg\" height=\"24px\"viewBox=\"0 0 24 24\"\n",
              "       width=\"24px\">\n",
              "    <path d=\"M0 0h24v24H0V0z\" fill=\"none\"/>\n",
              "    <path d=\"M18.56 5.44l.94 2.06.94-2.06 2.06-.94-2.06-.94-.94-2.06-.94 2.06-2.06.94zm-11 1L8.5 8.5l.94-2.06 2.06-.94-2.06-.94L8.5 2.5l-.94 2.06-2.06.94zm10 10l.94 2.06.94-2.06 2.06-.94-2.06-.94-.94-2.06-.94 2.06-2.06.94z\"/><path d=\"M17.41 7.96l-1.37-1.37c-.4-.4-.92-.59-1.43-.59-.52 0-1.04.2-1.43.59L10.3 9.45l-7.72 7.72c-.78.78-.78 2.05 0 2.83L4 21.41c.39.39.9.59 1.41.59.51 0 1.02-.2 1.41-.59l7.78-7.78 2.81-2.81c.8-.78.8-2.07 0-2.86zM5.41 20L4 18.59l7.72-7.72 1.47 1.35L5.41 20z\"/>\n",
              "  </svg>\n",
              "      </button>\n",
              "      \n",
              "  <style>\n",
              "    .colab-df-container {\n",
              "      display:flex;\n",
              "      flex-wrap:wrap;\n",
              "      gap: 12px;\n",
              "    }\n",
              "\n",
              "    .colab-df-convert {\n",
              "      background-color: #E8F0FE;\n",
              "      border: none;\n",
              "      border-radius: 50%;\n",
              "      cursor: pointer;\n",
              "      display: none;\n",
              "      fill: #1967D2;\n",
              "      height: 32px;\n",
              "      padding: 0 0 0 0;\n",
              "      width: 32px;\n",
              "    }\n",
              "\n",
              "    .colab-df-convert:hover {\n",
              "      background-color: #E2EBFA;\n",
              "      box-shadow: 0px 1px 2px rgba(60, 64, 67, 0.3), 0px 1px 3px 1px rgba(60, 64, 67, 0.15);\n",
              "      fill: #174EA6;\n",
              "    }\n",
              "\n",
              "    [theme=dark] .colab-df-convert {\n",
              "      background-color: #3B4455;\n",
              "      fill: #D2E3FC;\n",
              "    }\n",
              "\n",
              "    [theme=dark] .colab-df-convert:hover {\n",
              "      background-color: #434B5C;\n",
              "      box-shadow: 0px 1px 3px 1px rgba(0, 0, 0, 0.15);\n",
              "      filter: drop-shadow(0px 1px 2px rgba(0, 0, 0, 0.3));\n",
              "      fill: #FFFFFF;\n",
              "    }\n",
              "  </style>\n",
              "\n",
              "      <script>\n",
              "        const buttonEl =\n",
              "          document.querySelector('#df-046e2e77-3280-41d2-8630-53e7d65b2e13 button.colab-df-convert');\n",
              "        buttonEl.style.display =\n",
              "          google.colab.kernel.accessAllowed ? 'block' : 'none';\n",
              "\n",
              "        async function convertToInteractive(key) {\n",
              "          const element = document.querySelector('#df-046e2e77-3280-41d2-8630-53e7d65b2e13');\n",
              "          const dataTable =\n",
              "            await google.colab.kernel.invokeFunction('convertToInteractive',\n",
              "                                                     [key], {});\n",
              "          if (!dataTable) return;\n",
              "\n",
              "          const docLinkHtml = 'Like what you see? Visit the ' +\n",
              "            '<a target=\"_blank\" href=https://colab.research.google.com/notebooks/data_table.ipynb>data table notebook</a>'\n",
              "            + ' to learn more about interactive tables.';\n",
              "          element.innerHTML = '';\n",
              "          dataTable['output_type'] = 'display_data';\n",
              "          await google.colab.output.renderOutput(dataTable, element);\n",
              "          const docLink = document.createElement('div');\n",
              "          docLink.innerHTML = docLinkHtml;\n",
              "          element.appendChild(docLink);\n",
              "        }\n",
              "      </script>\n",
              "    </div>\n",
              "  </div>\n",
              "  "
            ]
          },
          "metadata": {},
          "execution_count": 145
        }
      ]
    },
    {
      "cell_type": "code",
      "source": [
        "processed = processed.drop(['totals.screenviews','totals.uniqueScreenviews','totals.timeOnScreen',\n",
        "                            'device','totals','hits','hits.type','trafficSource','geoNetwork'],axis=1)"
      ],
      "metadata": {
        "id": "maUr9M46fRwE"
      },
      "execution_count": null,
      "outputs": []
    },
    {
      "cell_type": "code",
      "source": [
        "for c in processed.columns:\n",
        "  if '.' in c:\n",
        "    repl = c.replace('.','_')\n",
        "    processed = processed.rename(columns={c: repl},inplace=True) "
      ],
      "metadata": {
        "id": "DtCxfgeECJ5f"
      },
      "execution_count": null,
      "outputs": []
    },
    {
      "cell_type": "code",
      "source": [
        "processed.head()"
      ],
      "metadata": {
        "colab": {
          "base_uri": "https://localhost:8080/",
          "height": 560
        },
        "id": "4AyVor7bRcaM",
        "outputId": "0654089a-9716-48fc-9694-ca3c57d50f91"
      },
      "execution_count": null,
      "outputs": [
        {
          "output_type": "execute_result",
          "data": {
            "text/plain": [
              "   socialEngagementType                                               hits  \\\n",
              "0  Not Socially Engaged  [{'hitNumber': 1, 'time': 0, 'hour': 6, 'minut...   \n",
              "1  Not Socially Engaged  [{'hitNumber': 1, 'time': 0, 'hour': 22, 'minu...   \n",
              "2  Not Socially Engaged  [{'hitNumber': 1, 'time': 0, 'hour': 13, 'minu...   \n",
              "3  Not Socially Engaged  [{'hitNumber': 1, 'time': 0, 'hour': 10, 'minu...   \n",
              "4  Not Socially Engaged  [{'hitNumber': 1, 'time': 0, 'hour': 8, 'minut...   \n",
              "\n",
              "  channelGrouping                                      trafficSource  \\\n",
              "0          Social  {'referralPath': '/', 'campaign': '(not set)',...   \n",
              "1  Organic Search  {'referralPath': None, 'campaign': '(not set)'...   \n",
              "2          Direct  {'referralPath': None, 'campaign': '(not set)'...   \n",
              "3          Direct  {'referralPath': None, 'campaign': '(not set)'...   \n",
              "4         Display  {'referralPath': None, 'campaign': '(not set)'...   \n",
              "\n",
              "                                              totals      date  \\\n",
              "0  {'visits': 1, 'hits': 10, 'pageviews': 9, 'tim...  20160801   \n",
              "1  {'visits': 1, 'hits': 2, 'pageviews': 2, 'time...  20160801   \n",
              "2  {'visits': 1, 'hits': 2, 'pageviews': 2, 'time...  20160801   \n",
              "3  {'visits': 1, 'hits': 3, 'pageviews': 3, 'time...  20160801   \n",
              "4  {'visits': 1, 'hits': 3, 'pageviews': 3, 'time...  20160801   \n",
              "\n",
              "                                              device        fullVisitorId  \\\n",
              "0  {'browser': 'Chrome', 'browserVersion': 'not a...  5160807529212499245   \n",
              "1  {'browser': 'Chrome', 'browserVersion': 'not a...   558025075151655343   \n",
              "2  {'browser': 'Chrome', 'browserVersion': 'not a...  3751823672052015547   \n",
              "3  {'browser': 'Chrome', 'browserVersion': 'not a...  5231073281895209426   \n",
              "4  {'browser': 'Chrome', 'browserVersion': 'not a...  7157626079567895669   \n",
              "\n",
              "                                          geoNetwork  totals_visits  ...  \\\n",
              "0  {'continent': 'Europe', 'subContinent': 'Easte...              1  ...   \n",
              "1  {'continent': 'Americas', 'subContinent': 'Nor...              1  ...   \n",
              "2  {'continent': 'Americas', 'subContinent': 'Nor...              1  ...   \n",
              "3  {'continent': 'Americas', 'subContinent': 'Nor...              1  ...   \n",
              "4  {'continent': 'Americas', 'subContinent': 'Nor...              1  ...   \n",
              "\n",
              "                                     hits_dataSource  \\\n",
              "0  [None, None, None, None, None, None, None, Non...   \n",
              "1                                       [None, None]   \n",
              "2                                       [None, None]   \n",
              "3                                 [None, None, None]   \n",
              "4                                 [None, None, None]   \n",
              "\n",
              "                                        hits_appInfo  \\\n",
              "0  [{'name': None, 'version': None, 'id': None, '...   \n",
              "1  [{'name': None, 'version': None, 'id': None, '...   \n",
              "2  [{'name': None, 'version': None, 'id': None, '...   \n",
              "3  [{'name': None, 'version': None, 'id': None, '...   \n",
              "4  [{'name': None, 'version': None, 'id': None, '...   \n",
              "\n",
              "                                hits_eCommerceAction  totals_bounces  \\\n",
              "0  [{'action_type': '0', 'step': 1, 'option': Non...             NaN   \n",
              "1  [{'action_type': '0', 'step': 1, 'option': Non...             NaN   \n",
              "2  [{'action_type': '0', 'step': 1, 'option': Non...             NaN   \n",
              "3  [{'action_type': '0', 'step': 1, 'option': Non...             NaN   \n",
              "4  [{'action_type': '0', 'step': 1, 'option': Non...             NaN   \n",
              "\n",
              "   hits_appInfo_screenDepth  hits_eCommerceAction_action_type  \\\n",
              "0                         0                                 0   \n",
              "1                         0                                 0   \n",
              "2                         0                                 0   \n",
              "3                         0                                 0   \n",
              "4                         0                                 0   \n",
              "\n",
              "   hits_transaction_transactionRevenue  hits_item_productName  \\\n",
              "0                                  NaN                    NaN   \n",
              "1                                  NaN                    NaN   \n",
              "2                                  NaN                    NaN   \n",
              "3                                  NaN                    NaN   \n",
              "4                                  NaN                    NaN   \n",
              "\n",
              "   hits_item_productCategory hits_item_itemRevenue  \n",
              "0                        NaN                   NaN  \n",
              "1                        NaN                   NaN  \n",
              "2                        NaN                   NaN  \n",
              "3                        NaN                   NaN  \n",
              "4                        NaN                   NaN  \n",
              "\n",
              "[5 rows x 41 columns]"
            ],
            "text/html": [
              "\n",
              "  <div id=\"df-893efce8-4cb9-4739-89c2-f90a0e69b508\">\n",
              "    <div class=\"colab-df-container\">\n",
              "      <div>\n",
              "<style scoped>\n",
              "    .dataframe tbody tr th:only-of-type {\n",
              "        vertical-align: middle;\n",
              "    }\n",
              "\n",
              "    .dataframe tbody tr th {\n",
              "        vertical-align: top;\n",
              "    }\n",
              "\n",
              "    .dataframe thead th {\n",
              "        text-align: right;\n",
              "    }\n",
              "</style>\n",
              "<table border=\"1\" class=\"dataframe\">\n",
              "  <thead>\n",
              "    <tr style=\"text-align: right;\">\n",
              "      <th></th>\n",
              "      <th>socialEngagementType</th>\n",
              "      <th>hits</th>\n",
              "      <th>channelGrouping</th>\n",
              "      <th>trafficSource</th>\n",
              "      <th>totals</th>\n",
              "      <th>date</th>\n",
              "      <th>device</th>\n",
              "      <th>fullVisitorId</th>\n",
              "      <th>geoNetwork</th>\n",
              "      <th>totals_visits</th>\n",
              "      <th>...</th>\n",
              "      <th>hits_dataSource</th>\n",
              "      <th>hits_appInfo</th>\n",
              "      <th>hits_eCommerceAction</th>\n",
              "      <th>totals_bounces</th>\n",
              "      <th>hits_appInfo_screenDepth</th>\n",
              "      <th>hits_eCommerceAction_action_type</th>\n",
              "      <th>hits_transaction_transactionRevenue</th>\n",
              "      <th>hits_item_productName</th>\n",
              "      <th>hits_item_productCategory</th>\n",
              "      <th>hits_item_itemRevenue</th>\n",
              "    </tr>\n",
              "  </thead>\n",
              "  <tbody>\n",
              "    <tr>\n",
              "      <th>0</th>\n",
              "      <td>Not Socially Engaged</td>\n",
              "      <td>[{'hitNumber': 1, 'time': 0, 'hour': 6, 'minut...</td>\n",
              "      <td>Social</td>\n",
              "      <td>{'referralPath': '/', 'campaign': '(not set)',...</td>\n",
              "      <td>{'visits': 1, 'hits': 10, 'pageviews': 9, 'tim...</td>\n",
              "      <td>20160801</td>\n",
              "      <td>{'browser': 'Chrome', 'browserVersion': 'not a...</td>\n",
              "      <td>5160807529212499245</td>\n",
              "      <td>{'continent': 'Europe', 'subContinent': 'Easte...</td>\n",
              "      <td>1</td>\n",
              "      <td>...</td>\n",
              "      <td>[None, None, None, None, None, None, None, Non...</td>\n",
              "      <td>[{'name': None, 'version': None, 'id': None, '...</td>\n",
              "      <td>[{'action_type': '0', 'step': 1, 'option': Non...</td>\n",
              "      <td>NaN</td>\n",
              "      <td>0</td>\n",
              "      <td>0</td>\n",
              "      <td>NaN</td>\n",
              "      <td>NaN</td>\n",
              "      <td>NaN</td>\n",
              "      <td>NaN</td>\n",
              "    </tr>\n",
              "    <tr>\n",
              "      <th>1</th>\n",
              "      <td>Not Socially Engaged</td>\n",
              "      <td>[{'hitNumber': 1, 'time': 0, 'hour': 22, 'minu...</td>\n",
              "      <td>Organic Search</td>\n",
              "      <td>{'referralPath': None, 'campaign': '(not set)'...</td>\n",
              "      <td>{'visits': 1, 'hits': 2, 'pageviews': 2, 'time...</td>\n",
              "      <td>20160801</td>\n",
              "      <td>{'browser': 'Chrome', 'browserVersion': 'not a...</td>\n",
              "      <td>558025075151655343</td>\n",
              "      <td>{'continent': 'Americas', 'subContinent': 'Nor...</td>\n",
              "      <td>1</td>\n",
              "      <td>...</td>\n",
              "      <td>[None, None]</td>\n",
              "      <td>[{'name': None, 'version': None, 'id': None, '...</td>\n",
              "      <td>[{'action_type': '0', 'step': 1, 'option': Non...</td>\n",
              "      <td>NaN</td>\n",
              "      <td>0</td>\n",
              "      <td>0</td>\n",
              "      <td>NaN</td>\n",
              "      <td>NaN</td>\n",
              "      <td>NaN</td>\n",
              "      <td>NaN</td>\n",
              "    </tr>\n",
              "    <tr>\n",
              "      <th>2</th>\n",
              "      <td>Not Socially Engaged</td>\n",
              "      <td>[{'hitNumber': 1, 'time': 0, 'hour': 13, 'minu...</td>\n",
              "      <td>Direct</td>\n",
              "      <td>{'referralPath': None, 'campaign': '(not set)'...</td>\n",
              "      <td>{'visits': 1, 'hits': 2, 'pageviews': 2, 'time...</td>\n",
              "      <td>20160801</td>\n",
              "      <td>{'browser': 'Chrome', 'browserVersion': 'not a...</td>\n",
              "      <td>3751823672052015547</td>\n",
              "      <td>{'continent': 'Americas', 'subContinent': 'Nor...</td>\n",
              "      <td>1</td>\n",
              "      <td>...</td>\n",
              "      <td>[None, None]</td>\n",
              "      <td>[{'name': None, 'version': None, 'id': None, '...</td>\n",
              "      <td>[{'action_type': '0', 'step': 1, 'option': Non...</td>\n",
              "      <td>NaN</td>\n",
              "      <td>0</td>\n",
              "      <td>0</td>\n",
              "      <td>NaN</td>\n",
              "      <td>NaN</td>\n",
              "      <td>NaN</td>\n",
              "      <td>NaN</td>\n",
              "    </tr>\n",
              "    <tr>\n",
              "      <th>3</th>\n",
              "      <td>Not Socially Engaged</td>\n",
              "      <td>[{'hitNumber': 1, 'time': 0, 'hour': 10, 'minu...</td>\n",
              "      <td>Direct</td>\n",
              "      <td>{'referralPath': None, 'campaign': '(not set)'...</td>\n",
              "      <td>{'visits': 1, 'hits': 3, 'pageviews': 3, 'time...</td>\n",
              "      <td>20160801</td>\n",
              "      <td>{'browser': 'Chrome', 'browserVersion': 'not a...</td>\n",
              "      <td>5231073281895209426</td>\n",
              "      <td>{'continent': 'Americas', 'subContinent': 'Nor...</td>\n",
              "      <td>1</td>\n",
              "      <td>...</td>\n",
              "      <td>[None, None, None]</td>\n",
              "      <td>[{'name': None, 'version': None, 'id': None, '...</td>\n",
              "      <td>[{'action_type': '0', 'step': 1, 'option': Non...</td>\n",
              "      <td>NaN</td>\n",
              "      <td>0</td>\n",
              "      <td>0</td>\n",
              "      <td>NaN</td>\n",
              "      <td>NaN</td>\n",
              "      <td>NaN</td>\n",
              "      <td>NaN</td>\n",
              "    </tr>\n",
              "    <tr>\n",
              "      <th>4</th>\n",
              "      <td>Not Socially Engaged</td>\n",
              "      <td>[{'hitNumber': 1, 'time': 0, 'hour': 8, 'minut...</td>\n",
              "      <td>Display</td>\n",
              "      <td>{'referralPath': None, 'campaign': '(not set)'...</td>\n",
              "      <td>{'visits': 1, 'hits': 3, 'pageviews': 3, 'time...</td>\n",
              "      <td>20160801</td>\n",
              "      <td>{'browser': 'Chrome', 'browserVersion': 'not a...</td>\n",
              "      <td>7157626079567895669</td>\n",
              "      <td>{'continent': 'Americas', 'subContinent': 'Nor...</td>\n",
              "      <td>1</td>\n",
              "      <td>...</td>\n",
              "      <td>[None, None, None]</td>\n",
              "      <td>[{'name': None, 'version': None, 'id': None, '...</td>\n",
              "      <td>[{'action_type': '0', 'step': 1, 'option': Non...</td>\n",
              "      <td>NaN</td>\n",
              "      <td>0</td>\n",
              "      <td>0</td>\n",
              "      <td>NaN</td>\n",
              "      <td>NaN</td>\n",
              "      <td>NaN</td>\n",
              "      <td>NaN</td>\n",
              "    </tr>\n",
              "  </tbody>\n",
              "</table>\n",
              "<p>5 rows × 41 columns</p>\n",
              "</div>\n",
              "      <button class=\"colab-df-convert\" onclick=\"convertToInteractive('df-893efce8-4cb9-4739-89c2-f90a0e69b508')\"\n",
              "              title=\"Convert this dataframe to an interactive table.\"\n",
              "              style=\"display:none;\">\n",
              "        \n",
              "  <svg xmlns=\"http://www.w3.org/2000/svg\" height=\"24px\"viewBox=\"0 0 24 24\"\n",
              "       width=\"24px\">\n",
              "    <path d=\"M0 0h24v24H0V0z\" fill=\"none\"/>\n",
              "    <path d=\"M18.56 5.44l.94 2.06.94-2.06 2.06-.94-2.06-.94-.94-2.06-.94 2.06-2.06.94zm-11 1L8.5 8.5l.94-2.06 2.06-.94-2.06-.94L8.5 2.5l-.94 2.06-2.06.94zm10 10l.94 2.06.94-2.06 2.06-.94-2.06-.94-.94-2.06-.94 2.06-2.06.94z\"/><path d=\"M17.41 7.96l-1.37-1.37c-.4-.4-.92-.59-1.43-.59-.52 0-1.04.2-1.43.59L10.3 9.45l-7.72 7.72c-.78.78-.78 2.05 0 2.83L4 21.41c.39.39.9.59 1.41.59.51 0 1.02-.2 1.41-.59l7.78-7.78 2.81-2.81c.8-.78.8-2.07 0-2.86zM5.41 20L4 18.59l7.72-7.72 1.47 1.35L5.41 20z\"/>\n",
              "  </svg>\n",
              "      </button>\n",
              "      \n",
              "  <style>\n",
              "    .colab-df-container {\n",
              "      display:flex;\n",
              "      flex-wrap:wrap;\n",
              "      gap: 12px;\n",
              "    }\n",
              "\n",
              "    .colab-df-convert {\n",
              "      background-color: #E8F0FE;\n",
              "      border: none;\n",
              "      border-radius: 50%;\n",
              "      cursor: pointer;\n",
              "      display: none;\n",
              "      fill: #1967D2;\n",
              "      height: 32px;\n",
              "      padding: 0 0 0 0;\n",
              "      width: 32px;\n",
              "    }\n",
              "\n",
              "    .colab-df-convert:hover {\n",
              "      background-color: #E2EBFA;\n",
              "      box-shadow: 0px 1px 2px rgba(60, 64, 67, 0.3), 0px 1px 3px 1px rgba(60, 64, 67, 0.15);\n",
              "      fill: #174EA6;\n",
              "    }\n",
              "\n",
              "    [theme=dark] .colab-df-convert {\n",
              "      background-color: #3B4455;\n",
              "      fill: #D2E3FC;\n",
              "    }\n",
              "\n",
              "    [theme=dark] .colab-df-convert:hover {\n",
              "      background-color: #434B5C;\n",
              "      box-shadow: 0px 1px 3px 1px rgba(0, 0, 0, 0.15);\n",
              "      filter: drop-shadow(0px 1px 2px rgba(0, 0, 0, 0.3));\n",
              "      fill: #FFFFFF;\n",
              "    }\n",
              "  </style>\n",
              "\n",
              "      <script>\n",
              "        const buttonEl =\n",
              "          document.querySelector('#df-893efce8-4cb9-4739-89c2-f90a0e69b508 button.colab-df-convert');\n",
              "        buttonEl.style.display =\n",
              "          google.colab.kernel.accessAllowed ? 'block' : 'none';\n",
              "\n",
              "        async function convertToInteractive(key) {\n",
              "          const element = document.querySelector('#df-893efce8-4cb9-4739-89c2-f90a0e69b508');\n",
              "          const dataTable =\n",
              "            await google.colab.kernel.invokeFunction('convertToInteractive',\n",
              "                                                     [key], {});\n",
              "          if (!dataTable) return;\n",
              "\n",
              "          const docLinkHtml = 'Like what you see? Visit the ' +\n",
              "            '<a target=\"_blank\" href=https://colab.research.google.com/notebooks/data_table.ipynb>data table notebook</a>'\n",
              "            + ' to learn more about interactive tables.';\n",
              "          element.innerHTML = '';\n",
              "          dataTable['output_type'] = 'display_data';\n",
              "          await google.colab.output.renderOutput(dataTable, element);\n",
              "          const docLink = document.createElement('div');\n",
              "          docLink.innerHTML = docLinkHtml;\n",
              "          element.appendChild(docLink);\n",
              "        }\n",
              "      </script>\n",
              "    </div>\n",
              "  </div>\n",
              "  "
            ]
          },
          "metadata": {},
          "execution_count": 22
        }
      ]
    },
    {
      "cell_type": "code",
      "source": [
        "train = processed[processed.columns[~processed.columns.isin(['totals_transactions'])]]\n",
        "train = train[['date','fullVisitorId','totals_visits','totals_totalTransactionRevenue',\n",
        "               'totals_bounces','totals_newVisits','totals_hits','totals_timeOnSite',\n",
        "               'totals_pageviews']]\n",
        "               \n",
        "target = processed[processed.columns[processed.columns.isin(['totals_transactions'])]]\n",
        "target = pd.Categorical(target.iloc[:,0])\n",
        "target = pd.Series(target.add_categories(0.0).fillna(0.0))"
      ],
      "metadata": {
        "id": "XQVVfb00gISs"
      },
      "execution_count": null,
      "outputs": []
    },
    {
      "cell_type": "code",
      "source": [
        "train.corr()"
      ],
      "metadata": {
        "colab": {
          "base_uri": "https://localhost:8080/",
          "height": 395
        },
        "id": "faqfyiYb9sOk",
        "outputId": "9ed61eb1-f0f6-418b-8eb5-22ab50f793f9"
      },
      "execution_count": null,
      "outputs": [
        {
          "output_type": "execute_result",
          "data": {
            "text/plain": [
              "                                    date  fullVisitorId  totals_visits  \\\n",
              "date                            1.000000      -0.006308            NaN   \n",
              "fullVisitorId                  -0.006308       1.000000            NaN   \n",
              "totals_visits                        NaN            NaN            NaN   \n",
              "totals_totalTransactionRevenue  0.047847       0.060864            NaN   \n",
              "totals_bounces                       NaN            NaN            NaN   \n",
              "totals_newVisits                     NaN            NaN            NaN   \n",
              "totals_hits                    -0.001473       0.003682            NaN   \n",
              "totals_timeOnSite               0.010124      -0.006080            NaN   \n",
              "totals_pageviews                0.006483       0.003720            NaN   \n",
              "\n",
              "                                totals_totalTransactionRevenue  \\\n",
              "date                                                  0.047847   \n",
              "fullVisitorId                                         0.060864   \n",
              "totals_visits                                              NaN   \n",
              "totals_totalTransactionRevenue                        1.000000   \n",
              "totals_bounces                                             NaN   \n",
              "totals_newVisits                                           NaN   \n",
              "totals_hits                                           0.185626   \n",
              "totals_timeOnSite                                     0.135123   \n",
              "totals_pageviews                                      0.184333   \n",
              "\n",
              "                                totals_bounces  totals_newVisits  totals_hits  \\\n",
              "date                                       NaN               NaN    -0.001473   \n",
              "fullVisitorId                              NaN               NaN     0.003682   \n",
              "totals_visits                              NaN               NaN          NaN   \n",
              "totals_totalTransactionRevenue             NaN               NaN     0.185626   \n",
              "totals_bounces                             NaN               NaN          NaN   \n",
              "totals_newVisits                           NaN               NaN          NaN   \n",
              "totals_hits                                NaN               NaN     1.000000   \n",
              "totals_timeOnSite                          NaN               NaN     0.623907   \n",
              "totals_pageviews                           NaN               NaN     0.987265   \n",
              "\n",
              "                                totals_timeOnSite  totals_pageviews  \n",
              "date                                     0.010124          0.006483  \n",
              "fullVisitorId                           -0.006080          0.003720  \n",
              "totals_visits                                 NaN               NaN  \n",
              "totals_totalTransactionRevenue           0.135123          0.184333  \n",
              "totals_bounces                                NaN               NaN  \n",
              "totals_newVisits                              NaN               NaN  \n",
              "totals_hits                              0.623907          0.987265  \n",
              "totals_timeOnSite                        1.000000          0.644480  \n",
              "totals_pageviews                         0.644480          1.000000  "
            ],
            "text/html": [
              "\n",
              "  <div id=\"df-07692db1-39e3-4a89-806e-67b45ebd9155\">\n",
              "    <div class=\"colab-df-container\">\n",
              "      <div>\n",
              "<style scoped>\n",
              "    .dataframe tbody tr th:only-of-type {\n",
              "        vertical-align: middle;\n",
              "    }\n",
              "\n",
              "    .dataframe tbody tr th {\n",
              "        vertical-align: top;\n",
              "    }\n",
              "\n",
              "    .dataframe thead th {\n",
              "        text-align: right;\n",
              "    }\n",
              "</style>\n",
              "<table border=\"1\" class=\"dataframe\">\n",
              "  <thead>\n",
              "    <tr style=\"text-align: right;\">\n",
              "      <th></th>\n",
              "      <th>date</th>\n",
              "      <th>fullVisitorId</th>\n",
              "      <th>totals_visits</th>\n",
              "      <th>totals_totalTransactionRevenue</th>\n",
              "      <th>totals_bounces</th>\n",
              "      <th>totals_newVisits</th>\n",
              "      <th>totals_hits</th>\n",
              "      <th>totals_timeOnSite</th>\n",
              "      <th>totals_pageviews</th>\n",
              "    </tr>\n",
              "  </thead>\n",
              "  <tbody>\n",
              "    <tr>\n",
              "      <th>date</th>\n",
              "      <td>1.000000</td>\n",
              "      <td>-0.006308</td>\n",
              "      <td>NaN</td>\n",
              "      <td>0.047847</td>\n",
              "      <td>NaN</td>\n",
              "      <td>NaN</td>\n",
              "      <td>-0.001473</td>\n",
              "      <td>0.010124</td>\n",
              "      <td>0.006483</td>\n",
              "    </tr>\n",
              "    <tr>\n",
              "      <th>fullVisitorId</th>\n",
              "      <td>-0.006308</td>\n",
              "      <td>1.000000</td>\n",
              "      <td>NaN</td>\n",
              "      <td>0.060864</td>\n",
              "      <td>NaN</td>\n",
              "      <td>NaN</td>\n",
              "      <td>0.003682</td>\n",
              "      <td>-0.006080</td>\n",
              "      <td>0.003720</td>\n",
              "    </tr>\n",
              "    <tr>\n",
              "      <th>totals_visits</th>\n",
              "      <td>NaN</td>\n",
              "      <td>NaN</td>\n",
              "      <td>NaN</td>\n",
              "      <td>NaN</td>\n",
              "      <td>NaN</td>\n",
              "      <td>NaN</td>\n",
              "      <td>NaN</td>\n",
              "      <td>NaN</td>\n",
              "      <td>NaN</td>\n",
              "    </tr>\n",
              "    <tr>\n",
              "      <th>totals_totalTransactionRevenue</th>\n",
              "      <td>0.047847</td>\n",
              "      <td>0.060864</td>\n",
              "      <td>NaN</td>\n",
              "      <td>1.000000</td>\n",
              "      <td>NaN</td>\n",
              "      <td>NaN</td>\n",
              "      <td>0.185626</td>\n",
              "      <td>0.135123</td>\n",
              "      <td>0.184333</td>\n",
              "    </tr>\n",
              "    <tr>\n",
              "      <th>totals_bounces</th>\n",
              "      <td>NaN</td>\n",
              "      <td>NaN</td>\n",
              "      <td>NaN</td>\n",
              "      <td>NaN</td>\n",
              "      <td>NaN</td>\n",
              "      <td>NaN</td>\n",
              "      <td>NaN</td>\n",
              "      <td>NaN</td>\n",
              "      <td>NaN</td>\n",
              "    </tr>\n",
              "    <tr>\n",
              "      <th>totals_newVisits</th>\n",
              "      <td>NaN</td>\n",
              "      <td>NaN</td>\n",
              "      <td>NaN</td>\n",
              "      <td>NaN</td>\n",
              "      <td>NaN</td>\n",
              "      <td>NaN</td>\n",
              "      <td>NaN</td>\n",
              "      <td>NaN</td>\n",
              "      <td>NaN</td>\n",
              "    </tr>\n",
              "    <tr>\n",
              "      <th>totals_hits</th>\n",
              "      <td>-0.001473</td>\n",
              "      <td>0.003682</td>\n",
              "      <td>NaN</td>\n",
              "      <td>0.185626</td>\n",
              "      <td>NaN</td>\n",
              "      <td>NaN</td>\n",
              "      <td>1.000000</td>\n",
              "      <td>0.623907</td>\n",
              "      <td>0.987265</td>\n",
              "    </tr>\n",
              "    <tr>\n",
              "      <th>totals_timeOnSite</th>\n",
              "      <td>0.010124</td>\n",
              "      <td>-0.006080</td>\n",
              "      <td>NaN</td>\n",
              "      <td>0.135123</td>\n",
              "      <td>NaN</td>\n",
              "      <td>NaN</td>\n",
              "      <td>0.623907</td>\n",
              "      <td>1.000000</td>\n",
              "      <td>0.644480</td>\n",
              "    </tr>\n",
              "    <tr>\n",
              "      <th>totals_pageviews</th>\n",
              "      <td>0.006483</td>\n",
              "      <td>0.003720</td>\n",
              "      <td>NaN</td>\n",
              "      <td>0.184333</td>\n",
              "      <td>NaN</td>\n",
              "      <td>NaN</td>\n",
              "      <td>0.987265</td>\n",
              "      <td>0.644480</td>\n",
              "      <td>1.000000</td>\n",
              "    </tr>\n",
              "  </tbody>\n",
              "</table>\n",
              "</div>\n",
              "      <button class=\"colab-df-convert\" onclick=\"convertToInteractive('df-07692db1-39e3-4a89-806e-67b45ebd9155')\"\n",
              "              title=\"Convert this dataframe to an interactive table.\"\n",
              "              style=\"display:none;\">\n",
              "        \n",
              "  <svg xmlns=\"http://www.w3.org/2000/svg\" height=\"24px\"viewBox=\"0 0 24 24\"\n",
              "       width=\"24px\">\n",
              "    <path d=\"M0 0h24v24H0V0z\" fill=\"none\"/>\n",
              "    <path d=\"M18.56 5.44l.94 2.06.94-2.06 2.06-.94-2.06-.94-.94-2.06-.94 2.06-2.06.94zm-11 1L8.5 8.5l.94-2.06 2.06-.94-2.06-.94L8.5 2.5l-.94 2.06-2.06.94zm10 10l.94 2.06.94-2.06 2.06-.94-2.06-.94-.94-2.06-.94 2.06-2.06.94z\"/><path d=\"M17.41 7.96l-1.37-1.37c-.4-.4-.92-.59-1.43-.59-.52 0-1.04.2-1.43.59L10.3 9.45l-7.72 7.72c-.78.78-.78 2.05 0 2.83L4 21.41c.39.39.9.59 1.41.59.51 0 1.02-.2 1.41-.59l7.78-7.78 2.81-2.81c.8-.78.8-2.07 0-2.86zM5.41 20L4 18.59l7.72-7.72 1.47 1.35L5.41 20z\"/>\n",
              "  </svg>\n",
              "      </button>\n",
              "      \n",
              "  <style>\n",
              "    .colab-df-container {\n",
              "      display:flex;\n",
              "      flex-wrap:wrap;\n",
              "      gap: 12px;\n",
              "    }\n",
              "\n",
              "    .colab-df-convert {\n",
              "      background-color: #E8F0FE;\n",
              "      border: none;\n",
              "      border-radius: 50%;\n",
              "      cursor: pointer;\n",
              "      display: none;\n",
              "      fill: #1967D2;\n",
              "      height: 32px;\n",
              "      padding: 0 0 0 0;\n",
              "      width: 32px;\n",
              "    }\n",
              "\n",
              "    .colab-df-convert:hover {\n",
              "      background-color: #E2EBFA;\n",
              "      box-shadow: 0px 1px 2px rgba(60, 64, 67, 0.3), 0px 1px 3px 1px rgba(60, 64, 67, 0.15);\n",
              "      fill: #174EA6;\n",
              "    }\n",
              "\n",
              "    [theme=dark] .colab-df-convert {\n",
              "      background-color: #3B4455;\n",
              "      fill: #D2E3FC;\n",
              "    }\n",
              "\n",
              "    [theme=dark] .colab-df-convert:hover {\n",
              "      background-color: #434B5C;\n",
              "      box-shadow: 0px 1px 3px 1px rgba(0, 0, 0, 0.15);\n",
              "      filter: drop-shadow(0px 1px 2px rgba(0, 0, 0, 0.3));\n",
              "      fill: #FFFFFF;\n",
              "    }\n",
              "  </style>\n",
              "\n",
              "      <script>\n",
              "        const buttonEl =\n",
              "          document.querySelector('#df-07692db1-39e3-4a89-806e-67b45ebd9155 button.colab-df-convert');\n",
              "        buttonEl.style.display =\n",
              "          google.colab.kernel.accessAllowed ? 'block' : 'none';\n",
              "\n",
              "        async function convertToInteractive(key) {\n",
              "          const element = document.querySelector('#df-07692db1-39e3-4a89-806e-67b45ebd9155');\n",
              "          const dataTable =\n",
              "            await google.colab.kernel.invokeFunction('convertToInteractive',\n",
              "                                                     [key], {});\n",
              "          if (!dataTable) return;\n",
              "\n",
              "          const docLinkHtml = 'Like what you see? Visit the ' +\n",
              "            '<a target=\"_blank\" href=https://colab.research.google.com/notebooks/data_table.ipynb>data table notebook</a>'\n",
              "            + ' to learn more about interactive tables.';\n",
              "          element.innerHTML = '';\n",
              "          dataTable['output_type'] = 'display_data';\n",
              "          await google.colab.output.renderOutput(dataTable, element);\n",
              "          const docLink = document.createElement('div');\n",
              "          docLink.innerHTML = docLinkHtml;\n",
              "          element.appendChild(docLink);\n",
              "        }\n",
              "      </script>\n",
              "    </div>\n",
              "  </div>\n",
              "  "
            ]
          },
          "metadata": {},
          "execution_count": 106
        }
      ]
    },
    {
      "cell_type": "code",
      "source": [
        "from sklearn.dummy import DummyClassifier\n",
        "from sklearn.linear_model import LogisticRegression\n",
        "from sklearn.svm import SVC\n",
        "from sklearn.tree import DecisionTreeClassifier\n",
        "from sklearn.preprocessing import OneHotEncoder\n",
        "from sklearn.model_selection import train_test_split, cross_val_score\n",
        "from sklearn.metrics import recall_score\n",
        "\n",
        "import pyspark.pandas as ps\n",
        "from pyspark.ml.tuning import ParamGridBuilder, CrossValidator\n",
        "from pyspark.ml.classification import LogisticRegression, OneVsRest\n",
        "from pyspark.ml.feature import *\n",
        "from pyspark.ml.evaluation import BinaryClassificationEvaluator\n",
        "from pyspark.sql import SQLContext\n",
        "\n",
        "import chart_studio.plotly as py\n",
        "import plotly.graph_objs as go\n",
        "import requests\n",
        "requests.packages.urllib3.disable_warnings()"
      ],
      "metadata": {
        "id": "ypjujwl3iK_V"
      },
      "execution_count": null,
      "outputs": []
    },
    {
      "cell_type": "code",
      "source": [
        "spark.newSession()"
      ],
      "metadata": {
        "colab": {
          "base_uri": "https://localhost:8080/",
          "height": 220
        },
        "id": "rOpnSlEF1r2K",
        "outputId": "47a4508b-35f7-4069-8f95-d7f3c15756a6"
      },
      "execution_count": null,
      "outputs": [
        {
          "output_type": "execute_result",
          "data": {
            "text/plain": [
              "<pyspark.sql.session.SparkSession at 0x7fe75fdf2050>"
            ],
            "text/html": [
              "\n",
              "            <div>\n",
              "                <p><b>SparkSession - in-memory</b></p>\n",
              "                \n",
              "        <div>\n",
              "            <p><b>SparkContext</b></p>\n",
              "\n",
              "            <p><a href=\"http://acbd3c3e1b18:4040\">Spark UI</a></p>\n",
              "\n",
              "            <dl>\n",
              "              <dt>Version</dt>\n",
              "                <dd><code>v3.2.1</code></dd>\n",
              "              <dt>Master</dt>\n",
              "                <dd><code>local[*]</code></dd>\n",
              "              <dt>AppName</dt>\n",
              "                <dd><code>Binary Buyer Prediction</code></dd>\n",
              "            </dl>\n",
              "        </div>\n",
              "        \n",
              "            </div>\n",
              "        "
            ]
          },
          "metadata": {},
          "execution_count": 55
        }
      ]
    },
    {
      "cell_type": "code",
      "source": [
        "train = train.fillna(0)\n",
        "train.dtypes, target.dtype"
      ],
      "metadata": {
        "colab": {
          "base_uri": "https://localhost:8080/"
        },
        "id": "BnZFkTo2kOcc",
        "outputId": "2e86bff6-d2fd-4bd1-8650-9315372ce376"
      },
      "execution_count": null,
      "outputs": [
        {
          "output_type": "execute_result",
          "data": {
            "text/plain": [
              "(date                                int64\n",
              " fullVisitorId                      uint64\n",
              " totals_visits                       int64\n",
              " totals_totalTransactionRevenue    float64\n",
              " totals_bounces                    float64\n",
              " totals_newVisits                  float64\n",
              " totals_hits                         int64\n",
              " totals_timeOnSite                 float64\n",
              " totals_pageviews                  float64\n",
              " dtype: object,\n",
              " CategoricalDtype(categories=[1.0, 2.0, 3.0, 5.0, 0.0], ordered=False))"
            ]
          },
          "metadata": {},
          "execution_count": 122
        }
      ]
    },
    {
      "cell_type": "code",
      "source": [
        "X_train, X_val, y_train, y_val = train_test_split(train, target, test_size=.3, stratify=target)"
      ],
      "metadata": {
        "id": "qqkUh2VC1Auh"
      },
      "execution_count": null,
      "outputs": []
    },
    {
      "cell_type": "code",
      "source": [
        "dum_clf = DummyClassifier(strategy='stratified', random_state=RANDOM_SEED)\n",
        "# lr = LogisticRegression(solver='lbfgs', max_iter=40000)\n",
        "dtree = DecisionTreeClassifier(criterion='entropy',random_state=RANDOM_SEED)"
      ],
      "metadata": {
        "id": "_Crl_QCLsM39"
      },
      "execution_count": null,
      "outputs": []
    },
    {
      "cell_type": "code",
      "source": [
        "train_spark = processed[['date','fullVisitorId','totals_visits','totals_totalTransactionRevenue',\n",
        "               'totals_bounces','totals_newVisits','totals_hits','totals_timeOnSite',\n",
        "               'totals_pageviews', 'totals_transactions']]\n",
        "\n",
        "train_spark = spark.createDataFrame(train_spark).withColumn('label', col('totals_transactions'))\n",
        "train_spark = (train_spark.withColumn('label', when(train_spark['totals_transactions'] == np.nan, 0.0).otherwise(1.0)))\n",
        "train_spark = train_spark.dropna(subset=['fullVisitorId'])\n",
        "\n",
        "# train_spark.select('*').filter(col('label')==0.0).head(2)\n",
        "train_spark.select([(count(when(col(c).contains('None') | \\\n",
        "                              col(c).contains('NULL') | \\\n",
        "                              (col(c) == '') | \\\n",
        "                              col(c).isNull() | \\\n",
        "                              isnan(c) , c)) / count('*')).alias(c) for c in train_spark.columns]).show()\n"
      ],
      "metadata": {
        "id": "H6eDwMV-Co_n",
        "colab": {
          "base_uri": "https://localhost:8080/"
        },
        "outputId": "3d73ab93-5ef2-4d14-dc0d-abeec8389846"
      },
      "execution_count": null,
      "outputs": [
        {
          "output_type": "stream",
          "name": "stdout",
          "text": [
            "+----+-------------+-------------+------------------------------+------------------+------------------+-----------+------------------+--------------------+-------------------+-----+\n",
            "|date|fullVisitorId|totals_visits|totals_totalTransactionRevenue|    totals_bounces|  totals_newVisits|totals_hits| totals_timeOnSite|    totals_pageviews|totals_transactions|label|\n",
            "+----+-------------+-------------+------------------------------+------------------+------------------+-----------+------------------+--------------------+-------------------+-----+\n",
            "| 0.0|          0.0|          0.0|            0.9883119946814214|0.4987025241802312|0.2068669711981814|        0.0|0.5023697698856935|8.578352527397113E-5| 0.9882691029187844|  0.0|\n",
            "+----+-------------+-------------+------------------------------+------------------+------------------+-----------+------------------+--------------------+-------------------+-----+\n",
            "\n"
          ]
        }
      ]
    },
    {
      "cell_type": "code",
      "source": [
        "# X_train_spark = spark.createDataFrame(X_train)\n",
        "# X_val_spark = spark.createDataFrame(X_val)\n",
        "# y_train_spark = ps.from_pandas(y_train)\n",
        "# y_val_spark = ps.from_pandas(y_val)"
      ],
      "metadata": {
        "id": "x1GVUko_zI9f"
      },
      "execution_count": null,
      "outputs": []
    },
    {
      "cell_type": "code",
      "source": [
        "for c in train_spark.columns:\n",
        "  if c != 'fullVisitorId':\n",
        "    train_spark = train_spark.withColumn(c, \n",
        "                                  train_spark[c]\n",
        "                                  .cast('int'))\n",
        "train_spark.head()"
      ],
      "metadata": {
        "colab": {
          "base_uri": "https://localhost:8080/"
        },
        "id": "U48vLp3gy4m9",
        "outputId": "83bbaa9c-7ae8-4bf7-acd5-6bc8059ec7c2"
      },
      "execution_count": null,
      "outputs": [
        {
          "output_type": "execute_result",
          "data": {
            "text/plain": [
              "Row(date=20160801, fullVisitorId=5160807529212499245, totals_visits=1, totals_bounces=0, totals_newVisits=1, totals_hits=10, totals_timeOnSite=148, totals_pageviews=9, totals_transactions=0, label=0)"
            ]
          },
          "metadata": {},
          "execution_count": 197
        }
      ]
    },
    {
      "cell_type": "code",
      "source": [
        "train_spark = train_spark.drop('totals_totalTransactionRevenue').na.fill({'totals_bounces':0.0, 'totals_newVisits':0.0,\n",
        "                                                                          'totals_timeOnSite':0.0, 'totals_pageviews':0.0,\n",
        "                                                                          'totals_transactions':0.0})\n",
        "X_train_spark, X_val_spark, X_test_spark = train_spark.randomSplit([0.8, 0.1, 0.1], seed=RANDOM_SEED)"
      ],
      "metadata": {
        "id": "vBX6HFB_fzU5"
      },
      "execution_count": null,
      "outputs": []
    },
    {
      "cell_type": "code",
      "source": [
        "spark_lr = LogisticRegression(maxIter=100000, featuresCol='features',labelCol='label')\n",
        "paramGrid = ParamGridBuilder()\\\n",
        "    .addGrid(spark_lr.regParam, [0.1, 0.01])\\\n",
        "    .build()\n",
        "\n",
        "cols = [col for col in X_train_spark.columns if (col not in set(['totals_transactions','label','fullVisitorId']))]\n",
        "vec = VectorAssembler(inputCols=cols, outputCol='features', handleInvalid='keep')\n",
        "\n",
        "pipeline = Pipeline(stages=[vec, spark_lr])\n",
        "crossval = CrossValidator(estimator=pipeline,\n",
        "                          estimatorParamMaps=paramGrid,\n",
        "                          evaluator=BinaryClassificationEvaluator(),\n",
        "                          numFolds=10)"
      ],
      "metadata": {
        "id": "rbEyKDSo4VaW"
      },
      "execution_count": null,
      "outputs": []
    },
    {
      "cell_type": "code",
      "source": [
        "crossval = crossval.fit(X_train_spark)\n",
        "model1 = crossval.bestModel.stages[1]"
      ],
      "metadata": {
        "id": "Dp5bwr_84u6h"
      },
      "execution_count": null,
      "outputs": []
    },
    {
      "cell_type": "code",
      "source": [
        "prediction = model1.predict(X_val_spark)\n",
        "selected = prediction.select(\"probability\", \"prediction\")"
      ],
      "metadata": {
        "id": "9awrX2Y6oTXr"
      },
      "execution_count": null,
      "outputs": []
    },
    {
      "cell_type": "code",
      "source": [
        ""
      ],
      "metadata": {
        "id": "0fNfwStyphWx"
      },
      "execution_count": null,
      "outputs": []
    }
  ]
}