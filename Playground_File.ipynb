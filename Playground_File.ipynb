{
  "nbformat": 4,
  "nbformat_minor": 0,
  "metadata": {
    "colab": {
      "name": "Playground_File.ipynb",
      "provenance": [],
      "authorship_tag": "ABX9TyM7N9J5GAS/l8hKxuQ0/X7/",
      "include_colab_link": true
    },
    "kernelspec": {
      "name": "python3",
      "display_name": "Python 3"
    },
    "language_info": {
      "name": "python"
    }
  },
  "cells": [
    {
      "cell_type": "markdown",
      "metadata": {
        "id": "view-in-github",
        "colab_type": "text"
      },
      "source": [
        "<a href=\"https://colab.research.google.com/github/tiaaburton/Milestone-II-Machine-Learning-Project/blob/main/Playground_File.ipynb\" target=\"_parent\"><img src=\"https://colab.research.google.com/assets/colab-badge.svg\" alt=\"Open In Colab\"/></a>"
      ]
    },
    {
      "cell_type": "code",
      "source": [
        "from google.colab import drive\n",
        "drive.mount('/content/drive')"
      ],
      "metadata": {
        "colab": {
          "base_uri": "https://localhost:8080/"
        },
        "id": "8xmGL6kAav-u",
        "outputId": "28fc256c-70d8-4f75-cee7-85fc7ec7ec2d"
      },
      "execution_count": 2,
      "outputs": [
        {
          "output_type": "stream",
          "name": "stdout",
          "text": [
            "Drive already mounted at /content/drive; to attempt to forcibly remount, call drive.mount(\"/content/drive\", force_remount=True).\n"
          ]
        }
      ]
    },
    {
      "cell_type": "code",
      "source": [
        "! pip install pyspark"
      ],
      "metadata": {
        "colab": {
          "base_uri": "https://localhost:8080/"
        },
        "id": "7AYBIUcSa46S",
        "outputId": "c2dbccf8-a053-4339-ff85-96f47d135892"
      },
      "execution_count": 39,
      "outputs": [
        {
          "output_type": "stream",
          "name": "stdout",
          "text": [
            "Requirement already satisfied: pyspark in /usr/local/lib/python3.7/dist-packages (3.2.1)\n",
            "Requirement already satisfied: py4j==0.10.9.3 in /usr/local/lib/python3.7/dist-packages (from pyspark) (0.10.9.3)\n"
          ]
        }
      ]
    },
    {
      "cell_type": "code",
      "source": [
        "! pip install pyspark[pandas-on-spark] plotly"
      ],
      "metadata": {
        "colab": {
          "base_uri": "https://localhost:8080/"
        },
        "id": "TKJ-8GoAa7uG",
        "outputId": "afdc9a73-9d9a-4be2-bea9-cf7fa21dc736"
      },
      "execution_count": 40,
      "outputs": [
        {
          "output_type": "stream",
          "name": "stdout",
          "text": [
            "Requirement already satisfied: pyspark[pandas-on-spark] in /usr/local/lib/python3.7/dist-packages (3.2.1)\n",
            "Requirement already satisfied: plotly in /usr/local/lib/python3.7/dist-packages (5.5.0)\n",
            "Requirement already satisfied: tenacity>=6.2.0 in /usr/local/lib/python3.7/dist-packages (from plotly) (8.0.1)\n",
            "Requirement already satisfied: six in /usr/local/lib/python3.7/dist-packages (from plotly) (1.15.0)\n",
            "\u001b[33mWARNING: pyspark 3.2.1 does not provide the extra 'pandas-on-spark'\u001b[0m\n",
            "Requirement already satisfied: py4j==0.10.9.3 in /usr/local/lib/python3.7/dist-packages (from pyspark[pandas-on-spark]) (0.10.9.3)\n"
          ]
        }
      ]
    },
    {
      "cell_type": "code",
      "execution_count": 42,
      "metadata": {
        "id": "Mjw6Q2RoZLhi"
      },
      "outputs": [],
      "source": [
        "import pandas as pd\n",
        "import numpy as np\n",
        "import re\n",
        "import os\n",
        "import sys\n",
        "\n",
        "from google.cloud import bigquery\n",
        "import pyarrow\n",
        "from datetime import datetime\n",
        "from tqdm import tqdm\n",
        "\n",
        "from oauth2client.client import GoogleCredentials\n",
        "from google.colab import auth, files\n",
        "\n",
        "import ast\n",
        "import json\n",
        "import re\n",
        "import random\n",
        "\n",
        "import pyspark\n",
        "from pyspark.sql.functions import *\n",
        "from pyspark.sql import SparkSession\n",
        "import pyspark.ml\n",
        "from pyspark.ml import *\n",
        "\n"
      ]
    },
    {
      "cell_type": "code",
      "source": [
        "RANDOM_SEED = 655"
      ],
      "metadata": {
        "id": "_p96T5Bj0ZjU"
      },
      "execution_count": 27,
      "outputs": []
    },
    {
      "cell_type": "code",
      "source": [
        "spark = SparkSession.builder \\\n",
        "    .master(\"local[*]\") \\\n",
        "    .appName(\"Binary Buyer Prediction\") \\\n",
        "    .getOrCreate()"
      ],
      "metadata": {
        "id": "z-mq7l5abJJP"
      },
      "execution_count": 43,
      "outputs": []
    },
    {
      "cell_type": "code",
      "source": [
        "sample = spark.read.csv('/content/drive/Shareddrives/SIADS - 694-695 Team Drive/processed_file.csv', header=True).withColumnRenamed('_c0','index')"
      ],
      "metadata": {
        "id": "UWUOisPydQ00"
      },
      "execution_count": null,
      "outputs": []
    },
    {
      "cell_type": "code",
      "source": [
        "# sample.head()"
      ],
      "metadata": {
        "colab": {
          "base_uri": "https://localhost:8080/"
        },
        "id": "DvqLaswfdiJI",
        "outputId": "6147c71e-dfbc-4b86-aeb8-786a9b672736"
      },
      "execution_count": null,
      "outputs": [
        {
          "output_type": "execute_result",
          "data": {
            "text/plain": [
              "Row(index='0', date='20160801', geoNetwork=\"{'continent': 'Americas', 'subContinent': 'Northern America', 'country': 'United States', 'region': 'not available in demo dataset', 'metro': 'not available in demo dataset', 'city': 'not available in demo dataset', 'cityId': 'not available in demo dataset', 'networkDomain': 'unknown.unknown', 'latitude': 'not available in demo dataset', 'longitude': 'not available in demo dataset', 'networkLocation': 'not available in demo dataset'}\", channelGrouping='Social', fullVisitorId='7305625498291809599', socialEngagementType='Not Socially Engaged', trafficSource=\"{'referralPath': '/yt/about/', 'campaign': '(not set)', 'source': 'youtube.com', 'medium': 'referral', 'keyword': None, 'adContent': None, 'adwordsClickInfo': {'campaignId': None, 'adGroupId': None, 'creativeId': None, 'criteriaId': None, 'page': None, 'slot': None, 'criteriaParameters': 'not available in demo dataset', 'gclId': None, 'customerId': None, 'adNetworkType': None, 'targetingCriteria': None, 'isVideoAd': None}, 'isTrueDirect': None, 'campaignCode': None}\", device=\"{'browser': 'Internet Explorer', 'browserVersion': 'not available in demo dataset', 'browserSize': 'not available in demo dataset', 'operatingSystem': 'Windows', 'operatingSystemVersion': 'not available in demo dataset', 'isMobile': False, 'mobileDeviceBranding': 'not available in demo dataset', 'mobileDeviceModel': 'not available in demo dataset', 'mobileInputSelector': 'not available in demo dataset', 'mobileDeviceInfo': 'not available in demo dataset', 'mobileDeviceMarketingName': 'not available in demo dataset', 'flashVersion': 'not available in demo dataset', 'javaEnabled': None, 'language': 'not available in demo dataset', 'screenColors': 'not available in demo dataset', 'screenResolution': 'not available in demo dataset', 'deviceCategory': 'desktop'}\", totals=\"{'visits': 1, 'hits': 4, 'pageviews': 2, 'timeOnSite': 122, 'bounces': None, 'transactions': None, 'transactionRevenue': None, 'newVisits': 1, 'screenviews': None, 'uniqueScreenviews': None, 'timeOnScreen': None, 'totalTransactionRevenue': None, 'sessionQualityDim': None}\", hits=\"[{'hitNumber': 1, 'time': 0, 'hour': 15, 'minute': 33, 'isSecure': None, 'isInteraction': True, 'isEntrance': True, 'isExit': None, 'referer': 'https://www.youtube.com/yt/about/', 'page': {'pagePath': '/home', 'hostname': 'shop.googlemerchandisestore.com', 'pageTitle': 'Home', 'searchKeyword': None, 'searchCategory': None, 'pagePathLevel1': '/home', 'pagePathLevel2': '', 'pagePathLevel3': '', 'pagePathLevel4': ''}, 'transaction': None, 'item': None, 'contentInfo': None, 'appInfo': {'name': None, 'version': None, 'id': None, 'installerId': None, 'appInstallerId': None, 'appName': None, 'appVersion': None, 'appId': None, 'screenName': 'shop.googlemerchandisestore.com/home', 'landingScreenName': 'shop.googlemerchandisestore.com/home', 'exitScreenName': 'shop.googlemerchandisestore.com/google+redesign/bags/backpacks', 'screenDepth': '0'}, 'exceptionInfo': {'description': None, 'isFatal': True, 'exceptions': None, 'fatalExceptions': None}, 'eventInfo': None, 'product': [], 'promotion': [], 'promotionActionInfo': None, 'refund': None, 'eCommerceAction': {'action_type': '0', 'step': 1, 'option': None}, 'experiment': [], 'publisher': None, 'customVariables': [], 'customDimensions': [], 'customMetrics': [], 'type': 'PAGE', 'social': {'socialInteractionNetwork': None, 'socialInteractionAction': None, 'socialInteractions': None, 'socialInteractionTarget': None, 'socialNetwork': 'YouTube', 'uniqueSocialInteractions': None, 'hasSocialSourceReferral': 'Yes', 'socialInteractionNetworkAction': ' : '}, 'latencyTracking': None, 'sourcePropertyInfo': None, 'contentGroup': {'contentGroup1': '(not set)', 'contentGroup2': '(not set)', 'contentGroup3': '(not set)', 'contentGroup4': '(not set)', 'contentGroup5': '(not set)', 'previousContentGroup1': '(entrance)', 'previousContentGroup2': '(entrance)', 'previousContentGroup3': '(entrance)', 'previousContentGroup4': '(entrance)', 'previousContentGroup5': '(entrance)', 'contentGroupUniqueViews1': None, 'contentGroupUniqueViews2': None, 'contentGroupUniqueViews3': None, 'contentGroupUniqueViews4': None, 'contentGroupUniqueViews5': None}, 'dataSource': None, 'publisher_infos': []}, {'hitNumber': 2, 'time': 53689, 'hour': 15, 'minute': 34, 'isSecure': None, 'isInteraction': True, 'isEntrance': None, 'isExit': None, 'referer': 'https://www.youtube.com/yt/about/', 'page': {'pagePath': '/home', 'hostname': 'shop.googlemerchandisestore.com', 'pageTitle': 'Home', 'searchKeyword': None, 'searchCategory': None, 'pagePathLevel1': '/home', 'pagePathLevel2': '', 'pagePathLevel3': '', 'pagePathLevel4': ''}, 'transaction': None, 'item': None, 'contentInfo': None, 'appInfo': {'name': None, 'version': None, 'id': None, 'installerId': None, 'appInstallerId': None, 'appName': None, 'appVersion': None, 'appId': None, 'screenName': 'shop.googlemerchandisestore.com/home', 'landingScreenName': 'shop.googlemerchandisestore.com/home', 'exitScreenName': 'shop.googlemerchandisestore.com/google+redesign/bags/backpacks', 'screenDepth': '0'}, 'exceptionInfo': {'description': None, 'isFatal': True, 'exceptions': None, 'fatalExceptions': None}, 'eventInfo': {'eventCategory': 'Enhanced Ecommerce', 'eventAction': 'Promotion Click', 'eventLabel': None, 'eventValue': None}, 'product': [], 'promotion': [{'promoId': 'Backpacks Row 2 Combo', 'promoName': 'Backpacks', 'promoCreative': 'home_bags_google_2.jpg', 'promoPosition': 'Row 2 Combo'}], 'promotionActionInfo': {'promoIsView': None, 'promoIsClick': True}, 'refund': None, 'eCommerceAction': {'action_type': '0', 'step': 1, 'option': None}, 'experiment': [], 'publisher': None, 'customVariables': [], 'customDimensions': [], 'customMetrics': [], 'type': 'EVENT', 'social': {'socialInteractionNetwork': None, 'socialInteractionAction': None, 'socialInteractions': None, 'socialInteractionTarget': None, 'socialNetwork': 'YouTube', 'uniqueSocialInteractions': None, 'hasSocialSourceReferral': 'Yes', 'socialInteractionNetworkAction': ' : '}, 'latencyTracking': None, 'sourcePropertyInfo': None, 'contentGroup': {'contentGroup1': '(not set)', 'contentGroup2': '(not set)', 'contentGroup3': '(not set)', 'contentGroup4': '(not set)', 'contentGroup5': '(not set)', 'previousContentGroup1': '(not set)', 'previousContentGroup2': '(not set)', 'previousContentGroup3': '(not set)', 'previousContentGroup4': '(not set)', 'previousContentGroup5': '(not set)', 'contentGroupUniqueViews1': None, 'contentGroupUniqueViews2': None, 'contentGroupUniqueViews3': None, 'contentGroupUniqueViews4': None, 'contentGroupUniqueViews5': None}, 'dataSource': None, 'publisher_infos': []}, {'hitNumber': 3, 'time': 72874, 'hour': 15, 'minute': 35, 'isSecure': None, 'isInteraction': True, 'isEntrance': None, 'isExit': True, 'referer': None, 'page': {'pagePath': '/google+redesign/bags/backpacks', 'hostname': 'shop.googlemerchandisestore.com', 'pageTitle': 'Backpacks', 'searchKeyword': None, 'searchCategory': None, 'pagePathLevel1': '/google+redesign/', 'pagePathLevel2': '/bags/', 'pagePathLevel3': '/backpacks', 'pagePathLevel4': ''}, 'transaction': {'transactionId': None, 'transactionRevenue': None, 'transactionTax': None, 'transactionShipping': None, 'affiliation': None, 'currencyCode': 'USD', 'localTransactionRevenue': None, 'localTransactionTax': None, 'localTransactionShipping': None, 'transactionCoupon': None}, 'item': {'transactionId': None, 'productName': None, 'productCategory': None, 'productSku': None, 'itemQuantity': None, 'itemRevenue': None, 'currencyCode': 'USD', 'localItemRevenue': None}, 'contentInfo': None, 'appInfo': {'name': None, 'version': None, 'id': None, 'installerId': None, 'appInstallerId': None, 'appName': None, 'appVersion': None, 'appId': None, 'screenName': 'shop.googlemerchandisestore.com/google+redesign/bags/backpacks', 'landingScreenName': 'shop.googlemerchandisestore.com/home', 'exitScreenName': 'shop.googlemerchandisestore.com/google+redesign/bags/backpacks', 'screenDepth': '0'}, 'exceptionInfo': {'description': None, 'isFatal': True, 'exceptions': None, 'fatalExceptions': None}, 'eventInfo': None, 'product': [{'productSKU': 'GGOEGBRJ037399', 'v2ProductName': 'Mistral Rucksack', 'v2ProductCategory': 'Home/Limited Supply/Bags/Backpacks/', 'productVariant': '(not set)', 'productBrand': '(not set)', 'productRevenue': None, 'localProductRevenue': None, 'productPrice': 69990000, 'localProductPrice': 69990000, 'productQuantity': None, 'productRefundAmount': None, 'localProductRefundAmount': None, 'isImpression': True, 'isClick': None, 'customDimensions': [], 'customMetrics': [], 'productListName': 'Category', 'productListPosition': 1}, {'productSKU': 'GGOEGBMC056599', 'v2ProductName': 'Waterpoof Gear Bag', 'v2ProductCategory': 'Home/Limited Supply/Bags/Backpacks/', 'productVariant': '(not set)', 'productBrand': '(not set)', 'productRevenue': None, 'localProductRevenue': None, 'productPrice': 79990000, 'localProductPrice': 79990000, 'productQuantity': None, 'productRefundAmount': None, 'localProductRefundAmount': None, 'isImpression': True, 'isClick': None, 'customDimensions': [], 'customMetrics': [], 'productListName': 'Category', 'productListPosition': 2}, {'productSKU': 'GGOEGBRA037499', 'v2ProductName': 'Deluge Waterproof Backpack', 'v2ProductCategory': 'Home/Limited Supply/Bags/Backpacks/', 'productVariant': '(not set)', 'productBrand': '(not set)', 'productRevenue': None, 'localProductRevenue': None, 'productPrice': 99990000, 'localProductPrice': 99990000, 'productQuantity': None, 'productRefundAmount': None, 'localProductRefundAmount': None, 'isImpression': True, 'isClick': None, 'customDimensions': [], 'customMetrics': [], 'productListName': 'Category', 'productListPosition': 3}, {'productSKU': 'GGOEGBRJ037299', 'v2ProductName': 'Oasis Backpack', 'v2ProductCategory': 'Home/Limited Supply/Bags/Backpacks/', 'productVariant': '(not set)', 'productBrand': '(not set)', 'productRevenue': None, 'localProductRevenue': None, 'productPrice': 99990000, 'localProductPrice': 99990000, 'productQuantity': None, 'productRefundAmount': None, 'localProductRefundAmount': None, 'isImpression': True, 'isClick': None, 'customDimensions': [], 'customMetrics': [], 'productListName': 'Category', 'productListPosition': 4}, {'productSKU': 'GGOEGBRB013899', 'v2ProductName': 'Solo Pro Backpack', 'v2ProductCategory': 'Home/Limited Supply/Bags/Backpacks/', 'productVariant': '(not set)', 'productBrand': '(not set)', 'productRevenue': None, 'localProductRevenue': None, 'productPrice': 99990000, 'localProductPrice': 99990000, 'productQuantity': None, 'productRefundAmount': None, 'localProductRefundAmount': None, 'isImpression': True, 'isClick': None, 'customDimensions': [], 'customMetrics': [], 'productListName': 'Category', 'productListPosition': 5}], 'promotion': [], 'promotionActionInfo': None, 'refund': None, 'eCommerceAction': {'action_type': '0', 'step': 1, 'option': None}, 'experiment': [], 'publisher': None, 'customVariables': [], 'customDimensions': [], 'customMetrics': [], 'type': 'PAGE', 'social': {'socialInteractionNetwork': None, 'socialInteractionAction': None, 'socialInteractions': None, 'socialInteractionTarget': None, 'socialNetwork': 'YouTube', 'uniqueSocialInteractions': None, 'hasSocialSourceReferral': 'Yes', 'socialInteractionNetworkAction': ' : '}, 'latencyTracking': None, 'sourcePropertyInfo': None, 'contentGroup': {'contentGroup1': '(not set)', 'contentGroup2': 'Bags', 'contentGroup3': '(not set)', 'contentGroup4': '(not set)', 'contentGroup5': '(not set)', 'previousContentGroup1': '(not set)', 'previousContentGroup2': '(not set)', 'previousContentGroup3': '(not set)', 'previousContentGroup4': '(not set)', 'previousContentGroup5': '(not set)', 'contentGroupUniqueViews1': None, 'contentGroupUniqueViews2': 1, 'contentGroupUniqueViews3': None, 'contentGroupUniqueViews4': None, 'contentGroupUniqueViews5': None}, 'dataSource': None, 'publisher_infos': []}, {'hitNumber': 4, 'time': 122071, 'hour': 15, 'minute': 35, 'isSecure': None, 'isInteraction': True, 'isEntrance': None, 'isExit': None, 'referer': None, 'page': {'pagePath': '/google+redesign/bags/backpacks', 'hostname': 'shop.googlemerchandisestore.com', 'pageTitle': 'Backpacks', 'searchKeyword': None, 'searchCategory': None, 'pagePathLevel1': '/google+redesign/', 'pagePathLevel2': '/bags/', 'pagePathLevel3': '/backpacks', 'pagePathLevel4': ''}, 'transaction': {'transactionId': None, 'transactionRevenue': None, 'transactionTax': None, 'transactionShipping': None, 'affiliation': None, 'currencyCode': 'USD', 'localTransactionRevenue': None, 'localTransactionTax': None, 'localTransactionShipping': None, 'transactionCoupon': None}, 'item': {'transactionId': None, 'productName': None, 'productCategory': None, 'productSku': None, 'itemQuantity': None, 'itemRevenue': None, 'currencyCode': 'USD', 'localItemRevenue': None}, 'contentInfo': None, 'appInfo': {'name': None, 'version': None, 'id': None, 'installerId': None, 'appInstallerId': None, 'appName': None, 'appVersion': None, 'appId': None, 'screenName': 'shop.googlemerchandisestore.com/google+redesign/bags/backpacks', 'landingScreenName': 'shop.googlemerchandisestore.com/home', 'exitScreenName': 'shop.googlemerchandisestore.com/google+redesign/bags/backpacks', 'screenDepth': '0'}, 'exceptionInfo': {'description': None, 'isFatal': True, 'exceptions': None, 'fatalExceptions': None}, 'eventInfo': {'eventCategory': 'Contact Us', 'eventAction': 'Onsite Click', 'eventLabel': 'Phone', 'eventValue': None}, 'product': [{'productSKU': 'GGOEGBRJ037399', 'v2ProductName': 'Mistral Rucksack', 'v2ProductCategory': 'Home/Limited Supply/Bags/Backpacks/', 'productVariant': '(not set)', 'productBrand': '(not set)', 'productRevenue': None, 'localProductRevenue': None, 'productPrice': 69990000, 'localProductPrice': 69990000, 'productQuantity': None, 'productRefundAmount': None, 'localProductRefundAmount': None, 'isImpression': True, 'isClick': None, 'customDimensions': [], 'customMetrics': [], 'productListName': 'Category', 'productListPosition': 1}, {'productSKU': 'GGOEGBMC056599', 'v2ProductName': 'Waterpoof Gear Bag', 'v2ProductCategory': 'Home/Limited Supply/Bags/Backpacks/', 'productVariant': '(not set)', 'productBrand': '(not set)', 'productRevenue': None, 'localProductRevenue': None, 'productPrice': 79990000, 'localProductPrice': 79990000, 'productQuantity': None, 'productRefundAmount': None, 'localProductRefundAmount': None, 'isImpression': True, 'isClick': None, 'customDimensions': [], 'customMetrics': [], 'productListName': 'Category', 'productListPosition': 2}, {'productSKU': 'GGOEGBRA037499', 'v2ProductName': 'Deluge Waterproof Backpack', 'v2ProductCategory': 'Home/Limited Supply/Bags/Backpacks/', 'productVariant': '(not set)', 'productBrand': '(not set)', 'productRevenue': None, 'localProductRevenue': None, 'productPrice': 99990000, 'localProductPrice': 99990000, 'productQuantity': None, 'productRefundAmount': None, 'localProductRefundAmount': None, 'isImpression': True, 'isClick': None, 'customDimensions': [], 'customMetrics': [], 'productListName': 'Category', 'productListPosition': 3}, {'productSKU': 'GGOEGBRJ037299', 'v2ProductName': 'Oasis Backpack', 'v2ProductCategory': 'Home/Limited Supply/Bags/Backpacks/', 'productVariant': '(not set)', 'productBrand': '(not set)', 'productRevenue': None, 'localProductRevenue': None, 'productPrice': 99990000, 'localProductPrice': 99990000, 'productQuantity': None, 'productRefundAmount': None, 'localProductRefundAmount': None, 'isImpression': True, 'isClick': None, 'customDimensions': [], 'customMetrics': [], 'productListName': 'Category', 'productListPosition': 4}, {'productSKU': 'GGOEGBRB013899', 'v2ProductName': 'Solo Pro Backpack', 'v2ProductCategory': 'Home/Limited Supply/Bags/Backpacks/', 'productVariant': '(not set)', 'productBrand': '(not set)', 'productRevenue': None, 'localProductRevenue': None, 'productPrice': 99990000, 'localProductPrice': 99990000, 'productQuantity': None, 'productRefundAmount': None, 'localProductRefundAmount': None, 'isImpression': True, 'isClick': None, 'customDimensions': [], 'customMetrics': [], 'productListName': 'Category', 'productListPosition': 5}], 'promotion': [], 'promotionActionInfo': None, 'refund': None, 'eCommerceAction': {'action_type': '0', 'step': 1, 'option': None}, 'experiment': [], 'publisher': None, 'customVariables': [], 'customDimensions': [], 'customMetrics': [], 'type': 'EVENT', 'social': {'socialInteractionNetwork': None, 'socialInteractionAction': None, 'socialInteractions': None, 'socialInteractionTarget': None, 'socialNetwork': 'YouTube', 'uniqueSocialInteractions': None, 'hasSocialSourceReferral': 'Yes', 'socialInteractionNetworkAction': ' : '}, 'latencyTracking': None, 'sourcePropertyInfo': None, 'contentGroup': {'contentGroup1': '(not set)', 'contentGroup2': 'Bags', 'contentGroup3': '(not set)', 'contentGroup4': '(not set)', 'contentGroup5': '(not set)', 'previousContentGroup1': '(not set)', 'previousContentGroup2': 'Bags', 'previousContentGroup3': '(not set)', 'previousContentGroup4': '(not set)', 'previousContentGroup5': '(not set)', 'contentGroupUniqueViews1': None, 'contentGroupUniqueViews2': None, 'contentGroupUniqueViews3': None, 'contentGroupUniqueViews4': None, 'contentGroupUniqueViews5': None}, 'dataSource': None, 'publisher_infos': []}]\", hits.type=\"['PAGE', 'EVENT', 'PAGE', 'EVENT']\", hits.hour='[15, 15, 15, 15]', hits.minute='[33, 34, 35, 35]', hits.transaction=\"[None, None, {'transactionId': None, 'transactionRevenue': None, 'transactionTax': None, 'transactionShipping': None, 'affiliation': None, 'currencyCode': 'USD', 'localTransactionRevenue': None, 'localTransactionTax': None, 'localTransactionShipping': None, 'transactionCoupon': None}, {'transactionId': None, 'transactionRevenue': None, 'transactionTax': None, 'transactionShipping': None, 'affiliation': None, 'currencyCode': 'USD', 'localTransactionRevenue': None, 'localTransactionTax': None, 'localTransactionShipping': None, 'transactionCoupon': None}]\", hits.item=\"[None, None, {'transactionId': None, 'productName': None, 'productCategory': None, 'productSku': None, 'itemQuantity': None, 'itemRevenue': None, 'currencyCode': 'USD', 'localItemRevenue': None}, {'transactionId': None, 'productName': None, 'productCategory': None, 'productSku': None, 'itemQuantity': None, 'itemRevenue': None, 'currencyCode': 'USD', 'localItemRevenue': None}]\", hits.dataSource='[None, None, None, None]', hits.appInfo=\"[{'name': None, 'version': None, 'id': None, 'installerId': None, 'appInstallerId': None, 'appName': None, 'appVersion': None, 'appId': None, 'screenName': 'shop.googlemerchandisestore.com/home', 'landingScreenName': 'shop.googlemerchandisestore.com/home', 'exitScreenName': 'shop.googlemerchandisestore.com/google+redesign/bags/backpacks', 'screenDepth': '0'}, {'name': None, 'version': None, 'id': None, 'installerId': None, 'appInstallerId': None, 'appName': None, 'appVersion': None, 'appId': None, 'screenName': 'shop.googlemerchandisestore.com/home', 'landingScreenName': 'shop.googlemerchandisestore.com/home', 'exitScreenName': 'shop.googlemerchandisestore.com/google+redesign/bags/backpacks', 'screenDepth': '0'}, {'name': None, 'version': None, 'id': None, 'installerId': None, 'appInstallerId': None, 'appName': None, 'appVersion': None, 'appId': None, 'screenName': 'shop.googlemerchandisestore.com/google+redesign/bags/backpacks', 'landingScreenName': 'shop.googlemerchandisestore.com/home', 'exitScreenName': 'shop.googlemerchandisestore.com/google+redesign/bags/backpacks', 'screenDepth': '0'}, {'name': None, 'version': None, 'id': None, 'installerId': None, 'appInstallerId': None, 'appName': None, 'appVersion': None, 'appId': None, 'screenName': 'shop.googlemerchandisestore.com/google+redesign/bags/backpacks', 'landingScreenName': 'shop.googlemerchandisestore.com/home', 'exitScreenName': 'shop.googlemerchandisestore.com/google+redesign/bags/backpacks', 'screenDepth': '0'}]\", hits.eCommerceAction=\"[{'action_type': '0', 'step': 1, 'option': None}, {'action_type': '0', 'step': 1, 'option': None}, {'action_type': '0', 'step': 1, 'option': None}, {'action_type': '0', 'step': 1, 'option': None}]\", trafficSource.source='youtube.com', totals.visits='1', totals.screenviews=None, device.browser='Internet Explorer', totals.totalTransactionRevenue=None, totals.bounces=None, totals.uniqueScreenviews=None, totals.newVisits='1.0', trafficSource.isTrueDirect=None, trafficSource.medium='referral', totals.hits='4', totals.transactions=None, totals.timeOnScreen=None, totals.timeOnSite='122.0', geoNetwork.country='United States', device.operatingSystem='Windows', device.deviceCategory='desktop', totals.pageviews='2.0', hits.appInfo.screenDepth=\"['0', '0', '0', '0']\", hits.eCommerceAction.action_type=\"['0', '0', '0', '0']\", hits.transaction.transactionRevenue='[None, None]', hits.item.productName='[None, None]', hits.item.itemRevenue='[None, None]', hits.item.productCategory='[None, None]')"
            ]
          },
          "metadata": {},
          "execution_count": 23
        }
      ]
    },
    {
      "cell_type": "code",
      "source": [
        "# sample.printSchema()"
      ],
      "metadata": {
        "id": "wC-SxoiJeslB"
      },
      "execution_count": null,
      "outputs": []
    },
    {
      "cell_type": "code",
      "source": [
        "from collections import Counter\n",
        "core = [col for col in sample.columns if '.' not in col]\n",
        "additional = [col for col in sample.columns if '.' in col]\n",
        "second = []\n",
        "third = []\n",
        "\n",
        "for col in additional:\n",
        "  count = Counter(col)\n",
        "  if count['.'] == 1:\n",
        "    second.append(col)\n",
        "  elif count['.'] == 2:\n",
        "    third.append(col)"
      ],
      "metadata": {
        "id": "UODMsnxk8GF6"
      },
      "execution_count": null,
      "outputs": []
    },
    {
      "cell_type": "code",
      "source": [
        "# second.sort()\n",
        "# third.sort()"
      ],
      "metadata": {
        "id": "UxHyWIU4grOK"
      },
      "execution_count": null,
      "outputs": []
    },
    {
      "cell_type": "code",
      "source": [
        "# input = sample.select(core)"
      ],
      "metadata": {
        "id": "dRO57xWMdwc2"
      },
      "execution_count": null,
      "outputs": []
    },
    {
      "cell_type": "code",
      "source": [
        "# for ls in [second, third]:\n",
        "#   for col in ls:\n",
        "#     split = col.split('.')\n",
        "#     input = input.withColumn(col, get_json_object(split[0], '$.'+split[1]))"
      ],
      "metadata": {
        "id": "GY2NbOTFBYUL"
      },
      "execution_count": null,
      "outputs": []
    },
    {
      "cell_type": "code",
      "source": [
        "# import json\n",
        "# from pyspark.sql.types import *\n",
        "\n",
        "# split = second[0].strip().split('.')\n",
        "\n",
        "# def parse_json(array_str):\n",
        "#   json_obj = json.loads(array_str)\n",
        "#   for item in json_obj:\n",
        "#     yield (item[split[1]])\n",
        "    \n",
        "\n",
        "\n",
        "# json_schema = ArrayType(StructType([StructField(split[1], StringType(), nullable=True)]))\n",
        "# udf_parse_json = udf(lambda str, col: parse_json(str, col), json_schema)\n",
        "\n",
        "# # input.withColumn('test'+split[1],from_json(split[0], split[1])).select('test'+split[1]).take(10)\n"
      ],
      "metadata": {
        "id": "qi9NjJDDCTmF"
      },
      "execution_count": 96,
      "outputs": []
    },
    {
      "cell_type": "code",
      "source": [
        "# input.take(50)"
      ],
      "metadata": {
        "id": "NSGOanIHnAW6"
      },
      "execution_count": null,
      "outputs": []
    },
    {
      "cell_type": "code",
      "source": [
        "columns = []\n",
        "with open('/content/drive/Shareddrives/SIADS - 694-695 Team Drive/Notebooks/final_columns.txt') as f:\n",
        "  for ln in f.readlines():\n",
        "    saved = ln.strip().split('\\'')\n",
        "    columns.append(saved[1])\n",
        "print(columns)"
      ],
      "metadata": {
        "colab": {
          "base_uri": "https://localhost:8080/"
        },
        "id": "Vuu2YBi2xWmt",
        "outputId": "bcbfb95b-e908-4b76-828a-eb181aa77dd7"
      },
      "execution_count": 4,
      "outputs": [
        {
          "output_type": "stream",
          "name": "stdout",
          "text": [
            "['date', 'totals', 'fullVisitorId', 'clientId', 'totals.visits', 'totals.hits', 'totals.pageviews', 'totals.timeOnSite', 'totals.bounces', 'totals.transactions', 'totals.newVisits', 'totals.screenviews', 'totals.uniqueScreenviews', 'totals.timeOnScreen', 'totals.totalTransactionRevenue', 'hits.type', 'hits', 'channelGrouping', 'socialEngagementType', 'geoNetwork.country', 'trafficSource.source', 'trafficSource.medium', 'trafficSource.isTrueDirect', 'device.browser', 'device.operatingSystem', 'device.deviceCategory', 'hits.hour', 'hits.minute', 'hits.transaction', 'hits.item', 'hits.dataSource', 'hits.transaction.transactionRevenue', 'hits.item.productName', 'hits.item.productCategory', 'hits.item.itemRevenue', 'hits.appInfo.screenDepth', 'hits.eCommerceAction.action_type']\n"
          ]
        }
      ]
    },
    {
      "cell_type": "code",
      "source": [
        "processed = pd.read_csv('/content/drive/Shareddrives/SIADS - 694-695 Team Drive/processed_file.csv',index_col=0)"
      ],
      "metadata": {
        "id": "jFw9nUvevXHt"
      },
      "execution_count": 5,
      "outputs": []
    },
    {
      "cell_type": "code",
      "source": [
        "processed.head()"
      ],
      "metadata": {
        "colab": {
          "base_uri": "https://localhost:8080/",
          "height": 629
        },
        "id": "IRt47Hxadkvc",
        "outputId": "83ba43fd-6334-47f5-e391-a367d2ef05ce"
      },
      "execution_count": 144,
      "outputs": [
        {
          "output_type": "execute_result",
          "data": {
            "text/plain": [
              "       date                                         geoNetwork  \\\n",
              "0  20160801  {'continent': 'Americas', 'subContinent': 'Nor...   \n",
              "1  20160801  {'continent': 'Americas', 'subContinent': 'Nor...   \n",
              "2  20160801  {'continent': 'Americas', 'subContinent': 'Nor...   \n",
              "3  20160801  {'continent': 'Americas', 'subContinent': 'Nor...   \n",
              "4  20160801  {'continent': 'Asia', 'subContinent': 'Souther...   \n",
              "\n",
              "  channelGrouping        fullVisitorId  socialEngagementType  \\\n",
              "0          Social  7305625498291809599  Not Socially Engaged   \n",
              "1          Social  5270776363703942229  Not Socially Engaged   \n",
              "2          Social  5345363805648300707  Not Socially Engaged   \n",
              "3          Social  5140493641776291415  Not Socially Engaged   \n",
              "4          Social  6137206948447331806  Not Socially Engaged   \n",
              "\n",
              "                                       trafficSource  \\\n",
              "0  {'referralPath': '/yt/about/', 'campaign': '(n...   \n",
              "1  {'referralPath': '/yt/about/', 'campaign': '(n...   \n",
              "2  {'referralPath': '/yt/about/', 'campaign': '(n...   \n",
              "3  {'referralPath': '/lsr.php', 'campaign': '(not...   \n",
              "4  {'referralPath': '/', 'campaign': '(not set)',...   \n",
              "\n",
              "                                              device  \\\n",
              "0  {'browser': 'Internet Explorer', 'browserVersi...   \n",
              "1  {'browser': 'Chrome', 'browserVersion': 'not a...   \n",
              "2  {'browser': 'Chrome', 'browserVersion': 'not a...   \n",
              "3  {'browser': 'Chrome', 'browserVersion': 'not a...   \n",
              "4  {'browser': 'Chrome', 'browserVersion': 'not a...   \n",
              "\n",
              "                                              totals  \\\n",
              "0  {'visits': 1, 'hits': 4, 'pageviews': 2, 'time...   \n",
              "1  {'visits': 1, 'hits': 4, 'pageviews': 4, 'time...   \n",
              "2  {'visits': 1, 'hits': 7, 'pageviews': 7, 'time...   \n",
              "3  {'visits': 1, 'hits': 1, 'pageviews': 1, 'time...   \n",
              "4  {'visits': 1, 'hits': 20, 'pageviews': 14, 'ti...   \n",
              "\n",
              "                                                hits  \\\n",
              "0  [{'hitNumber': 1, 'time': 0, 'hour': 15, 'minu...   \n",
              "1  [{'hitNumber': 1, 'time': 0, 'hour': 13, 'minu...   \n",
              "2  [{'hitNumber': 1, 'time': 0, 'hour': 15, 'minu...   \n",
              "3  [{'hitNumber': 1, 'time': 0, 'hour': 12, 'minu...   \n",
              "4  [{'hitNumber': 1, 'time': 0, 'hour': 13, 'minu...   \n",
              "\n",
              "                                           hits.type  ... geoNetwork.country  \\\n",
              "0                 ['PAGE', 'EVENT', 'PAGE', 'EVENT']  ...      United States   \n",
              "1                   ['PAGE', 'PAGE', 'PAGE', 'PAGE']  ...      United States   \n",
              "2  ['PAGE', 'PAGE', 'PAGE', 'PAGE', 'PAGE', 'PAGE...  ...      United States   \n",
              "3                                           ['PAGE']  ...      United States   \n",
              "4  ['PAGE', 'PAGE', 'PAGE', 'PAGE', 'EVENT', 'PAG...  ...              India   \n",
              "\n",
              "  device.operatingSystem device.deviceCategory totals.pageviews  \\\n",
              "0                Windows               desktop              2.0   \n",
              "1                Windows               desktop              4.0   \n",
              "2                Windows               desktop              7.0   \n",
              "3              Macintosh               desktop              1.0   \n",
              "4              Chrome OS               desktop             14.0   \n",
              "\n",
              "                            hits.appInfo.screenDepth  \\\n",
              "0                               ['0', '0', '0', '0']   \n",
              "1                               ['0', '0', '0', '0']   \n",
              "2                ['0', '0', '0', '0', '0', '0', '0']   \n",
              "3                                              ['0']   \n",
              "4  ['0', '0', '0', '0', '0', '0', '0', '0', '0', ...   \n",
              "\n",
              "                    hits.eCommerceAction.action_type  \\\n",
              "0                               ['0', '0', '0', '0']   \n",
              "1                               ['0', '0', '0', '0']   \n",
              "2                ['0', '0', '0', '0', '0', '0', '0']   \n",
              "3                                              ['0']   \n",
              "4  ['0', '0', '0', '0', '1', '2', '1', '0', '0', ...   \n",
              "\n",
              "                 hits.transaction.transactionRevenue  \\\n",
              "0                                       [None, None]   \n",
              "1                                 [None, None, None]   \n",
              "2               [None, None, None, None, None, None]   \n",
              "3                                             [None]   \n",
              "4  [None, None, None, None, None, None, None, Non...   \n",
              "\n",
              "                               hits.item.productName  \\\n",
              "0                                       [None, None]   \n",
              "1                                 [None, None, None]   \n",
              "2               [None, None, None, None, None, None]   \n",
              "3                                             [None]   \n",
              "4  [None, None, None, None, None, None, None, Non...   \n",
              "\n",
              "                               hits.item.itemRevenue  \\\n",
              "0                                       [None, None]   \n",
              "1                                 [None, None, None]   \n",
              "2               [None, None, None, None, None, None]   \n",
              "3                                             [None]   \n",
              "4  [None, None, None, None, None, None, None, Non...   \n",
              "\n",
              "                           hits.item.productCategory  \n",
              "0                                       [None, None]  \n",
              "1                                 [None, None, None]  \n",
              "2               [None, None, None, None, None, None]  \n",
              "3                                             [None]  \n",
              "4  [None, None, None, None, None, None, None, Non...  \n",
              "\n",
              "[5 rows x 41 columns]"
            ],
            "text/html": [
              "\n",
              "  <div id=\"df-a9c68577-bdc4-432e-b258-75c59600f514\">\n",
              "    <div class=\"colab-df-container\">\n",
              "      <div>\n",
              "<style scoped>\n",
              "    .dataframe tbody tr th:only-of-type {\n",
              "        vertical-align: middle;\n",
              "    }\n",
              "\n",
              "    .dataframe tbody tr th {\n",
              "        vertical-align: top;\n",
              "    }\n",
              "\n",
              "    .dataframe thead th {\n",
              "        text-align: right;\n",
              "    }\n",
              "</style>\n",
              "<table border=\"1\" class=\"dataframe\">\n",
              "  <thead>\n",
              "    <tr style=\"text-align: right;\">\n",
              "      <th></th>\n",
              "      <th>date</th>\n",
              "      <th>geoNetwork</th>\n",
              "      <th>channelGrouping</th>\n",
              "      <th>fullVisitorId</th>\n",
              "      <th>socialEngagementType</th>\n",
              "      <th>trafficSource</th>\n",
              "      <th>device</th>\n",
              "      <th>totals</th>\n",
              "      <th>hits</th>\n",
              "      <th>hits.type</th>\n",
              "      <th>...</th>\n",
              "      <th>geoNetwork.country</th>\n",
              "      <th>device.operatingSystem</th>\n",
              "      <th>device.deviceCategory</th>\n",
              "      <th>totals.pageviews</th>\n",
              "      <th>hits.appInfo.screenDepth</th>\n",
              "      <th>hits.eCommerceAction.action_type</th>\n",
              "      <th>hits.transaction.transactionRevenue</th>\n",
              "      <th>hits.item.productName</th>\n",
              "      <th>hits.item.itemRevenue</th>\n",
              "      <th>hits.item.productCategory</th>\n",
              "    </tr>\n",
              "  </thead>\n",
              "  <tbody>\n",
              "    <tr>\n",
              "      <th>0</th>\n",
              "      <td>20160801</td>\n",
              "      <td>{'continent': 'Americas', 'subContinent': 'Nor...</td>\n",
              "      <td>Social</td>\n",
              "      <td>7305625498291809599</td>\n",
              "      <td>Not Socially Engaged</td>\n",
              "      <td>{'referralPath': '/yt/about/', 'campaign': '(n...</td>\n",
              "      <td>{'browser': 'Internet Explorer', 'browserVersi...</td>\n",
              "      <td>{'visits': 1, 'hits': 4, 'pageviews': 2, 'time...</td>\n",
              "      <td>[{'hitNumber': 1, 'time': 0, 'hour': 15, 'minu...</td>\n",
              "      <td>['PAGE', 'EVENT', 'PAGE', 'EVENT']</td>\n",
              "      <td>...</td>\n",
              "      <td>United States</td>\n",
              "      <td>Windows</td>\n",
              "      <td>desktop</td>\n",
              "      <td>2.0</td>\n",
              "      <td>['0', '0', '0', '0']</td>\n",
              "      <td>['0', '0', '0', '0']</td>\n",
              "      <td>[None, None]</td>\n",
              "      <td>[None, None]</td>\n",
              "      <td>[None, None]</td>\n",
              "      <td>[None, None]</td>\n",
              "    </tr>\n",
              "    <tr>\n",
              "      <th>1</th>\n",
              "      <td>20160801</td>\n",
              "      <td>{'continent': 'Americas', 'subContinent': 'Nor...</td>\n",
              "      <td>Social</td>\n",
              "      <td>5270776363703942229</td>\n",
              "      <td>Not Socially Engaged</td>\n",
              "      <td>{'referralPath': '/yt/about/', 'campaign': '(n...</td>\n",
              "      <td>{'browser': 'Chrome', 'browserVersion': 'not a...</td>\n",
              "      <td>{'visits': 1, 'hits': 4, 'pageviews': 4, 'time...</td>\n",
              "      <td>[{'hitNumber': 1, 'time': 0, 'hour': 13, 'minu...</td>\n",
              "      <td>['PAGE', 'PAGE', 'PAGE', 'PAGE']</td>\n",
              "      <td>...</td>\n",
              "      <td>United States</td>\n",
              "      <td>Windows</td>\n",
              "      <td>desktop</td>\n",
              "      <td>4.0</td>\n",
              "      <td>['0', '0', '0', '0']</td>\n",
              "      <td>['0', '0', '0', '0']</td>\n",
              "      <td>[None, None, None]</td>\n",
              "      <td>[None, None, None]</td>\n",
              "      <td>[None, None, None]</td>\n",
              "      <td>[None, None, None]</td>\n",
              "    </tr>\n",
              "    <tr>\n",
              "      <th>2</th>\n",
              "      <td>20160801</td>\n",
              "      <td>{'continent': 'Americas', 'subContinent': 'Nor...</td>\n",
              "      <td>Social</td>\n",
              "      <td>5345363805648300707</td>\n",
              "      <td>Not Socially Engaged</td>\n",
              "      <td>{'referralPath': '/yt/about/', 'campaign': '(n...</td>\n",
              "      <td>{'browser': 'Chrome', 'browserVersion': 'not a...</td>\n",
              "      <td>{'visits': 1, 'hits': 7, 'pageviews': 7, 'time...</td>\n",
              "      <td>[{'hitNumber': 1, 'time': 0, 'hour': 15, 'minu...</td>\n",
              "      <td>['PAGE', 'PAGE', 'PAGE', 'PAGE', 'PAGE', 'PAGE...</td>\n",
              "      <td>...</td>\n",
              "      <td>United States</td>\n",
              "      <td>Windows</td>\n",
              "      <td>desktop</td>\n",
              "      <td>7.0</td>\n",
              "      <td>['0', '0', '0', '0', '0', '0', '0']</td>\n",
              "      <td>['0', '0', '0', '0', '0', '0', '0']</td>\n",
              "      <td>[None, None, None, None, None, None]</td>\n",
              "      <td>[None, None, None, None, None, None]</td>\n",
              "      <td>[None, None, None, None, None, None]</td>\n",
              "      <td>[None, None, None, None, None, None]</td>\n",
              "    </tr>\n",
              "    <tr>\n",
              "      <th>3</th>\n",
              "      <td>20160801</td>\n",
              "      <td>{'continent': 'Americas', 'subContinent': 'Nor...</td>\n",
              "      <td>Social</td>\n",
              "      <td>5140493641776291415</td>\n",
              "      <td>Not Socially Engaged</td>\n",
              "      <td>{'referralPath': '/lsr.php', 'campaign': '(not...</td>\n",
              "      <td>{'browser': 'Chrome', 'browserVersion': 'not a...</td>\n",
              "      <td>{'visits': 1, 'hits': 1, 'pageviews': 1, 'time...</td>\n",
              "      <td>[{'hitNumber': 1, 'time': 0, 'hour': 12, 'minu...</td>\n",
              "      <td>['PAGE']</td>\n",
              "      <td>...</td>\n",
              "      <td>United States</td>\n",
              "      <td>Macintosh</td>\n",
              "      <td>desktop</td>\n",
              "      <td>1.0</td>\n",
              "      <td>['0']</td>\n",
              "      <td>['0']</td>\n",
              "      <td>[None]</td>\n",
              "      <td>[None]</td>\n",
              "      <td>[None]</td>\n",
              "      <td>[None]</td>\n",
              "    </tr>\n",
              "    <tr>\n",
              "      <th>4</th>\n",
              "      <td>20160801</td>\n",
              "      <td>{'continent': 'Asia', 'subContinent': 'Souther...</td>\n",
              "      <td>Social</td>\n",
              "      <td>6137206948447331806</td>\n",
              "      <td>Not Socially Engaged</td>\n",
              "      <td>{'referralPath': '/', 'campaign': '(not set)',...</td>\n",
              "      <td>{'browser': 'Chrome', 'browserVersion': 'not a...</td>\n",
              "      <td>{'visits': 1, 'hits': 20, 'pageviews': 14, 'ti...</td>\n",
              "      <td>[{'hitNumber': 1, 'time': 0, 'hour': 13, 'minu...</td>\n",
              "      <td>['PAGE', 'PAGE', 'PAGE', 'PAGE', 'EVENT', 'PAG...</td>\n",
              "      <td>...</td>\n",
              "      <td>India</td>\n",
              "      <td>Chrome OS</td>\n",
              "      <td>desktop</td>\n",
              "      <td>14.0</td>\n",
              "      <td>['0', '0', '0', '0', '0', '0', '0', '0', '0', ...</td>\n",
              "      <td>['0', '0', '0', '0', '1', '2', '1', '0', '0', ...</td>\n",
              "      <td>[None, None, None, None, None, None, None, Non...</td>\n",
              "      <td>[None, None, None, None, None, None, None, Non...</td>\n",
              "      <td>[None, None, None, None, None, None, None, Non...</td>\n",
              "      <td>[None, None, None, None, None, None, None, Non...</td>\n",
              "    </tr>\n",
              "  </tbody>\n",
              "</table>\n",
              "<p>5 rows × 41 columns</p>\n",
              "</div>\n",
              "      <button class=\"colab-df-convert\" onclick=\"convertToInteractive('df-a9c68577-bdc4-432e-b258-75c59600f514')\"\n",
              "              title=\"Convert this dataframe to an interactive table.\"\n",
              "              style=\"display:none;\">\n",
              "        \n",
              "  <svg xmlns=\"http://www.w3.org/2000/svg\" height=\"24px\"viewBox=\"0 0 24 24\"\n",
              "       width=\"24px\">\n",
              "    <path d=\"M0 0h24v24H0V0z\" fill=\"none\"/>\n",
              "    <path d=\"M18.56 5.44l.94 2.06.94-2.06 2.06-.94-2.06-.94-.94-2.06-.94 2.06-2.06.94zm-11 1L8.5 8.5l.94-2.06 2.06-.94-2.06-.94L8.5 2.5l-.94 2.06-2.06.94zm10 10l.94 2.06.94-2.06 2.06-.94-2.06-.94-.94-2.06-.94 2.06-2.06.94z\"/><path d=\"M17.41 7.96l-1.37-1.37c-.4-.4-.92-.59-1.43-.59-.52 0-1.04.2-1.43.59L10.3 9.45l-7.72 7.72c-.78.78-.78 2.05 0 2.83L4 21.41c.39.39.9.59 1.41.59.51 0 1.02-.2 1.41-.59l7.78-7.78 2.81-2.81c.8-.78.8-2.07 0-2.86zM5.41 20L4 18.59l7.72-7.72 1.47 1.35L5.41 20z\"/>\n",
              "  </svg>\n",
              "      </button>\n",
              "      \n",
              "  <style>\n",
              "    .colab-df-container {\n",
              "      display:flex;\n",
              "      flex-wrap:wrap;\n",
              "      gap: 12px;\n",
              "    }\n",
              "\n",
              "    .colab-df-convert {\n",
              "      background-color: #E8F0FE;\n",
              "      border: none;\n",
              "      border-radius: 50%;\n",
              "      cursor: pointer;\n",
              "      display: none;\n",
              "      fill: #1967D2;\n",
              "      height: 32px;\n",
              "      padding: 0 0 0 0;\n",
              "      width: 32px;\n",
              "    }\n",
              "\n",
              "    .colab-df-convert:hover {\n",
              "      background-color: #E2EBFA;\n",
              "      box-shadow: 0px 1px 2px rgba(60, 64, 67, 0.3), 0px 1px 3px 1px rgba(60, 64, 67, 0.15);\n",
              "      fill: #174EA6;\n",
              "    }\n",
              "\n",
              "    [theme=dark] .colab-df-convert {\n",
              "      background-color: #3B4455;\n",
              "      fill: #D2E3FC;\n",
              "    }\n",
              "\n",
              "    [theme=dark] .colab-df-convert:hover {\n",
              "      background-color: #434B5C;\n",
              "      box-shadow: 0px 1px 3px 1px rgba(0, 0, 0, 0.15);\n",
              "      filter: drop-shadow(0px 1px 2px rgba(0, 0, 0, 0.3));\n",
              "      fill: #FFFFFF;\n",
              "    }\n",
              "  </style>\n",
              "\n",
              "      <script>\n",
              "        const buttonEl =\n",
              "          document.querySelector('#df-a9c68577-bdc4-432e-b258-75c59600f514 button.colab-df-convert');\n",
              "        buttonEl.style.display =\n",
              "          google.colab.kernel.accessAllowed ? 'block' : 'none';\n",
              "\n",
              "        async function convertToInteractive(key) {\n",
              "          const element = document.querySelector('#df-a9c68577-bdc4-432e-b258-75c59600f514');\n",
              "          const dataTable =\n",
              "            await google.colab.kernel.invokeFunction('convertToInteractive',\n",
              "                                                     [key], {});\n",
              "          if (!dataTable) return;\n",
              "\n",
              "          const docLinkHtml = 'Like what you see? Visit the ' +\n",
              "            '<a target=\"_blank\" href=https://colab.research.google.com/notebooks/data_table.ipynb>data table notebook</a>'\n",
              "            + ' to learn more about interactive tables.';\n",
              "          element.innerHTML = '';\n",
              "          dataTable['output_type'] = 'display_data';\n",
              "          await google.colab.output.renderOutput(dataTable, element);\n",
              "          const docLink = document.createElement('div');\n",
              "          docLink.innerHTML = docLinkHtml;\n",
              "          element.appendChild(docLink);\n",
              "        }\n",
              "      </script>\n",
              "    </div>\n",
              "  </div>\n",
              "  "
            ]
          },
          "metadata": {},
          "execution_count": 144
        }
      ]
    },
    {
      "cell_type": "code",
      "source": [
        "processed.columns"
      ],
      "metadata": {
        "colab": {
          "base_uri": "https://localhost:8080/"
        },
        "id": "JqrHtDx3d5VT",
        "outputId": "8fe5d078-a0b4-4674-c078-cb20a5f3a7bf"
      },
      "execution_count": 110,
      "outputs": [
        {
          "output_type": "execute_result",
          "data": {
            "text/plain": [
              "Index(['date', 'geoNetwork', 'channelGrouping', 'fullVisitorId',\n",
              "       'socialEngagementType', 'trafficSource', 'device', 'totals', 'hits',\n",
              "       'hits.type', 'hits.hour', 'hits.minute', 'hits.transaction',\n",
              "       'hits.item', 'hits.dataSource', 'hits.appInfo', 'hits.eCommerceAction',\n",
              "       'trafficSource.source', 'totals.visits', 'totals.screenviews',\n",
              "       'device.browser', 'totals.totalTransactionRevenue', 'totals.bounces',\n",
              "       'totals.uniqueScreenviews', 'totals.newVisits',\n",
              "       'trafficSource.isTrueDirect', 'trafficSource.medium', 'totals.hits',\n",
              "       'totals.transactions', 'totals.timeOnScreen', 'totals.timeOnSite',\n",
              "       'geoNetwork.country', 'device.operatingSystem', 'device.deviceCategory',\n",
              "       'totals.pageviews', 'hits.appInfo.screenDepth',\n",
              "       'hits.eCommerceAction.action_type',\n",
              "       'hits.transaction.transactionRevenue', 'hits.item.productName',\n",
              "       'hits.item.itemRevenue', 'hits.item.productCategory'],\n",
              "      dtype='object')"
            ]
          },
          "metadata": {},
          "execution_count": 110
        }
      ]
    },
    {
      "cell_type": "code",
      "source": [
        "processed.describe()"
      ],
      "metadata": {
        "colab": {
          "base_uri": "https://localhost:8080/",
          "height": 364
        },
        "id": "asCCSO6PeyP7",
        "outputId": "7f7b115e-1bd6-41ac-c738-ca555fe1dc6c"
      },
      "execution_count": 145,
      "outputs": [
        {
          "output_type": "execute_result",
          "data": {
            "text/plain": [
              "               date  fullVisitorId  totals.visits  totals.screenviews  \\\n",
              "count  3.572500e+04   3.572500e+04        35725.0                 0.0   \n",
              "mean   2.016099e+07   4.537203e+18            1.0                 NaN   \n",
              "std    1.128160e+02   3.077969e+18            0.0                 NaN   \n",
              "min    2.016080e+07   3.347106e+13            1.0                 NaN   \n",
              "25%    2.016091e+07   1.624230e+18            1.0                 NaN   \n",
              "50%    2.016101e+07   4.444965e+18            1.0                 NaN   \n",
              "75%    2.016111e+07   7.227935e+18            1.0                 NaN   \n",
              "max    2.016113e+07   9.999397e+18            1.0                 NaN   \n",
              "\n",
              "       totals.totalTransactionRevenue  totals.bounces  \\\n",
              "count                    3.630000e+02         18244.0   \n",
              "mean                     1.565480e+08             1.0   \n",
              "std                      2.527672e+08             0.0   \n",
              "min                      3.560000e+06             1.0   \n",
              "25%                      3.173500e+07             1.0   \n",
              "50%                      6.399000e+07             1.0   \n",
              "75%                      1.496200e+08             1.0   \n",
              "max                      2.213380e+09             1.0   \n",
              "\n",
              "       totals.uniqueScreenviews  totals.newVisits   totals.hits  \\\n",
              "count                       0.0           28977.0  35725.000000   \n",
              "mean                        NaN               1.0      4.740770   \n",
              "std                         NaN               0.0     11.530412   \n",
              "min                         NaN               1.0      1.000000   \n",
              "25%                         NaN               1.0      1.000000   \n",
              "50%                         NaN               1.0      1.000000   \n",
              "75%                         NaN               1.0      4.000000   \n",
              "max                         NaN               1.0    500.000000   \n",
              "\n",
              "       totals.transactions  totals.timeOnScreen  totals.timeOnSite  \\\n",
              "count           369.000000                  0.0       17447.000000   \n",
              "mean              1.054201                  NaN         242.206626   \n",
              "std               0.308027                  NaN         483.392041   \n",
              "min               1.000000                  NaN           1.000000   \n",
              "25%               1.000000                  NaN          33.000000   \n",
              "50%               1.000000                  NaN          72.000000   \n",
              "75%               1.000000                  NaN         219.000000   \n",
              "max               4.000000                  NaN       11094.000000   \n",
              "\n",
              "       totals.pageviews  \n",
              "count      35718.000000  \n",
              "mean           3.883980  \n",
              "std            8.217082  \n",
              "min            1.000000  \n",
              "25%            1.000000  \n",
              "50%            1.000000  \n",
              "75%            3.000000  \n",
              "max          469.000000  "
            ],
            "text/html": [
              "\n",
              "  <div id=\"df-046e2e77-3280-41d2-8630-53e7d65b2e13\">\n",
              "    <div class=\"colab-df-container\">\n",
              "      <div>\n",
              "<style scoped>\n",
              "    .dataframe tbody tr th:only-of-type {\n",
              "        vertical-align: middle;\n",
              "    }\n",
              "\n",
              "    .dataframe tbody tr th {\n",
              "        vertical-align: top;\n",
              "    }\n",
              "\n",
              "    .dataframe thead th {\n",
              "        text-align: right;\n",
              "    }\n",
              "</style>\n",
              "<table border=\"1\" class=\"dataframe\">\n",
              "  <thead>\n",
              "    <tr style=\"text-align: right;\">\n",
              "      <th></th>\n",
              "      <th>date</th>\n",
              "      <th>fullVisitorId</th>\n",
              "      <th>totals.visits</th>\n",
              "      <th>totals.screenviews</th>\n",
              "      <th>totals.totalTransactionRevenue</th>\n",
              "      <th>totals.bounces</th>\n",
              "      <th>totals.uniqueScreenviews</th>\n",
              "      <th>totals.newVisits</th>\n",
              "      <th>totals.hits</th>\n",
              "      <th>totals.transactions</th>\n",
              "      <th>totals.timeOnScreen</th>\n",
              "      <th>totals.timeOnSite</th>\n",
              "      <th>totals.pageviews</th>\n",
              "    </tr>\n",
              "  </thead>\n",
              "  <tbody>\n",
              "    <tr>\n",
              "      <th>count</th>\n",
              "      <td>3.572500e+04</td>\n",
              "      <td>3.572500e+04</td>\n",
              "      <td>35725.0</td>\n",
              "      <td>0.0</td>\n",
              "      <td>3.630000e+02</td>\n",
              "      <td>18244.0</td>\n",
              "      <td>0.0</td>\n",
              "      <td>28977.0</td>\n",
              "      <td>35725.000000</td>\n",
              "      <td>369.000000</td>\n",
              "      <td>0.0</td>\n",
              "      <td>17447.000000</td>\n",
              "      <td>35718.000000</td>\n",
              "    </tr>\n",
              "    <tr>\n",
              "      <th>mean</th>\n",
              "      <td>2.016099e+07</td>\n",
              "      <td>4.537203e+18</td>\n",
              "      <td>1.0</td>\n",
              "      <td>NaN</td>\n",
              "      <td>1.565480e+08</td>\n",
              "      <td>1.0</td>\n",
              "      <td>NaN</td>\n",
              "      <td>1.0</td>\n",
              "      <td>4.740770</td>\n",
              "      <td>1.054201</td>\n",
              "      <td>NaN</td>\n",
              "      <td>242.206626</td>\n",
              "      <td>3.883980</td>\n",
              "    </tr>\n",
              "    <tr>\n",
              "      <th>std</th>\n",
              "      <td>1.128160e+02</td>\n",
              "      <td>3.077969e+18</td>\n",
              "      <td>0.0</td>\n",
              "      <td>NaN</td>\n",
              "      <td>2.527672e+08</td>\n",
              "      <td>0.0</td>\n",
              "      <td>NaN</td>\n",
              "      <td>0.0</td>\n",
              "      <td>11.530412</td>\n",
              "      <td>0.308027</td>\n",
              "      <td>NaN</td>\n",
              "      <td>483.392041</td>\n",
              "      <td>8.217082</td>\n",
              "    </tr>\n",
              "    <tr>\n",
              "      <th>min</th>\n",
              "      <td>2.016080e+07</td>\n",
              "      <td>3.347106e+13</td>\n",
              "      <td>1.0</td>\n",
              "      <td>NaN</td>\n",
              "      <td>3.560000e+06</td>\n",
              "      <td>1.0</td>\n",
              "      <td>NaN</td>\n",
              "      <td>1.0</td>\n",
              "      <td>1.000000</td>\n",
              "      <td>1.000000</td>\n",
              "      <td>NaN</td>\n",
              "      <td>1.000000</td>\n",
              "      <td>1.000000</td>\n",
              "    </tr>\n",
              "    <tr>\n",
              "      <th>25%</th>\n",
              "      <td>2.016091e+07</td>\n",
              "      <td>1.624230e+18</td>\n",
              "      <td>1.0</td>\n",
              "      <td>NaN</td>\n",
              "      <td>3.173500e+07</td>\n",
              "      <td>1.0</td>\n",
              "      <td>NaN</td>\n",
              "      <td>1.0</td>\n",
              "      <td>1.000000</td>\n",
              "      <td>1.000000</td>\n",
              "      <td>NaN</td>\n",
              "      <td>33.000000</td>\n",
              "      <td>1.000000</td>\n",
              "    </tr>\n",
              "    <tr>\n",
              "      <th>50%</th>\n",
              "      <td>2.016101e+07</td>\n",
              "      <td>4.444965e+18</td>\n",
              "      <td>1.0</td>\n",
              "      <td>NaN</td>\n",
              "      <td>6.399000e+07</td>\n",
              "      <td>1.0</td>\n",
              "      <td>NaN</td>\n",
              "      <td>1.0</td>\n",
              "      <td>1.000000</td>\n",
              "      <td>1.000000</td>\n",
              "      <td>NaN</td>\n",
              "      <td>72.000000</td>\n",
              "      <td>1.000000</td>\n",
              "    </tr>\n",
              "    <tr>\n",
              "      <th>75%</th>\n",
              "      <td>2.016111e+07</td>\n",
              "      <td>7.227935e+18</td>\n",
              "      <td>1.0</td>\n",
              "      <td>NaN</td>\n",
              "      <td>1.496200e+08</td>\n",
              "      <td>1.0</td>\n",
              "      <td>NaN</td>\n",
              "      <td>1.0</td>\n",
              "      <td>4.000000</td>\n",
              "      <td>1.000000</td>\n",
              "      <td>NaN</td>\n",
              "      <td>219.000000</td>\n",
              "      <td>3.000000</td>\n",
              "    </tr>\n",
              "    <tr>\n",
              "      <th>max</th>\n",
              "      <td>2.016113e+07</td>\n",
              "      <td>9.999397e+18</td>\n",
              "      <td>1.0</td>\n",
              "      <td>NaN</td>\n",
              "      <td>2.213380e+09</td>\n",
              "      <td>1.0</td>\n",
              "      <td>NaN</td>\n",
              "      <td>1.0</td>\n",
              "      <td>500.000000</td>\n",
              "      <td>4.000000</td>\n",
              "      <td>NaN</td>\n",
              "      <td>11094.000000</td>\n",
              "      <td>469.000000</td>\n",
              "    </tr>\n",
              "  </tbody>\n",
              "</table>\n",
              "</div>\n",
              "      <button class=\"colab-df-convert\" onclick=\"convertToInteractive('df-046e2e77-3280-41d2-8630-53e7d65b2e13')\"\n",
              "              title=\"Convert this dataframe to an interactive table.\"\n",
              "              style=\"display:none;\">\n",
              "        \n",
              "  <svg xmlns=\"http://www.w3.org/2000/svg\" height=\"24px\"viewBox=\"0 0 24 24\"\n",
              "       width=\"24px\">\n",
              "    <path d=\"M0 0h24v24H0V0z\" fill=\"none\"/>\n",
              "    <path d=\"M18.56 5.44l.94 2.06.94-2.06 2.06-.94-2.06-.94-.94-2.06-.94 2.06-2.06.94zm-11 1L8.5 8.5l.94-2.06 2.06-.94-2.06-.94L8.5 2.5l-.94 2.06-2.06.94zm10 10l.94 2.06.94-2.06 2.06-.94-2.06-.94-.94-2.06-.94 2.06-2.06.94z\"/><path d=\"M17.41 7.96l-1.37-1.37c-.4-.4-.92-.59-1.43-.59-.52 0-1.04.2-1.43.59L10.3 9.45l-7.72 7.72c-.78.78-.78 2.05 0 2.83L4 21.41c.39.39.9.59 1.41.59.51 0 1.02-.2 1.41-.59l7.78-7.78 2.81-2.81c.8-.78.8-2.07 0-2.86zM5.41 20L4 18.59l7.72-7.72 1.47 1.35L5.41 20z\"/>\n",
              "  </svg>\n",
              "      </button>\n",
              "      \n",
              "  <style>\n",
              "    .colab-df-container {\n",
              "      display:flex;\n",
              "      flex-wrap:wrap;\n",
              "      gap: 12px;\n",
              "    }\n",
              "\n",
              "    .colab-df-convert {\n",
              "      background-color: #E8F0FE;\n",
              "      border: none;\n",
              "      border-radius: 50%;\n",
              "      cursor: pointer;\n",
              "      display: none;\n",
              "      fill: #1967D2;\n",
              "      height: 32px;\n",
              "      padding: 0 0 0 0;\n",
              "      width: 32px;\n",
              "    }\n",
              "\n",
              "    .colab-df-convert:hover {\n",
              "      background-color: #E2EBFA;\n",
              "      box-shadow: 0px 1px 2px rgba(60, 64, 67, 0.3), 0px 1px 3px 1px rgba(60, 64, 67, 0.15);\n",
              "      fill: #174EA6;\n",
              "    }\n",
              "\n",
              "    [theme=dark] .colab-df-convert {\n",
              "      background-color: #3B4455;\n",
              "      fill: #D2E3FC;\n",
              "    }\n",
              "\n",
              "    [theme=dark] .colab-df-convert:hover {\n",
              "      background-color: #434B5C;\n",
              "      box-shadow: 0px 1px 3px 1px rgba(0, 0, 0, 0.15);\n",
              "      filter: drop-shadow(0px 1px 2px rgba(0, 0, 0, 0.3));\n",
              "      fill: #FFFFFF;\n",
              "    }\n",
              "  </style>\n",
              "\n",
              "      <script>\n",
              "        const buttonEl =\n",
              "          document.querySelector('#df-046e2e77-3280-41d2-8630-53e7d65b2e13 button.colab-df-convert');\n",
              "        buttonEl.style.display =\n",
              "          google.colab.kernel.accessAllowed ? 'block' : 'none';\n",
              "\n",
              "        async function convertToInteractive(key) {\n",
              "          const element = document.querySelector('#df-046e2e77-3280-41d2-8630-53e7d65b2e13');\n",
              "          const dataTable =\n",
              "            await google.colab.kernel.invokeFunction('convertToInteractive',\n",
              "                                                     [key], {});\n",
              "          if (!dataTable) return;\n",
              "\n",
              "          const docLinkHtml = 'Like what you see? Visit the ' +\n",
              "            '<a target=\"_blank\" href=https://colab.research.google.com/notebooks/data_table.ipynb>data table notebook</a>'\n",
              "            + ' to learn more about interactive tables.';\n",
              "          element.innerHTML = '';\n",
              "          dataTable['output_type'] = 'display_data';\n",
              "          await google.colab.output.renderOutput(dataTable, element);\n",
              "          const docLink = document.createElement('div');\n",
              "          docLink.innerHTML = docLinkHtml;\n",
              "          element.appendChild(docLink);\n",
              "        }\n",
              "      </script>\n",
              "    </div>\n",
              "  </div>\n",
              "  "
            ]
          },
          "metadata": {},
          "execution_count": 145
        }
      ]
    },
    {
      "cell_type": "code",
      "source": [
        "processed = processed.drop(['totals.screenviews','totals.uniqueScreenviews','totals.timeOnScreen',\n",
        "                            'device','totals','hits','hits.type','trafficSource','geoNetwork'],axis=1)"
      ],
      "metadata": {
        "id": "maUr9M46fRwE"
      },
      "execution_count": 6,
      "outputs": []
    },
    {
      "cell_type": "code",
      "source": [
        "processed.head(2)"
      ],
      "metadata": {
        "colab": {
          "base_uri": "https://localhost:8080/",
          "height": 327
        },
        "id": "DtCxfgeECJ5f",
        "outputId": "44366581-f3d6-400d-f430-85d596f55ec1"
      },
      "execution_count": 81,
      "outputs": [
        {
          "output_type": "execute_result",
          "data": {
            "text/plain": [
              "       date channelGrouping        fullVisitorId  socialEngagementType  \\\n",
              "0  20160801          Social  7305625498291809599  Not Socially Engaged   \n",
              "1  20160801          Social  5270776363703942229  Not Socially Engaged   \n",
              "\n",
              "          hits.hour       hits.minute  \\\n",
              "0  [15, 15, 15, 15]  [33, 34, 35, 35]   \n",
              "1  [13, 13, 13, 13]  [42, 42, 43, 43]   \n",
              "\n",
              "                                    hits.transaction  \\\n",
              "0  [None, None, {'transactionId': None, 'transact...   \n",
              "1  [None, {'transactionId': None, 'transactionRev...   \n",
              "\n",
              "                                           hits.item  \\\n",
              "0  [None, None, {'transactionId': None, 'productN...   \n",
              "1  [None, {'transactionId': None, 'productName': ...   \n",
              "\n",
              "            hits.dataSource  \\\n",
              "0  [None, None, None, None]   \n",
              "1  [None, None, None, None]   \n",
              "\n",
              "                                        hits.appInfo  ... geoNetwork.country  \\\n",
              "0  [{'name': None, 'version': None, 'id': None, '...  ...      United States   \n",
              "1  [{'name': None, 'version': None, 'id': None, '...  ...      United States   \n",
              "\n",
              "  device.operatingSystem  device.deviceCategory totals.pageviews  \\\n",
              "0                Windows                desktop              2.0   \n",
              "1                Windows                desktop              4.0   \n",
              "\n",
              "   hits.appInfo.screenDepth  hits.eCommerceAction.action_type  \\\n",
              "0      ['0', '0', '0', '0']              ['0', '0', '0', '0']   \n",
              "1      ['0', '0', '0', '0']              ['0', '0', '0', '0']   \n",
              "\n",
              "   hits.transaction.transactionRevenue hits.item.productName  \\\n",
              "0                         [None, None]          [None, None]   \n",
              "1                   [None, None, None]    [None, None, None]   \n",
              "\n",
              "  hits.item.itemRevenue  hits.item.productCategory  \n",
              "0          [None, None]               [None, None]  \n",
              "1    [None, None, None]         [None, None, None]  \n",
              "\n",
              "[2 rows x 32 columns]"
            ],
            "text/html": [
              "\n",
              "  <div id=\"df-4e70d730-1402-4c92-b85d-8d693de82594\">\n",
              "    <div class=\"colab-df-container\">\n",
              "      <div>\n",
              "<style scoped>\n",
              "    .dataframe tbody tr th:only-of-type {\n",
              "        vertical-align: middle;\n",
              "    }\n",
              "\n",
              "    .dataframe tbody tr th {\n",
              "        vertical-align: top;\n",
              "    }\n",
              "\n",
              "    .dataframe thead th {\n",
              "        text-align: right;\n",
              "    }\n",
              "</style>\n",
              "<table border=\"1\" class=\"dataframe\">\n",
              "  <thead>\n",
              "    <tr style=\"text-align: right;\">\n",
              "      <th></th>\n",
              "      <th>date</th>\n",
              "      <th>channelGrouping</th>\n",
              "      <th>fullVisitorId</th>\n",
              "      <th>socialEngagementType</th>\n",
              "      <th>hits.hour</th>\n",
              "      <th>hits.minute</th>\n",
              "      <th>hits.transaction</th>\n",
              "      <th>hits.item</th>\n",
              "      <th>hits.dataSource</th>\n",
              "      <th>hits.appInfo</th>\n",
              "      <th>...</th>\n",
              "      <th>geoNetwork.country</th>\n",
              "      <th>device.operatingSystem</th>\n",
              "      <th>device.deviceCategory</th>\n",
              "      <th>totals.pageviews</th>\n",
              "      <th>hits.appInfo.screenDepth</th>\n",
              "      <th>hits.eCommerceAction.action_type</th>\n",
              "      <th>hits.transaction.transactionRevenue</th>\n",
              "      <th>hits.item.productName</th>\n",
              "      <th>hits.item.itemRevenue</th>\n",
              "      <th>hits.item.productCategory</th>\n",
              "    </tr>\n",
              "  </thead>\n",
              "  <tbody>\n",
              "    <tr>\n",
              "      <th>0</th>\n",
              "      <td>20160801</td>\n",
              "      <td>Social</td>\n",
              "      <td>7305625498291809599</td>\n",
              "      <td>Not Socially Engaged</td>\n",
              "      <td>[15, 15, 15, 15]</td>\n",
              "      <td>[33, 34, 35, 35]</td>\n",
              "      <td>[None, None, {'transactionId': None, 'transact...</td>\n",
              "      <td>[None, None, {'transactionId': None, 'productN...</td>\n",
              "      <td>[None, None, None, None]</td>\n",
              "      <td>[{'name': None, 'version': None, 'id': None, '...</td>\n",
              "      <td>...</td>\n",
              "      <td>United States</td>\n",
              "      <td>Windows</td>\n",
              "      <td>desktop</td>\n",
              "      <td>2.0</td>\n",
              "      <td>['0', '0', '0', '0']</td>\n",
              "      <td>['0', '0', '0', '0']</td>\n",
              "      <td>[None, None]</td>\n",
              "      <td>[None, None]</td>\n",
              "      <td>[None, None]</td>\n",
              "      <td>[None, None]</td>\n",
              "    </tr>\n",
              "    <tr>\n",
              "      <th>1</th>\n",
              "      <td>20160801</td>\n",
              "      <td>Social</td>\n",
              "      <td>5270776363703942229</td>\n",
              "      <td>Not Socially Engaged</td>\n",
              "      <td>[13, 13, 13, 13]</td>\n",
              "      <td>[42, 42, 43, 43]</td>\n",
              "      <td>[None, {'transactionId': None, 'transactionRev...</td>\n",
              "      <td>[None, {'transactionId': None, 'productName': ...</td>\n",
              "      <td>[None, None, None, None]</td>\n",
              "      <td>[{'name': None, 'version': None, 'id': None, '...</td>\n",
              "      <td>...</td>\n",
              "      <td>United States</td>\n",
              "      <td>Windows</td>\n",
              "      <td>desktop</td>\n",
              "      <td>4.0</td>\n",
              "      <td>['0', '0', '0', '0']</td>\n",
              "      <td>['0', '0', '0', '0']</td>\n",
              "      <td>[None, None, None]</td>\n",
              "      <td>[None, None, None]</td>\n",
              "      <td>[None, None, None]</td>\n",
              "      <td>[None, None, None]</td>\n",
              "    </tr>\n",
              "  </tbody>\n",
              "</table>\n",
              "<p>2 rows × 32 columns</p>\n",
              "</div>\n",
              "      <button class=\"colab-df-convert\" onclick=\"convertToInteractive('df-4e70d730-1402-4c92-b85d-8d693de82594')\"\n",
              "              title=\"Convert this dataframe to an interactive table.\"\n",
              "              style=\"display:none;\">\n",
              "        \n",
              "  <svg xmlns=\"http://www.w3.org/2000/svg\" height=\"24px\"viewBox=\"0 0 24 24\"\n",
              "       width=\"24px\">\n",
              "    <path d=\"M0 0h24v24H0V0z\" fill=\"none\"/>\n",
              "    <path d=\"M18.56 5.44l.94 2.06.94-2.06 2.06-.94-2.06-.94-.94-2.06-.94 2.06-2.06.94zm-11 1L8.5 8.5l.94-2.06 2.06-.94-2.06-.94L8.5 2.5l-.94 2.06-2.06.94zm10 10l.94 2.06.94-2.06 2.06-.94-2.06-.94-.94-2.06-.94 2.06-2.06.94z\"/><path d=\"M17.41 7.96l-1.37-1.37c-.4-.4-.92-.59-1.43-.59-.52 0-1.04.2-1.43.59L10.3 9.45l-7.72 7.72c-.78.78-.78 2.05 0 2.83L4 21.41c.39.39.9.59 1.41.59.51 0 1.02-.2 1.41-.59l7.78-7.78 2.81-2.81c.8-.78.8-2.07 0-2.86zM5.41 20L4 18.59l7.72-7.72 1.47 1.35L5.41 20z\"/>\n",
              "  </svg>\n",
              "      </button>\n",
              "      \n",
              "  <style>\n",
              "    .colab-df-container {\n",
              "      display:flex;\n",
              "      flex-wrap:wrap;\n",
              "      gap: 12px;\n",
              "    }\n",
              "\n",
              "    .colab-df-convert {\n",
              "      background-color: #E8F0FE;\n",
              "      border: none;\n",
              "      border-radius: 50%;\n",
              "      cursor: pointer;\n",
              "      display: none;\n",
              "      fill: #1967D2;\n",
              "      height: 32px;\n",
              "      padding: 0 0 0 0;\n",
              "      width: 32px;\n",
              "    }\n",
              "\n",
              "    .colab-df-convert:hover {\n",
              "      background-color: #E2EBFA;\n",
              "      box-shadow: 0px 1px 2px rgba(60, 64, 67, 0.3), 0px 1px 3px 1px rgba(60, 64, 67, 0.15);\n",
              "      fill: #174EA6;\n",
              "    }\n",
              "\n",
              "    [theme=dark] .colab-df-convert {\n",
              "      background-color: #3B4455;\n",
              "      fill: #D2E3FC;\n",
              "    }\n",
              "\n",
              "    [theme=dark] .colab-df-convert:hover {\n",
              "      background-color: #434B5C;\n",
              "      box-shadow: 0px 1px 3px 1px rgba(0, 0, 0, 0.15);\n",
              "      filter: drop-shadow(0px 1px 2px rgba(0, 0, 0, 0.3));\n",
              "      fill: #FFFFFF;\n",
              "    }\n",
              "  </style>\n",
              "\n",
              "      <script>\n",
              "        const buttonEl =\n",
              "          document.querySelector('#df-4e70d730-1402-4c92-b85d-8d693de82594 button.colab-df-convert');\n",
              "        buttonEl.style.display =\n",
              "          google.colab.kernel.accessAllowed ? 'block' : 'none';\n",
              "\n",
              "        async function convertToInteractive(key) {\n",
              "          const element = document.querySelector('#df-4e70d730-1402-4c92-b85d-8d693de82594');\n",
              "          const dataTable =\n",
              "            await google.colab.kernel.invokeFunction('convertToInteractive',\n",
              "                                                     [key], {});\n",
              "          if (!dataTable) return;\n",
              "\n",
              "          const docLinkHtml = 'Like what you see? Visit the ' +\n",
              "            '<a target=\"_blank\" href=https://colab.research.google.com/notebooks/data_table.ipynb>data table notebook</a>'\n",
              "            + ' to learn more about interactive tables.';\n",
              "          element.innerHTML = '';\n",
              "          dataTable['output_type'] = 'display_data';\n",
              "          await google.colab.output.renderOutput(dataTable, element);\n",
              "          const docLink = document.createElement('div');\n",
              "          docLink.innerHTML = docLinkHtml;\n",
              "          element.appendChild(docLink);\n",
              "        }\n",
              "      </script>\n",
              "    </div>\n",
              "  </div>\n",
              "  "
            ]
          },
          "metadata": {},
          "execution_count": 81
        }
      ]
    },
    {
      "cell_type": "code",
      "source": [
        "train = processed[processed.columns[~processed.columns.isin(['totals.transactions'])]]\n",
        "train = train[['date','fullVisitorId','totals.visits','totals.totalTransactionRevenue',\n",
        "               'totals.bounces','totals.newVisits','totals.hits','totals.timeOnSite',\n",
        "               'totals.pageviews']]\n",
        "               \n",
        "target = processed[processed.columns[processed.columns.isin(['totals.transactions'])]]\n",
        "target = pd.Categorical(target.iloc[:,0])\n",
        "target = pd.Series(target.add_categories(0.0).fillna(0.0))"
      ],
      "metadata": {
        "id": "XQVVfb00gISs"
      },
      "execution_count": 18,
      "outputs": []
    },
    {
      "cell_type": "code",
      "source": [
        "train[\"totals.visits\"]#.corr()"
      ],
      "metadata": {
        "colab": {
          "base_uri": "https://localhost:8080/"
        },
        "id": "faqfyiYb9sOk",
        "outputId": "9fdd0199-9c9d-436f-f04c-b12172692640"
      },
      "execution_count": 76,
      "outputs": [
        {
          "output_type": "execute_result",
          "data": {
            "text/plain": [
              "array([1])"
            ]
          },
          "metadata": {},
          "execution_count": 76
        }
      ]
    },
    {
      "cell_type": "code",
      "source": [
        "from sklearn.dummy import DummyClassifier\n",
        "from sklearn.linear_model import LogisticRegression\n",
        "from sklearn.svm import SVC\n",
        "from sklearn.tree import DecisionTreeClassifier\n",
        "from sklearn.preprocessing import OneHotEncoder\n",
        "from sklearn.model_selection import train_test_split, cross_val_score\n",
        "from sklearn.metrics import recall_score\n",
        "\n",
        "import pyspark.pandas as ps\n",
        "from pyspark.ml.tuning import ParamGridBuilder, CrossValidator\n",
        "from pyspark.ml.classification import LogisticRegression, OneVsRest\n",
        "from pyspark.ml.feature import *\n",
        "from pyspark.ml.evaluation import BinaryClassificationEvaluator"
      ],
      "metadata": {
        "id": "ypjujwl3iK_V"
      },
      "execution_count": 85,
      "outputs": []
    },
    {
      "cell_type": "code",
      "source": [
        "spark.newSession()"
      ],
      "metadata": {
        "colab": {
          "base_uri": "https://localhost:8080/",
          "height": 220
        },
        "id": "rOpnSlEF1r2K",
        "outputId": "47a4508b-35f7-4069-8f95-d7f3c15756a6"
      },
      "execution_count": 55,
      "outputs": [
        {
          "output_type": "execute_result",
          "data": {
            "text/plain": [
              "<pyspark.sql.session.SparkSession at 0x7fe75fdf2050>"
            ],
            "text/html": [
              "\n",
              "            <div>\n",
              "                <p><b>SparkSession - in-memory</b></p>\n",
              "                \n",
              "        <div>\n",
              "            <p><b>SparkContext</b></p>\n",
              "\n",
              "            <p><a href=\"http://acbd3c3e1b18:4040\">Spark UI</a></p>\n",
              "\n",
              "            <dl>\n",
              "              <dt>Version</dt>\n",
              "                <dd><code>v3.2.1</code></dd>\n",
              "              <dt>Master</dt>\n",
              "                <dd><code>local[*]</code></dd>\n",
              "              <dt>AppName</dt>\n",
              "                <dd><code>Binary Buyer Prediction</code></dd>\n",
              "            </dl>\n",
              "        </div>\n",
              "        \n",
              "            </div>\n",
              "        "
            ]
          },
          "metadata": {},
          "execution_count": 55
        }
      ]
    },
    {
      "cell_type": "code",
      "source": [
        "lst = ['hits.hour', 'hits.minute', 'hits.transaction','hits.item','hits.dataSource','hits.appInfo']\n",
        "for l in lst:\n",
        "  train[l] = train[l].apply(lambda x: list(x[1:-1]))"
      ],
      "metadata": {
        "colab": {
          "base_uri": "https://localhost:8080/"
        },
        "id": "d-HGeDEikFYY",
        "outputId": "89d8839e-4373-41b7-ef2f-ffdf364fd249"
      },
      "execution_count": 12,
      "outputs": [
        {
          "output_type": "stream",
          "name": "stderr",
          "text": [
            "/usr/local/lib/python3.7/dist-packages/ipykernel_launcher.py:3: SettingWithCopyWarning: \n",
            "A value is trying to be set on a copy of a slice from a DataFrame.\n",
            "Try using .loc[row_indexer,col_indexer] = value instead\n",
            "\n",
            "See the caveats in the documentation: https://pandas.pydata.org/pandas-docs/stable/user_guide/indexing.html#returning-a-view-versus-a-copy\n",
            "  This is separate from the ipykernel package so we can avoid doing imports until\n"
          ]
        }
      ]
    },
    {
      "cell_type": "code",
      "source": [
        "train = train.fillna(0)\n",
        "train.dtypes, target.dtype"
      ],
      "metadata": {
        "colab": {
          "base_uri": "https://localhost:8080/"
        },
        "id": "BnZFkTo2kOcc",
        "outputId": "672ebdf0-9176-4370-c530-0bea487b0a62"
      },
      "execution_count": 25,
      "outputs": [
        {
          "output_type": "execute_result",
          "data": {
            "text/plain": [
              "(date                                int64\n",
              " fullVisitorId                      uint64\n",
              " totals.visits                       int64\n",
              " totals.totalTransactionRevenue    float64\n",
              " totals.bounces                    float64\n",
              " totals.newVisits                  float64\n",
              " totals.hits                         int64\n",
              " totals.timeOnSite                 float64\n",
              " totals.pageviews                  float64\n",
              " dtype: object,\n",
              " CategoricalDtype(categories=[1.0, 2.0, 3.0, 4.0, 0.0], ordered=False))"
            ]
          },
          "metadata": {},
          "execution_count": 25
        }
      ]
    },
    {
      "cell_type": "code",
      "source": [
        "X_train, X_val, y_train, y_val = train_test_split(train, target, test_size=.3, stratify=target)"
      ],
      "metadata": {
        "id": "qqkUh2VC1Auh"
      },
      "execution_count": 36,
      "outputs": []
    },
    {
      "cell_type": "code",
      "source": [
        "dum_clf = DummyClassifier(strategy='stratified', random_state=RANDOM_SEED)\n",
        "lr = LogisticRegression(solver='lbfgs', max_iter=40000)\n",
        "dtree = DecisionTreeClassifier(criterion='entropy',random_state=RANDOM_SEED)"
      ],
      "metadata": {
        "id": "_Crl_QCLsM39"
      },
      "execution_count": 37,
      "outputs": []
    },
    {
      "cell_type": "code",
      "source": [
        "X_train_spark = spark.createDataFrame(X_train)\n",
        "X_val_spark = spark.createDataFrame(X_val)\n",
        "y_train_spark = ps.from_pandas(y_train)\n",
        "y_val_spark = ps.from_pandas(y_val)"
      ],
      "metadata": {
        "id": "x1GVUko_zI9f"
      },
      "execution_count": 82,
      "outputs": []
    },
    {
      "cell_type": "code",
      "source": [
        "train_spark = processed[['date','fullVisitorId','totals.visits','totals.totalTransactionRevenue',\n",
        "               'totals.bounces','totals.newVisits','totals.hits','totals.timeOnSite',\n",
        "               'totals.pageviews', 'totals.transactions']]\n",
        "\n",
        "train_spark = spark.createDataFrame(train_spark).withColumn('labels', col('`totals.transactions`'))"
      ],
      "metadata": {
        "id": "H6eDwMV-Co_n"
      },
      "execution_count": 94,
      "outputs": []
    },
    {
      "cell_type": "code",
      "source": [
        "spark_lr = LogisticRegression(maxIter=100000, featuresCol='features',labelCol='labels')\n",
        "paramGrid = ParamGridBuilder()\\\n",
        "    .addGrid(spark_lr.regParam, [0.1, 0.01])\\\n",
        "    .build()\n",
        "\n",
        "cols = ['`'+col+'`' if (col != 'totals.transactions' and '.' in col) else col for col in train_spark.columns]\n",
        "cols.remove('totals.transactions')\n",
        "\n",
        "vec = VectorAssembler(inputCols=cols, outputCol='features',handleInvalid='keep')\n",
        "\n",
        "pipeline = Pipeline(stages=[vec, spark_lr])\n",
        "crossval = CrossValidator(estimator=pipeline,\n",
        "                          estimatorParamMaps=paramGrid,\n",
        "                          evaluator=BinaryClassificationEvaluator(),\n",
        "                          numFolds=2)"
      ],
      "metadata": {
        "id": "rbEyKDSo4VaW"
      },
      "execution_count": 126,
      "outputs": []
    },
    {
      "cell_type": "code",
      "source": [
        "crossval.fit(train_spark)"
      ],
      "metadata": {
        "colab": {
          "base_uri": "https://localhost:8080/",
          "height": 353
        },
        "id": "Dp5bwr_84u6h",
        "outputId": "12b82eae-71a4-4779-af52-c8099505efb6"
      },
      "execution_count": 128,
      "outputs": [
        {
          "output_type": "error",
          "ename": "IllegalArgumentException",
          "evalue": "ignored",
          "traceback": [
            "\u001b[0;31m---------------------------------------------------------------------------\u001b[0m",
            "\u001b[0;31mIllegalArgumentException\u001b[0m                  Traceback (most recent call last)",
            "\u001b[0;32m<ipython-input-128-3a1c01d9e672>\u001b[0m in \u001b[0;36m<module>\u001b[0;34m()\u001b[0m\n\u001b[0;32m----> 1\u001b[0;31m \u001b[0mcrossval\u001b[0m\u001b[0;34m.\u001b[0m\u001b[0mfit\u001b[0m\u001b[0;34m(\u001b[0m\u001b[0mtrain_spark\u001b[0m\u001b[0;34m)\u001b[0m\u001b[0;34m\u001b[0m\u001b[0;34m\u001b[0m\u001b[0m\n\u001b[0m",
            "\u001b[0;32m/usr/local/lib/python3.7/dist-packages/pyspark/ml/base.py\u001b[0m in \u001b[0;36mfit\u001b[0;34m(self, dataset, params)\u001b[0m\n\u001b[1;32m    159\u001b[0m                 \u001b[0;32mreturn\u001b[0m \u001b[0mself\u001b[0m\u001b[0;34m.\u001b[0m\u001b[0mcopy\u001b[0m\u001b[0;34m(\u001b[0m\u001b[0mparams\u001b[0m\u001b[0;34m)\u001b[0m\u001b[0;34m.\u001b[0m\u001b[0m_fit\u001b[0m\u001b[0;34m(\u001b[0m\u001b[0mdataset\u001b[0m\u001b[0;34m)\u001b[0m\u001b[0;34m\u001b[0m\u001b[0;34m\u001b[0m\u001b[0m\n\u001b[1;32m    160\u001b[0m             \u001b[0;32melse\u001b[0m\u001b[0;34m:\u001b[0m\u001b[0;34m\u001b[0m\u001b[0;34m\u001b[0m\u001b[0m\n\u001b[0;32m--> 161\u001b[0;31m                 \u001b[0;32mreturn\u001b[0m \u001b[0mself\u001b[0m\u001b[0;34m.\u001b[0m\u001b[0m_fit\u001b[0m\u001b[0;34m(\u001b[0m\u001b[0mdataset\u001b[0m\u001b[0;34m)\u001b[0m\u001b[0;34m\u001b[0m\u001b[0;34m\u001b[0m\u001b[0m\n\u001b[0m\u001b[1;32m    162\u001b[0m         \u001b[0;32melse\u001b[0m\u001b[0;34m:\u001b[0m\u001b[0;34m\u001b[0m\u001b[0;34m\u001b[0m\u001b[0m\n\u001b[1;32m    163\u001b[0m             raise TypeError(\"Params must be either a param map or a list/tuple of param maps, \"\n",
            "\u001b[0;32m/usr/local/lib/python3.7/dist-packages/pyspark/ml/tuning.py\u001b[0m in \u001b[0;36m_fit\u001b[0;34m(self, dataset)\u001b[0m\n\u001b[1;32m    687\u001b[0m                 \u001b[0minheritable_thread_target\u001b[0m\u001b[0;34m,\u001b[0m\u001b[0;34m\u001b[0m\u001b[0;34m\u001b[0m\u001b[0m\n\u001b[1;32m    688\u001b[0m                 _parallelFitTasks(est, train, eva, validation, epm, collectSubModelsParam))\n\u001b[0;32m--> 689\u001b[0;31m             \u001b[0;32mfor\u001b[0m \u001b[0mj\u001b[0m\u001b[0;34m,\u001b[0m \u001b[0mmetric\u001b[0m\u001b[0;34m,\u001b[0m \u001b[0msubModel\u001b[0m \u001b[0;32min\u001b[0m \u001b[0mpool\u001b[0m\u001b[0;34m.\u001b[0m\u001b[0mimap_unordered\u001b[0m\u001b[0;34m(\u001b[0m\u001b[0;32mlambda\u001b[0m \u001b[0mf\u001b[0m\u001b[0;34m:\u001b[0m \u001b[0mf\u001b[0m\u001b[0;34m(\u001b[0m\u001b[0;34m)\u001b[0m\u001b[0;34m,\u001b[0m \u001b[0mtasks\u001b[0m\u001b[0;34m)\u001b[0m\u001b[0;34m:\u001b[0m\u001b[0;34m\u001b[0m\u001b[0;34m\u001b[0m\u001b[0m\n\u001b[0m\u001b[1;32m    690\u001b[0m                 \u001b[0mmetrics\u001b[0m\u001b[0;34m[\u001b[0m\u001b[0mj\u001b[0m\u001b[0;34m]\u001b[0m \u001b[0;34m+=\u001b[0m \u001b[0;34m(\u001b[0m\u001b[0mmetric\u001b[0m \u001b[0;34m/\u001b[0m \u001b[0mnFolds\u001b[0m\u001b[0;34m)\u001b[0m\u001b[0;34m\u001b[0m\u001b[0;34m\u001b[0m\u001b[0m\n\u001b[1;32m    691\u001b[0m                 \u001b[0;32mif\u001b[0m \u001b[0mcollectSubModelsParam\u001b[0m\u001b[0;34m:\u001b[0m\u001b[0;34m\u001b[0m\u001b[0;34m\u001b[0m\u001b[0m\n",
            "\u001b[0;32m/usr/lib/python3.7/multiprocessing/pool.py\u001b[0m in \u001b[0;36mnext\u001b[0;34m(self, timeout)\u001b[0m\n\u001b[1;32m    746\u001b[0m         \u001b[0;32mif\u001b[0m \u001b[0msuccess\u001b[0m\u001b[0;34m:\u001b[0m\u001b[0;34m\u001b[0m\u001b[0;34m\u001b[0m\u001b[0m\n\u001b[1;32m    747\u001b[0m             \u001b[0;32mreturn\u001b[0m \u001b[0mvalue\u001b[0m\u001b[0;34m\u001b[0m\u001b[0;34m\u001b[0m\u001b[0m\n\u001b[0;32m--> 748\u001b[0;31m         \u001b[0;32mraise\u001b[0m \u001b[0mvalue\u001b[0m\u001b[0;34m\u001b[0m\u001b[0;34m\u001b[0m\u001b[0m\n\u001b[0m\u001b[1;32m    749\u001b[0m \u001b[0;34m\u001b[0m\u001b[0m\n\u001b[1;32m    750\u001b[0m     \u001b[0m__next__\u001b[0m \u001b[0;34m=\u001b[0m \u001b[0mnext\u001b[0m                    \u001b[0;31m# XXX\u001b[0m\u001b[0;34m\u001b[0m\u001b[0;34m\u001b[0m\u001b[0m\n",
            "\u001b[0;32m/usr/lib/python3.7/multiprocessing/pool.py\u001b[0m in \u001b[0;36mworker\u001b[0;34m(inqueue, outqueue, initializer, initargs, maxtasks, wrap_exception)\u001b[0m\n\u001b[1;32m    119\u001b[0m         \u001b[0mjob\u001b[0m\u001b[0;34m,\u001b[0m \u001b[0mi\u001b[0m\u001b[0;34m,\u001b[0m \u001b[0mfunc\u001b[0m\u001b[0;34m,\u001b[0m \u001b[0margs\u001b[0m\u001b[0;34m,\u001b[0m \u001b[0mkwds\u001b[0m \u001b[0;34m=\u001b[0m \u001b[0mtask\u001b[0m\u001b[0;34m\u001b[0m\u001b[0;34m\u001b[0m\u001b[0m\n\u001b[1;32m    120\u001b[0m         \u001b[0;32mtry\u001b[0m\u001b[0;34m:\u001b[0m\u001b[0;34m\u001b[0m\u001b[0;34m\u001b[0m\u001b[0m\n\u001b[0;32m--> 121\u001b[0;31m             \u001b[0mresult\u001b[0m \u001b[0;34m=\u001b[0m \u001b[0;34m(\u001b[0m\u001b[0;32mTrue\u001b[0m\u001b[0;34m,\u001b[0m \u001b[0mfunc\u001b[0m\u001b[0;34m(\u001b[0m\u001b[0;34m*\u001b[0m\u001b[0margs\u001b[0m\u001b[0;34m,\u001b[0m \u001b[0;34m**\u001b[0m\u001b[0mkwds\u001b[0m\u001b[0;34m)\u001b[0m\u001b[0;34m)\u001b[0m\u001b[0;34m\u001b[0m\u001b[0;34m\u001b[0m\u001b[0m\n\u001b[0m\u001b[1;32m    122\u001b[0m         \u001b[0;32mexcept\u001b[0m \u001b[0mException\u001b[0m \u001b[0;32mas\u001b[0m \u001b[0me\u001b[0m\u001b[0;34m:\u001b[0m\u001b[0;34m\u001b[0m\u001b[0;34m\u001b[0m\u001b[0m\n\u001b[1;32m    123\u001b[0m             \u001b[0;32mif\u001b[0m \u001b[0mwrap_exception\u001b[0m \u001b[0;32mand\u001b[0m \u001b[0mfunc\u001b[0m \u001b[0;32mis\u001b[0m \u001b[0;32mnot\u001b[0m \u001b[0m_helper_reraises_exception\u001b[0m\u001b[0;34m:\u001b[0m\u001b[0;34m\u001b[0m\u001b[0;34m\u001b[0m\u001b[0m\n",
            "\u001b[0;32m/usr/local/lib/python3.7/dist-packages/pyspark/ml/tuning.py\u001b[0m in \u001b[0;36m<lambda>\u001b[0;34m(f)\u001b[0m\n\u001b[1;32m    687\u001b[0m                 \u001b[0minheritable_thread_target\u001b[0m\u001b[0;34m,\u001b[0m\u001b[0;34m\u001b[0m\u001b[0;34m\u001b[0m\u001b[0m\n\u001b[1;32m    688\u001b[0m                 _parallelFitTasks(est, train, eva, validation, epm, collectSubModelsParam))\n\u001b[0;32m--> 689\u001b[0;31m             \u001b[0;32mfor\u001b[0m \u001b[0mj\u001b[0m\u001b[0;34m,\u001b[0m \u001b[0mmetric\u001b[0m\u001b[0;34m,\u001b[0m \u001b[0msubModel\u001b[0m \u001b[0;32min\u001b[0m \u001b[0mpool\u001b[0m\u001b[0;34m.\u001b[0m\u001b[0mimap_unordered\u001b[0m\u001b[0;34m(\u001b[0m\u001b[0;32mlambda\u001b[0m \u001b[0mf\u001b[0m\u001b[0;34m:\u001b[0m \u001b[0mf\u001b[0m\u001b[0;34m(\u001b[0m\u001b[0;34m)\u001b[0m\u001b[0;34m,\u001b[0m \u001b[0mtasks\u001b[0m\u001b[0;34m)\u001b[0m\u001b[0;34m:\u001b[0m\u001b[0;34m\u001b[0m\u001b[0;34m\u001b[0m\u001b[0m\n\u001b[0m\u001b[1;32m    690\u001b[0m                 \u001b[0mmetrics\u001b[0m\u001b[0;34m[\u001b[0m\u001b[0mj\u001b[0m\u001b[0;34m]\u001b[0m \u001b[0;34m+=\u001b[0m \u001b[0;34m(\u001b[0m\u001b[0mmetric\u001b[0m \u001b[0;34m/\u001b[0m \u001b[0mnFolds\u001b[0m\u001b[0;34m)\u001b[0m\u001b[0;34m\u001b[0m\u001b[0;34m\u001b[0m\u001b[0m\n\u001b[1;32m    691\u001b[0m                 \u001b[0;32mif\u001b[0m \u001b[0mcollectSubModelsParam\u001b[0m\u001b[0;34m:\u001b[0m\u001b[0;34m\u001b[0m\u001b[0;34m\u001b[0m\u001b[0m\n",
            "\u001b[0;32m/usr/local/lib/python3.7/dist-packages/pyspark/util.py\u001b[0m in \u001b[0;36mwrapped\u001b[0;34m(*args, **kwargs)\u001b[0m\n\u001b[1;32m    324\u001b[0m                 \u001b[0;31m# Set local properties in child thread.\u001b[0m\u001b[0;34m\u001b[0m\u001b[0;34m\u001b[0m\u001b[0;34m\u001b[0m\u001b[0m\n\u001b[1;32m    325\u001b[0m                 \u001b[0mSparkContext\u001b[0m\u001b[0;34m.\u001b[0m\u001b[0m_active_spark_context\u001b[0m\u001b[0;34m.\u001b[0m\u001b[0m_jsc\u001b[0m\u001b[0;34m.\u001b[0m\u001b[0msc\u001b[0m\u001b[0;34m(\u001b[0m\u001b[0;34m)\u001b[0m\u001b[0;34m.\u001b[0m\u001b[0msetLocalProperties\u001b[0m\u001b[0;34m(\u001b[0m\u001b[0mproperties\u001b[0m\u001b[0;34m)\u001b[0m\u001b[0;34m\u001b[0m\u001b[0;34m\u001b[0m\u001b[0m\n\u001b[0;32m--> 326\u001b[0;31m                 \u001b[0;32mreturn\u001b[0m \u001b[0mf\u001b[0m\u001b[0;34m(\u001b[0m\u001b[0;34m*\u001b[0m\u001b[0margs\u001b[0m\u001b[0;34m,\u001b[0m \u001b[0;34m**\u001b[0m\u001b[0mkwargs\u001b[0m\u001b[0;34m)\u001b[0m\u001b[0;34m\u001b[0m\u001b[0;34m\u001b[0m\u001b[0m\n\u001b[0m\u001b[1;32m    327\u001b[0m             \u001b[0;32mfinally\u001b[0m\u001b[0;34m:\u001b[0m\u001b[0;34m\u001b[0m\u001b[0;34m\u001b[0m\u001b[0m\n\u001b[1;32m    328\u001b[0m                 \u001b[0mInheritableThread\u001b[0m\u001b[0;34m.\u001b[0m\u001b[0m_clean_py4j_conn_for_current_thread\u001b[0m\u001b[0;34m(\u001b[0m\u001b[0;34m)\u001b[0m\u001b[0;34m\u001b[0m\u001b[0;34m\u001b[0m\u001b[0m\n",
            "\u001b[0;32m/usr/local/lib/python3.7/dist-packages/pyspark/ml/tuning.py\u001b[0m in \u001b[0;36msingleTask\u001b[0;34m()\u001b[0m\n\u001b[1;32m     67\u001b[0m \u001b[0;34m\u001b[0m\u001b[0m\n\u001b[1;32m     68\u001b[0m     \u001b[0;32mdef\u001b[0m \u001b[0msingleTask\u001b[0m\u001b[0;34m(\u001b[0m\u001b[0;34m)\u001b[0m\u001b[0;34m:\u001b[0m\u001b[0;34m\u001b[0m\u001b[0;34m\u001b[0m\u001b[0m\n\u001b[0;32m---> 69\u001b[0;31m         \u001b[0mindex\u001b[0m\u001b[0;34m,\u001b[0m \u001b[0mmodel\u001b[0m \u001b[0;34m=\u001b[0m \u001b[0mnext\u001b[0m\u001b[0;34m(\u001b[0m\u001b[0mmodelIter\u001b[0m\u001b[0;34m)\u001b[0m\u001b[0;34m\u001b[0m\u001b[0;34m\u001b[0m\u001b[0m\n\u001b[0m\u001b[1;32m     70\u001b[0m         \u001b[0;31m# TODO: duplicate evaluator to take extra params from input\u001b[0m\u001b[0;34m\u001b[0m\u001b[0;34m\u001b[0m\u001b[0;34m\u001b[0m\u001b[0m\n\u001b[1;32m     71\u001b[0m         \u001b[0;31m#  Note: Supporting tuning params in evaluator need update method\u001b[0m\u001b[0;34m\u001b[0m\u001b[0;34m\u001b[0m\u001b[0;34m\u001b[0m\u001b[0m\n",
            "\u001b[0;32m/usr/local/lib/python3.7/dist-packages/pyspark/ml/base.py\u001b[0m in \u001b[0;36m__next__\u001b[0;34m(self)\u001b[0m\n\u001b[1;32m     67\u001b[0m                 \u001b[0;32mraise\u001b[0m \u001b[0mStopIteration\u001b[0m\u001b[0;34m(\u001b[0m\u001b[0;34m\"No models remaining.\"\u001b[0m\u001b[0;34m)\u001b[0m\u001b[0;34m\u001b[0m\u001b[0;34m\u001b[0m\u001b[0m\n\u001b[1;32m     68\u001b[0m             \u001b[0mself\u001b[0m\u001b[0;34m.\u001b[0m\u001b[0mcounter\u001b[0m \u001b[0;34m+=\u001b[0m \u001b[0;36m1\u001b[0m\u001b[0;34m\u001b[0m\u001b[0;34m\u001b[0m\u001b[0m\n\u001b[0;32m---> 69\u001b[0;31m         \u001b[0;32mreturn\u001b[0m \u001b[0mindex\u001b[0m\u001b[0;34m,\u001b[0m \u001b[0mself\u001b[0m\u001b[0;34m.\u001b[0m\u001b[0mfitSingleModel\u001b[0m\u001b[0;34m(\u001b[0m\u001b[0mindex\u001b[0m\u001b[0;34m)\u001b[0m\u001b[0;34m\u001b[0m\u001b[0;34m\u001b[0m\u001b[0m\n\u001b[0m\u001b[1;32m     70\u001b[0m \u001b[0;34m\u001b[0m\u001b[0m\n\u001b[1;32m     71\u001b[0m     \u001b[0;32mdef\u001b[0m \u001b[0mnext\u001b[0m\u001b[0;34m(\u001b[0m\u001b[0mself\u001b[0m\u001b[0;34m)\u001b[0m\u001b[0;34m:\u001b[0m\u001b[0;34m\u001b[0m\u001b[0;34m\u001b[0m\u001b[0m\n",
            "\u001b[0;32m/usr/local/lib/python3.7/dist-packages/pyspark/ml/base.py\u001b[0m in \u001b[0;36mfitSingleModel\u001b[0;34m(index)\u001b[0m\n\u001b[1;32m    124\u001b[0m \u001b[0;34m\u001b[0m\u001b[0m\n\u001b[1;32m    125\u001b[0m         \u001b[0;32mdef\u001b[0m \u001b[0mfitSingleModel\u001b[0m\u001b[0;34m(\u001b[0m\u001b[0mindex\u001b[0m\u001b[0;34m)\u001b[0m\u001b[0;34m:\u001b[0m\u001b[0;34m\u001b[0m\u001b[0;34m\u001b[0m\u001b[0m\n\u001b[0;32m--> 126\u001b[0;31m             \u001b[0;32mreturn\u001b[0m \u001b[0mestimator\u001b[0m\u001b[0;34m.\u001b[0m\u001b[0mfit\u001b[0m\u001b[0;34m(\u001b[0m\u001b[0mdataset\u001b[0m\u001b[0;34m,\u001b[0m \u001b[0mparamMaps\u001b[0m\u001b[0;34m[\u001b[0m\u001b[0mindex\u001b[0m\u001b[0;34m]\u001b[0m\u001b[0;34m)\u001b[0m\u001b[0;34m\u001b[0m\u001b[0;34m\u001b[0m\u001b[0m\n\u001b[0m\u001b[1;32m    127\u001b[0m \u001b[0;34m\u001b[0m\u001b[0m\n\u001b[1;32m    128\u001b[0m         \u001b[0;32mreturn\u001b[0m \u001b[0m_FitMultipleIterator\u001b[0m\u001b[0;34m(\u001b[0m\u001b[0mfitSingleModel\u001b[0m\u001b[0;34m,\u001b[0m \u001b[0mlen\u001b[0m\u001b[0;34m(\u001b[0m\u001b[0mparamMaps\u001b[0m\u001b[0;34m)\u001b[0m\u001b[0;34m)\u001b[0m\u001b[0;34m\u001b[0m\u001b[0;34m\u001b[0m\u001b[0m\n",
            "\u001b[0;32m/usr/local/lib/python3.7/dist-packages/pyspark/ml/base.py\u001b[0m in \u001b[0;36mfit\u001b[0;34m(self, dataset, params)\u001b[0m\n\u001b[1;32m    157\u001b[0m         \u001b[0;32melif\u001b[0m \u001b[0misinstance\u001b[0m\u001b[0;34m(\u001b[0m\u001b[0mparams\u001b[0m\u001b[0;34m,\u001b[0m \u001b[0mdict\u001b[0m\u001b[0;34m)\u001b[0m\u001b[0;34m:\u001b[0m\u001b[0;34m\u001b[0m\u001b[0;34m\u001b[0m\u001b[0m\n\u001b[1;32m    158\u001b[0m             \u001b[0;32mif\u001b[0m \u001b[0mparams\u001b[0m\u001b[0;34m:\u001b[0m\u001b[0;34m\u001b[0m\u001b[0;34m\u001b[0m\u001b[0m\n\u001b[0;32m--> 159\u001b[0;31m                 \u001b[0;32mreturn\u001b[0m \u001b[0mself\u001b[0m\u001b[0;34m.\u001b[0m\u001b[0mcopy\u001b[0m\u001b[0;34m(\u001b[0m\u001b[0mparams\u001b[0m\u001b[0;34m)\u001b[0m\u001b[0;34m.\u001b[0m\u001b[0m_fit\u001b[0m\u001b[0;34m(\u001b[0m\u001b[0mdataset\u001b[0m\u001b[0;34m)\u001b[0m\u001b[0;34m\u001b[0m\u001b[0;34m\u001b[0m\u001b[0m\n\u001b[0m\u001b[1;32m    160\u001b[0m             \u001b[0;32melse\u001b[0m\u001b[0;34m:\u001b[0m\u001b[0;34m\u001b[0m\u001b[0;34m\u001b[0m\u001b[0m\n\u001b[1;32m    161\u001b[0m                 \u001b[0;32mreturn\u001b[0m \u001b[0mself\u001b[0m\u001b[0;34m.\u001b[0m\u001b[0m_fit\u001b[0m\u001b[0;34m(\u001b[0m\u001b[0mdataset\u001b[0m\u001b[0;34m)\u001b[0m\u001b[0;34m\u001b[0m\u001b[0;34m\u001b[0m\u001b[0m\n",
            "\u001b[0;32m/usr/local/lib/python3.7/dist-packages/pyspark/ml/pipeline.py\u001b[0m in \u001b[0;36m_fit\u001b[0;34m(self, dataset)\u001b[0m\n\u001b[1;32m    110\u001b[0m                 \u001b[0;32mif\u001b[0m \u001b[0misinstance\u001b[0m\u001b[0;34m(\u001b[0m\u001b[0mstage\u001b[0m\u001b[0;34m,\u001b[0m \u001b[0mTransformer\u001b[0m\u001b[0;34m)\u001b[0m\u001b[0;34m:\u001b[0m\u001b[0;34m\u001b[0m\u001b[0;34m\u001b[0m\u001b[0m\n\u001b[1;32m    111\u001b[0m                     \u001b[0mtransformers\u001b[0m\u001b[0;34m.\u001b[0m\u001b[0mappend\u001b[0m\u001b[0;34m(\u001b[0m\u001b[0mstage\u001b[0m\u001b[0;34m)\u001b[0m\u001b[0;34m\u001b[0m\u001b[0;34m\u001b[0m\u001b[0m\n\u001b[0;32m--> 112\u001b[0;31m                     \u001b[0mdataset\u001b[0m \u001b[0;34m=\u001b[0m \u001b[0mstage\u001b[0m\u001b[0;34m.\u001b[0m\u001b[0mtransform\u001b[0m\u001b[0;34m(\u001b[0m\u001b[0mdataset\u001b[0m\u001b[0;34m)\u001b[0m\u001b[0;34m\u001b[0m\u001b[0;34m\u001b[0m\u001b[0m\n\u001b[0m\u001b[1;32m    113\u001b[0m                 \u001b[0;32melse\u001b[0m\u001b[0;34m:\u001b[0m  \u001b[0;31m# must be an Estimator\u001b[0m\u001b[0;34m\u001b[0m\u001b[0;34m\u001b[0m\u001b[0m\n\u001b[1;32m    114\u001b[0m                     \u001b[0mmodel\u001b[0m \u001b[0;34m=\u001b[0m \u001b[0mstage\u001b[0m\u001b[0;34m.\u001b[0m\u001b[0mfit\u001b[0m\u001b[0;34m(\u001b[0m\u001b[0mdataset\u001b[0m\u001b[0;34m)\u001b[0m\u001b[0;34m\u001b[0m\u001b[0;34m\u001b[0m\u001b[0m\n",
            "\u001b[0;32m/usr/local/lib/python3.7/dist-packages/pyspark/ml/base.py\u001b[0m in \u001b[0;36mtransform\u001b[0;34m(self, dataset, params)\u001b[0m\n\u001b[1;32m    215\u001b[0m                 \u001b[0;32mreturn\u001b[0m \u001b[0mself\u001b[0m\u001b[0;34m.\u001b[0m\u001b[0mcopy\u001b[0m\u001b[0;34m(\u001b[0m\u001b[0mparams\u001b[0m\u001b[0;34m)\u001b[0m\u001b[0;34m.\u001b[0m\u001b[0m_transform\u001b[0m\u001b[0;34m(\u001b[0m\u001b[0mdataset\u001b[0m\u001b[0;34m)\u001b[0m\u001b[0;34m\u001b[0m\u001b[0;34m\u001b[0m\u001b[0m\n\u001b[1;32m    216\u001b[0m             \u001b[0;32melse\u001b[0m\u001b[0;34m:\u001b[0m\u001b[0;34m\u001b[0m\u001b[0;34m\u001b[0m\u001b[0m\n\u001b[0;32m--> 217\u001b[0;31m                 \u001b[0;32mreturn\u001b[0m \u001b[0mself\u001b[0m\u001b[0;34m.\u001b[0m\u001b[0m_transform\u001b[0m\u001b[0;34m(\u001b[0m\u001b[0mdataset\u001b[0m\u001b[0;34m)\u001b[0m\u001b[0;34m\u001b[0m\u001b[0;34m\u001b[0m\u001b[0m\n\u001b[0m\u001b[1;32m    218\u001b[0m         \u001b[0;32melse\u001b[0m\u001b[0;34m:\u001b[0m\u001b[0;34m\u001b[0m\u001b[0;34m\u001b[0m\u001b[0m\n\u001b[1;32m    219\u001b[0m             \u001b[0;32mraise\u001b[0m \u001b[0mTypeError\u001b[0m\u001b[0;34m(\u001b[0m\u001b[0;34m\"Params must be a param map but got %s.\"\u001b[0m \u001b[0;34m%\u001b[0m \u001b[0mtype\u001b[0m\u001b[0;34m(\u001b[0m\u001b[0mparams\u001b[0m\u001b[0;34m)\u001b[0m\u001b[0;34m)\u001b[0m\u001b[0;34m\u001b[0m\u001b[0;34m\u001b[0m\u001b[0m\n",
            "\u001b[0;32m/usr/local/lib/python3.7/dist-packages/pyspark/ml/wrapper.py\u001b[0m in \u001b[0;36m_transform\u001b[0;34m(self, dataset)\u001b[0m\n\u001b[1;32m    348\u001b[0m     \u001b[0;32mdef\u001b[0m \u001b[0m_transform\u001b[0m\u001b[0;34m(\u001b[0m\u001b[0mself\u001b[0m\u001b[0;34m,\u001b[0m \u001b[0mdataset\u001b[0m\u001b[0;34m)\u001b[0m\u001b[0;34m:\u001b[0m\u001b[0;34m\u001b[0m\u001b[0;34m\u001b[0m\u001b[0m\n\u001b[1;32m    349\u001b[0m         \u001b[0mself\u001b[0m\u001b[0;34m.\u001b[0m\u001b[0m_transfer_params_to_java\u001b[0m\u001b[0;34m(\u001b[0m\u001b[0;34m)\u001b[0m\u001b[0;34m\u001b[0m\u001b[0;34m\u001b[0m\u001b[0m\n\u001b[0;32m--> 350\u001b[0;31m         \u001b[0;32mreturn\u001b[0m \u001b[0mDataFrame\u001b[0m\u001b[0;34m(\u001b[0m\u001b[0mself\u001b[0m\u001b[0;34m.\u001b[0m\u001b[0m_java_obj\u001b[0m\u001b[0;34m.\u001b[0m\u001b[0mtransform\u001b[0m\u001b[0;34m(\u001b[0m\u001b[0mdataset\u001b[0m\u001b[0;34m.\u001b[0m\u001b[0m_jdf\u001b[0m\u001b[0;34m)\u001b[0m\u001b[0;34m,\u001b[0m \u001b[0mdataset\u001b[0m\u001b[0;34m.\u001b[0m\u001b[0msql_ctx\u001b[0m\u001b[0;34m)\u001b[0m\u001b[0;34m\u001b[0m\u001b[0;34m\u001b[0m\u001b[0m\n\u001b[0m\u001b[1;32m    351\u001b[0m \u001b[0;34m\u001b[0m\u001b[0m\n\u001b[1;32m    352\u001b[0m \u001b[0;34m\u001b[0m\u001b[0m\n",
            "\u001b[0;32m/usr/local/lib/python3.7/dist-packages/py4j/java_gateway.py\u001b[0m in \u001b[0;36m__call__\u001b[0;34m(self, *args)\u001b[0m\n\u001b[1;32m   1320\u001b[0m         \u001b[0manswer\u001b[0m \u001b[0;34m=\u001b[0m \u001b[0mself\u001b[0m\u001b[0;34m.\u001b[0m\u001b[0mgateway_client\u001b[0m\u001b[0;34m.\u001b[0m\u001b[0msend_command\u001b[0m\u001b[0;34m(\u001b[0m\u001b[0mcommand\u001b[0m\u001b[0;34m)\u001b[0m\u001b[0;34m\u001b[0m\u001b[0;34m\u001b[0m\u001b[0m\n\u001b[1;32m   1321\u001b[0m         return_value = get_return_value(\n\u001b[0;32m-> 1322\u001b[0;31m             answer, self.gateway_client, self.target_id, self.name)\n\u001b[0m\u001b[1;32m   1323\u001b[0m \u001b[0;34m\u001b[0m\u001b[0m\n\u001b[1;32m   1324\u001b[0m         \u001b[0;32mfor\u001b[0m \u001b[0mtemp_arg\u001b[0m \u001b[0;32min\u001b[0m \u001b[0mtemp_args\u001b[0m\u001b[0;34m:\u001b[0m\u001b[0;34m\u001b[0m\u001b[0;34m\u001b[0m\u001b[0m\n",
            "\u001b[0;32m/usr/local/lib/python3.7/dist-packages/pyspark/sql/utils.py\u001b[0m in \u001b[0;36mdeco\u001b[0;34m(*a, **kw)\u001b[0m\n\u001b[1;32m    115\u001b[0m                 \u001b[0;31m# Hide where the exception came from that shows a non-Pythonic\u001b[0m\u001b[0;34m\u001b[0m\u001b[0;34m\u001b[0m\u001b[0;34m\u001b[0m\u001b[0m\n\u001b[1;32m    116\u001b[0m                 \u001b[0;31m# JVM exception message.\u001b[0m\u001b[0;34m\u001b[0m\u001b[0;34m\u001b[0m\u001b[0;34m\u001b[0m\u001b[0m\n\u001b[0;32m--> 117\u001b[0;31m                 \u001b[0;32mraise\u001b[0m \u001b[0mconverted\u001b[0m \u001b[0;32mfrom\u001b[0m \u001b[0;32mNone\u001b[0m\u001b[0;34m\u001b[0m\u001b[0;34m\u001b[0m\u001b[0m\n\u001b[0m\u001b[1;32m    118\u001b[0m             \u001b[0;32melse\u001b[0m\u001b[0;34m:\u001b[0m\u001b[0;34m\u001b[0m\u001b[0;34m\u001b[0m\u001b[0m\n\u001b[1;32m    119\u001b[0m                 \u001b[0;32mraise\u001b[0m\u001b[0;34m\u001b[0m\u001b[0;34m\u001b[0m\u001b[0m\n",
            "\u001b[0;31mIllegalArgumentException\u001b[0m: `totals.visits` does not exist. Available: date, fullVisitorId, totals.visits, totals.totalTransactionRevenue, totals.bounces, totals.newVisits, totals.hits, totals.timeOnSite, totals.pageviews, totals.transactions, labels, CrossValidator_b4d6081b7d12_rand"
          ]
        }
      ]
    },
    {
      "cell_type": "code",
      "source": [
        ""
      ],
      "metadata": {
        "id": "GbFykOhEExKD"
      },
      "execution_count": null,
      "outputs": []
    }
  ]
}