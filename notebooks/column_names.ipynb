{
 "cells": [
  {
   "cell_type": "code",
   "execution_count": null,
   "metadata": {},
   "outputs": [],
   "source": [
    "names={'totals.hits':\"hits\",\n",
    "     'totals.pageviews':\"pageviews\",\n",
    "     'totals.timeOnSite':\"timeOnSite\",\n",
    "    'totals.transactions':\"transactions\",\n",
    "     'totals.newVisits':\"newVisits\",\n",
    "     'totals.bounces':\"bounces\",\n",
    "     'hits.eCommerceAction.action_type':'hits.eCom',\n",
    "     'Monetary':\"monetary\",\n",
    "     'Frequency':\"frequency\",\n",
    "     'repurchasers':\"repurchasers\",\n",
    "     'Recency':\"recency\",\n",
    "     'hits.hour_ordinal':\"hour_ordinal\",\n",
    "            'channelGrouping_Direct':'c_direct',\n",
    "     'channelGrouping_Display':'c_display',\n",
    "           'channelGrouping_Organic Search':'c_organic_search',\n",
    "     'channelGrouping_Paid Search':'c_paid_search',\n",
    "           'channelGrouping_Referral':'c_referral',\n",
    "     'channelGrouping_Social':\"c_social\",\n",
    "           'geoNetwork.country_woe':'country_woe',\n",
    "     'trafficSource.source_woe':\"source_woe\",\n",
    "           'trafficSource.medium_affiliate':\"med_affiliate\",\n",
    "     'trafficSource.medium_cpc':\"med_cpc\",\n",
    "           'trafficSource.medium_cpm':\"med_cpm\",\n",
    "     'trafficSource.medium_organic':'med_organic',\n",
    "           'trafficSource.medium_referral':'med_referral',\n",
    "     'trafficSource.isTrueDirect_code':'direct_is_true',\n",
    "           'device.browser_woe':\"browser_woe\",\n",
    "     'device.operatingSystem_Android':'OS_android',\n",
    "           'device.operatingSystem_BlackBerry':'OS_blackberry',\n",
    "     'device.operatingSystem_Chrome OS':'OS_chrome',\n",
    "           'device.operatingSystem_Firefox OS':'OS_firefox',\n",
    "     'device.operatingSystem_Linux':'OS_linux',\n",
    "           'device.operatingSystem_Macintosh':'OS_mac',\n",
    "           'device.operatingSystem_Nintendo Wii':'OS_wii',\n",
    "     'device.operatingSystem_Samsung':'OS_samsung',\n",
    "           'device.operatingSystem_Windows':'OS_windows',\n",
    "           'device.operatingSystem_Windows Phone':\"OS_windwsphone\",\n",
    "     'device.operatingSystem_Xbox':'OS_xbox',\n",
    "           'device.operatingSystem_iOS':'OS_ios',\n",
    "     'device.deviceCategory_mobile':'mobile',\n",
    "           'device.deviceCategory_tablet':'tablet'}\n",
    "    \n",
    "\n",
    "    \n",
    "    # if drop_first_column=False in one-hot encoding\n",
    "try:\n",
    "    df.rename(columns = {'device.deviceCategory_desktop':'desktop',\n",
    "                             'channelGrouping_Affiliates':'c_affiliates',\n",
    "                             'device.operatingSystem_(not set)':'OS_notset',\n",
    "                             'trafficSource.medium_(none)':'med_none'}\n",
    "                             , inplace = True)\n",
    "except:\n",
    "    pass"
   ]
  }
 ],
 "metadata": {
  "kernelspec": {
   "display_name": "Python 3",
   "language": "python",
   "name": "python3"
  },
  "language_info": {
   "codemirror_mode": {
    "name": "ipython",
    "version": 3
   },
   "file_extension": ".py",
   "mimetype": "text/x-python",
   "name": "python",
   "nbconvert_exporter": "python",
   "pygments_lexer": "ipython3",
   "version": "3.8.5"
  }
 },
 "nbformat": 4,
 "nbformat_minor": 4
}
