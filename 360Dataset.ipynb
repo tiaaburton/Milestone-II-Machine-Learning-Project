{
  "cells": [
    {
      "cell_type": "markdown",
      "metadata": {
        "id": "view-in-github",
        "colab_type": "text"
      },
      "source": [
        "<a href=\"https://colab.research.google.com/github/tiaaburton/Milestone-II-Machine-Learning-Project/blob/main/360Dataset.ipynb\" target=\"_parent\"><img src=\"https://colab.research.google.com/assets/colab-badge.svg\" alt=\"Open In Colab\"/></a>"
      ]
    },
    {
      "cell_type": "markdown",
      "metadata": {
        "id": "ZzunhJIrjGs0"
      },
      "source": [
        "Uncomment below to install dependencies"
      ]
    },
    {
      "cell_type": "code",
      "execution_count": 2,
      "metadata": {
        "id": "isf1JNydBViD"
      },
      "outputs": [],
      "source": [
        "from google.cloud import bigquery\n",
        "import pandas as pd\n",
        "import numpy as np\n",
        "import pyarrow\n",
        "import os \n",
        "from datetime import datetime\n",
        "from tqdm import tqdm\n",
        "\n",
        "import gspread\n",
        "from oauth2client.client import GoogleCredentials\n",
        "from google.colab import auth, files\n",
        "\n",
        "import ast\n",
        "import json\n",
        "import re"
      ]
    },
    {
      "cell_type": "code",
      "execution_count": 3,
      "metadata": {
        "id": "ATpat15DFooL"
      },
      "outputs": [],
      "source": [
        "os.environ['GOOGLE_APPLICATION_CREDENTIALS'] ='/content/drive/Shareddrives/SIADS - 694-695 Team Drive/Notebooks/compact-scene-317315-56e479e9e148.json'"
      ]
    },
    {
      "cell_type": "code",
      "execution_count": 5,
      "metadata": {
        "colab": {
          "base_uri": "https://localhost:8080/"
        },
        "id": "AzKFJWrarVzs",
        "outputId": "1253552f-e076-438b-e775-a6c854122bca"
      },
      "outputs": [
        {
          "output_type": "stream",
          "name": "stdout",
          "text": [
            "Mounted at /content/drive\n"
          ]
        }
      ],
      "source": [
        "from google.colab import drive\n",
        "drive.mount('/content/drive')"
      ]
    },
    {
      "cell_type": "markdown",
      "metadata": {
        "id": "NBUDJ5uhPu_1"
      },
      "source": [
        "## Exploring the Sample Dataset\n",
        "\n",
        "To use the dataset for the project, we need to do feature engineering. This allows us to get a better model, but firstly we will look at the columns of a sample dataset that is only consisting of data from one date.\n",
        "\n",
        "**Write a section about need to have a google storge account and how that's related to cost: https://cloud.google.com/bigquery/docs/bigquery-storage-python-pandas ; quotas and limits: https://cloud.google.com/bigquery/quotas\n",
        "\n",
        "** Need to remake this section with PySpark with https://www.analyticsvidhya.com/blog/2020/11/a-must-read-guide-on-how-to-work-with-pyspark-on-google-colab-for-data-scientists/"
      ]
    },
    {
      "cell_type": "markdown",
      "metadata": {
        "id": "BjA-tbI3CYgY"
      },
      "source": [
        "## 1 Year Dataset\n",
        "\n",
        "Given the time constraints by the dataset. We will have only 1 year of data potentially available. Using pyarrow and pandas, we will extract data and manipulate the data for continued use and understanding of the dataset."
      ]
    },
    {
      "cell_type": "code",
      "execution_count": 8,
      "metadata": {
        "id": "sPK6MROJKYTa"
      },
      "outputs": [],
      "source": [
        "sample_dataset = pd.read_csv('/content/drive/Shareddrives/SIADS - 694-695 Team Drive/sample_file.csv')"
      ]
    },
    {
      "cell_type": "code",
      "source": [
        "def only_dict(d):\n",
        "    '''\n",
        "    Convert json string representation of dictionary to a python dict\n",
        "    '''\n",
        "    return ast.literal_eval(d)\n",
        "\n",
        "def list_of_dicts(ld, field):\n",
        "    '''\n",
        "    Create a mapping of the tuples formed after \n",
        "    converting json strings of list to a python list   \n",
        "    '''\n",
        "    try:\n",
        "      result = []\n",
        "      for d in ast.literal_eval(ld):\n",
        "        if d == None:\n",
        "          continue\n",
        "        else:\n",
        "          result.append(d[field])\n",
        "      return result\n",
        "    except (TypeError, ValueError):\n",
        "      return only_dict(ld)[field]\n",
        "    else:\n",
        "      return list_of_dicts(ld, field)\n",
        "\n",
        "def data_from_json(data, field):\n",
        "  \"\"\"Using the rows from the column and the field wanting to be selected\n",
        "  the function finds the best method to parse the json code and return\n",
        "  the nested value.\"\"\"\n",
        "  from json import JSONDecodeError\n",
        "\n",
        "  try:\n",
        "    json_data = json.dumps(data)\n",
        "    json_field = json.loads(json_data.replace('\\'', '\\\"')[1:-1])[field]\n",
        "    return json_field\n",
        "  except TypeError:\n",
        "    return only_dict(data)[field]\n",
        "  except JSONDecodeError:\n",
        "    json_data = json.dumps(data)\n",
        "    return list_of_dicts(json.loads(json_data), field)\n",
        "  else:\n",
        "    return None\n",
        "\n",
        "def get_selected_columns(filename='/content/drive/Shareddrives/SIADS - 694-695 Team Drive/Notebooks/final_columns.txt'):\n",
        "  \"\"\"\n",
        "  filename: \"\"\"\n",
        "  columns = []\n",
        "  with open(filename, 'r') as f:\n",
        "    for ln in f.readlines():\n",
        "      col = (ln.strip().split('\\xa0\\xa0')[1])\n",
        "      groups = re.search(r\"'(\\w.+)'\", col)\n",
        "      columns.append(groups.group(1))\n",
        "  return columns\n",
        "\n",
        "def preprocessing(sample, columns:list):\n",
        "  drop_cols = set()\n",
        "\n",
        "  for col in tqdm(columns):\n",
        "    try:\n",
        "      splits = col.split('.')\n",
        "      colName = \".\".join(splits)\n",
        "      if colName in sample.columns:\n",
        "        continue\n",
        "      elif len(splits) == 2:\n",
        "        sample[colName] = sample[splits[0]].apply(lambda x: data_from_json(x, splits[1]))\n",
        "      elif len(splits) == 3:\n",
        "        prefix = \".\".join(splits[:2])\n",
        "        if prefix in sample.columns:\n",
        "          sample[colName] = sample[prefix].apply(lambda x: data_from_json(x, splits[2]))\n",
        "        else:\n",
        "          sample[prefix] = sample[splits[0]].apply(lambda x: data_from_json(x, splits[1]))\n",
        "          sample[colName] = sample[prefix].apply(lambda x: data_from_json(x, splits[2]))\n",
        "        drop_cols.add(splits[0])\n",
        "        drop_cols.add(prefix)\n",
        "    except:\n",
        "      continue\n",
        "  \n",
        "  return sample, drop_cols"
      ],
      "metadata": {
        "id": "zwWx7qouuS4v"
      },
      "execution_count": 13,
      "outputs": []
    },
    {
      "cell_type": "code",
      "source": [
        "columns = get_selected_columns()\n",
        "print(columns)"
      ],
      "metadata": {
        "id": "oohdd6zRwwyO",
        "colab": {
          "base_uri": "https://localhost:8080/"
        },
        "outputId": "7ae83bf3-0a26-4421-ad32-0cd7f8d6f7d7"
      },
      "execution_count": 16,
      "outputs": [
        {
          "output_type": "stream",
          "name": "stdout",
          "text": [
            "['date', 'totals', 'fullVisitorId', 'clientId', 'totals.visits', 'totals.hits', 'totals.pageviews', 'totals.timeOnSite', 'totals.bounces', 'totals.transactions', 'totals.newVisits', 'totals.screenviews', 'totals.uniqueScreenviews', 'totals.timeOnScreen', 'totals.totalTransactionRevenue', 'hits.type', 'hits', 'channelGrouping', 'socialEngagementType', 'geoNetwork.country', 'trafficSource.source', 'trafficSource.medium', 'trafficSource.isTrueDirect', 'device.browser', 'device.operatingSystem', 'device.deviceCategory', 'hits.hour', 'hits.minute', 'hits.transaction', 'hits.item', 'hits.dataSource', 'hits.transaction.transactionRevenue', 'hits.item.productName', 'hits.item.productCategory', 'hits.item.itemRevenue', 'hits.appInfo.screenDepth', 'hits.eCommerceAction.action_type']\n"
          ]
        }
      ]
    },
    {
      "cell_type": "code",
      "execution_count": 177,
      "metadata": {
        "colab": {
          "base_uri": "https://localhost:8080/"
        },
        "id": "cp2fPUgCHLUf",
        "outputId": "7a8b077b-c3e3-4717-a57a-317e9ab0cc87"
      },
      "outputs": [
        {
          "output_type": "stream",
          "name": "stderr",
          "text": [
            "100%|██████████| 37/37 [42:06<00:00, 68.30s/it] \n"
          ]
        }
      ],
      "source": [
        "processed_data, drop_cols = preprocessing(sample_dataset, columns)"
      ]
    },
    {
      "cell_type": "code",
      "source": [
        "remaining = list(set(columns).difference(set(processed_data.columns)))\n",
        "for col in remaining:\n",
        "  print(col)"
      ],
      "metadata": {
        "colab": {
          "base_uri": "https://localhost:8080/"
        },
        "id": "0fDjqCUjIyNR",
        "outputId": "af08879f-5b43-4a58-cb72-a7b68fcf47f7"
      },
      "execution_count": 243,
      "outputs": [
        {
          "output_type": "stream",
          "name": "stdout",
          "text": [
            "hits.item.productCategory\n",
            "hits.item.itemRevenue\n",
            "hits.transaction.transactionRevenue\n",
            "hits.eCommerceAction.action_type\n",
            "clientId\n",
            "hits.item.productName\n",
            "hits.appInfo.screenDepth\n"
          ]
        }
      ]
    },
    {
      "cell_type": "code",
      "source": [
        "processed_data.to_csv('/content/drive/Shareddrives/SIADS - 694-695 Team Drive/processed_file.csv')"
      ],
      "metadata": {
        "id": "VJt4GR702p9B"
      },
      "execution_count": 222,
      "outputs": []
    },
    {
      "cell_type": "code",
      "source": [
        "processed_data.iloc[0]"
      ],
      "metadata": {
        "colab": {
          "base_uri": "https://localhost:8080/"
        },
        "id": "ZTFHb7doJWTy",
        "outputId": "d6a4c3e7-95e5-48d7-8b53-a190a7eaadcb"
      },
      "execution_count": 223,
      "outputs": [
        {
          "output_type": "execute_result",
          "data": {
            "text/plain": [
              "date                                                                       20160801\n",
              "geoNetwork                        {'continent': 'Americas', 'subContinent': 'Nor...\n",
              "channelGrouping                                                              Social\n",
              "fullVisitorId                                                   7305625498291809599\n",
              "socialEngagementType                                           Not Socially Engaged\n",
              "trafficSource                     {'referralPath': '/yt/about/', 'campaign': '(n...\n",
              "device                            {'browser': 'Internet Explorer', 'browserVersi...\n",
              "totals                            {'visits': 1, 'hits': 4, 'pageviews': 2, 'time...\n",
              "hits                              [{'hitNumber': 1, 'time': 0, 'hour': 15, 'minu...\n",
              "hits.type                                                [PAGE, EVENT, PAGE, EVENT]\n",
              "hits.hour                                                          [15, 15, 15, 15]\n",
              "hits.minute                                                        [33, 34, 35, 35]\n",
              "hits.transaction                  [None, None, {'transactionId': None, 'transact...\n",
              "hits.item                         [None, None, {'transactionId': None, 'productN...\n",
              "hits.dataSource                                            [None, None, None, None]\n",
              "hits.appInfo                      [{'name': None, 'version': None, 'id': None, '...\n",
              "hits.eCommerceAction              [{'action_type': '0', 'step': 1, 'option': Non...\n",
              "trafficSource.source                                                    youtube.com\n",
              "totals.visits                                                                     1\n",
              "totals.screenviews                                                             None\n",
              "device.browser                                                    Internet Explorer\n",
              "totals.totalTransactionRevenue                                                  NaN\n",
              "totals.bounces                                                                  NaN\n",
              "totals.uniqueScreenviews                                                       None\n",
              "totals.newVisits                                                                1.0\n",
              "trafficSource.isTrueDirect                                                     None\n",
              "trafficSource.medium                                                       referral\n",
              "totals.hits                                                                       4\n",
              "totals.transactions                                                             NaN\n",
              "totals.timeOnScreen                                                            None\n",
              "totals.timeOnSite                                                             122.0\n",
              "geoNetwork.country                                                    United States\n",
              "device.operatingSystem                                                      Windows\n",
              "device.deviceCategory                                                       desktop\n",
              "totals.pageviews                                                                2.0\n",
              "Name: 0, dtype: object"
            ]
          },
          "metadata": {},
          "execution_count": 223
        }
      ]
    },
    {
      "cell_type": "markdown",
      "source": [
        "## Examine Saved File "
      ],
      "metadata": {
        "id": "E2_aTDIDLsC9"
      }
    },
    {
      "cell_type": "code",
      "source": [
        "transformation = pd.read_csv('/content/drive/Shareddrives/SIADS - 694-695 Team Drive/processed_file.csv', index_col=0)"
      ],
      "metadata": {
        "id": "CenvEno4PSYQ"
      },
      "execution_count": 21,
      "outputs": []
    },
    {
      "cell_type": "code",
      "source": [
        "remaining = list(set(columns).difference(set(transformation.columns)))\n",
        "remaining"
      ],
      "metadata": {
        "colab": {
          "base_uri": "https://localhost:8080/"
        },
        "id": "mAxq6TEqTij4",
        "outputId": "d978b485-eeea-48c1-85c4-c30119d2f28b"
      },
      "execution_count": 39,
      "outputs": [
        {
          "output_type": "execute_result",
          "data": {
            "text/plain": [
              "['clientId']"
            ]
          },
          "metadata": {},
          "execution_count": 39
        }
      ]
    },
    {
      "cell_type": "code",
      "source": [
        "transformation.shape"
      ],
      "metadata": {
        "colab": {
          "base_uri": "https://localhost:8080/"
        },
        "id": "k_lxE6CPQpPV",
        "outputId": "f7f99bf2-8ebc-4f61-b1a4-23b90c490103"
      },
      "execution_count": 44,
      "outputs": [
        {
          "output_type": "execute_result",
          "data": {
            "text/plain": [
              "(35725, 41)"
            ]
          },
          "metadata": {},
          "execution_count": 44
        }
      ]
    },
    {
      "cell_type": "code",
      "source": [
        "transformation.tail()"
      ],
      "metadata": {
        "colab": {
          "base_uri": "https://localhost:8080/",
          "height": 560
        },
        "id": "8Rx89k0YNpkY",
        "outputId": "64ef95a6-afb2-4474-ba0c-b6b2eecfd523"
      },
      "execution_count": 46,
      "outputs": [
        {
          "output_type": "execute_result",
          "data": {
            "text/plain": [
              "           date                                         geoNetwork  \\\n",
              "35720  20161130  {'continent': 'Americas', 'subContinent': 'Nor...   \n",
              "35721  20161130  {'continent': 'Asia', 'subContinent': 'Southea...   \n",
              "35722  20161130  {'continent': 'Americas', 'subContinent': 'Nor...   \n",
              "35723  20161130  {'continent': 'Americas', 'subContinent': 'Nor...   \n",
              "35724  20161130  {'continent': 'Americas', 'subContinent': 'Nor...   \n",
              "\n",
              "      channelGrouping        fullVisitorId  socialEngagementType  \\\n",
              "35720          Social  5417408500825735224  Not Socially Engaged   \n",
              "35721  Organic Search  8847411995415974974  Not Socially Engaged   \n",
              "35722  Organic Search   163906276211779928  Not Socially Engaged   \n",
              "35723        Referral   207342271544307763  Not Socially Engaged   \n",
              "35724  Organic Search  7263171742001601494  Not Socially Engaged   \n",
              "\n",
              "                                           trafficSource  \\\n",
              "35720  {'referralPath': '/yt/about/', 'campaign': '(n...   \n",
              "35721  {'referralPath': None, 'campaign': '(not set)'...   \n",
              "35722  {'referralPath': None, 'campaign': '(not set)'...   \n",
              "35723  {'referralPath': '/', 'campaign': '(not set)',...   \n",
              "35724  {'referralPath': None, 'campaign': '(not set)'...   \n",
              "\n",
              "                                                  device  \\\n",
              "35720  {'browser': 'Internet Explorer', 'browserVersi...   \n",
              "35721  {'browser': 'Chrome', 'browserVersion': 'not a...   \n",
              "35722  {'browser': 'Firefox', 'browserVersion': 'not ...   \n",
              "35723  {'browser': 'Chrome', 'browserVersion': 'not a...   \n",
              "35724  {'browser': 'Chrome', 'browserVersion': 'not a...   \n",
              "\n",
              "                                                  totals  \\\n",
              "35720  {'visits': 1, 'hits': 1, 'pageviews': 1, 'time...   \n",
              "35721  {'visits': 1, 'hits': 1, 'pageviews': 1, 'time...   \n",
              "35722  {'visits': 1, 'hits': 1, 'pageviews': 1, 'time...   \n",
              "35723  {'visits': 1, 'hits': 2, 'pageviews': 2, 'time...   \n",
              "35724  {'visits': 1, 'hits': 2, 'pageviews': 2, 'time...   \n",
              "\n",
              "                                                    hits         hits.type  \\\n",
              "35720  [{'hitNumber': 1, 'time': 0, 'hour': 17, 'minu...          ['PAGE']   \n",
              "35721  [{'hitNumber': 1, 'time': 0, 'hour': 7, 'minut...          ['PAGE']   \n",
              "35722  [{'hitNumber': 1, 'time': 0, 'hour': 12, 'minu...          ['PAGE']   \n",
              "35723  [{'hitNumber': 1, 'time': 0, 'hour': 14, 'minu...  ['PAGE', 'PAGE']   \n",
              "35724  [{'hitNumber': 1, 'time': 0, 'hour': 13, 'minu...  ['PAGE', 'PAGE']   \n",
              "\n",
              "       ... geoNetwork.country device.operatingSystem device.deviceCategory  \\\n",
              "35720  ...      United States                Windows               desktop   \n",
              "35721  ...          Indonesia                Android                mobile   \n",
              "35722  ...      United States                Windows               desktop   \n",
              "35723  ...      United States              Chrome OS               desktop   \n",
              "35724  ...      United States                    iOS                mobile   \n",
              "\n",
              "      totals.pageviews hits.appInfo.screenDepth  \\\n",
              "35720              1.0                      [0]   \n",
              "35721              1.0                      [0]   \n",
              "35722              1.0                      [0]   \n",
              "35723              2.0                   [0, 0]   \n",
              "35724              2.0                   [0, 0]   \n",
              "\n",
              "      hits.eCommerceAction.action_type hits.transaction.transactionRevenue  \\\n",
              "35720                              [0]                              [None]   \n",
              "35721                              [0]                              [None]   \n",
              "35722                              [0]                              [None]   \n",
              "35723                           [0, 0]                        [None, None]   \n",
              "35724                           [0, 0]                        [None, None]   \n",
              "\n",
              "      hits.item.productName  hits.item.itemRevenue  hits.item.productCategory  \n",
              "35720                [None]                 [None]                     [None]  \n",
              "35721                [None]                 [None]                     [None]  \n",
              "35722                [None]                 [None]                     [None]  \n",
              "35723          [None, None]           [None, None]               [None, None]  \n",
              "35724          [None, None]           [None, None]               [None, None]  \n",
              "\n",
              "[5 rows x 41 columns]"
            ],
            "text/html": [
              "\n",
              "  <div id=\"df-61d6e932-277c-4429-9548-91a6d5d58ed9\">\n",
              "    <div class=\"colab-df-container\">\n",
              "      <div>\n",
              "<style scoped>\n",
              "    .dataframe tbody tr th:only-of-type {\n",
              "        vertical-align: middle;\n",
              "    }\n",
              "\n",
              "    .dataframe tbody tr th {\n",
              "        vertical-align: top;\n",
              "    }\n",
              "\n",
              "    .dataframe thead th {\n",
              "        text-align: right;\n",
              "    }\n",
              "</style>\n",
              "<table border=\"1\" class=\"dataframe\">\n",
              "  <thead>\n",
              "    <tr style=\"text-align: right;\">\n",
              "      <th></th>\n",
              "      <th>date</th>\n",
              "      <th>geoNetwork</th>\n",
              "      <th>channelGrouping</th>\n",
              "      <th>fullVisitorId</th>\n",
              "      <th>socialEngagementType</th>\n",
              "      <th>trafficSource</th>\n",
              "      <th>device</th>\n",
              "      <th>totals</th>\n",
              "      <th>hits</th>\n",
              "      <th>hits.type</th>\n",
              "      <th>...</th>\n",
              "      <th>geoNetwork.country</th>\n",
              "      <th>device.operatingSystem</th>\n",
              "      <th>device.deviceCategory</th>\n",
              "      <th>totals.pageviews</th>\n",
              "      <th>hits.appInfo.screenDepth</th>\n",
              "      <th>hits.eCommerceAction.action_type</th>\n",
              "      <th>hits.transaction.transactionRevenue</th>\n",
              "      <th>hits.item.productName</th>\n",
              "      <th>hits.item.itemRevenue</th>\n",
              "      <th>hits.item.productCategory</th>\n",
              "    </tr>\n",
              "  </thead>\n",
              "  <tbody>\n",
              "    <tr>\n",
              "      <th>35720</th>\n",
              "      <td>20161130</td>\n",
              "      <td>{'continent': 'Americas', 'subContinent': 'Nor...</td>\n",
              "      <td>Social</td>\n",
              "      <td>5417408500825735224</td>\n",
              "      <td>Not Socially Engaged</td>\n",
              "      <td>{'referralPath': '/yt/about/', 'campaign': '(n...</td>\n",
              "      <td>{'browser': 'Internet Explorer', 'browserVersi...</td>\n",
              "      <td>{'visits': 1, 'hits': 1, 'pageviews': 1, 'time...</td>\n",
              "      <td>[{'hitNumber': 1, 'time': 0, 'hour': 17, 'minu...</td>\n",
              "      <td>['PAGE']</td>\n",
              "      <td>...</td>\n",
              "      <td>United States</td>\n",
              "      <td>Windows</td>\n",
              "      <td>desktop</td>\n",
              "      <td>1.0</td>\n",
              "      <td>[0]</td>\n",
              "      <td>[0]</td>\n",
              "      <td>[None]</td>\n",
              "      <td>[None]</td>\n",
              "      <td>[None]</td>\n",
              "      <td>[None]</td>\n",
              "    </tr>\n",
              "    <tr>\n",
              "      <th>35721</th>\n",
              "      <td>20161130</td>\n",
              "      <td>{'continent': 'Asia', 'subContinent': 'Southea...</td>\n",
              "      <td>Organic Search</td>\n",
              "      <td>8847411995415974974</td>\n",
              "      <td>Not Socially Engaged</td>\n",
              "      <td>{'referralPath': None, 'campaign': '(not set)'...</td>\n",
              "      <td>{'browser': 'Chrome', 'browserVersion': 'not a...</td>\n",
              "      <td>{'visits': 1, 'hits': 1, 'pageviews': 1, 'time...</td>\n",
              "      <td>[{'hitNumber': 1, 'time': 0, 'hour': 7, 'minut...</td>\n",
              "      <td>['PAGE']</td>\n",
              "      <td>...</td>\n",
              "      <td>Indonesia</td>\n",
              "      <td>Android</td>\n",
              "      <td>mobile</td>\n",
              "      <td>1.0</td>\n",
              "      <td>[0]</td>\n",
              "      <td>[0]</td>\n",
              "      <td>[None]</td>\n",
              "      <td>[None]</td>\n",
              "      <td>[None]</td>\n",
              "      <td>[None]</td>\n",
              "    </tr>\n",
              "    <tr>\n",
              "      <th>35722</th>\n",
              "      <td>20161130</td>\n",
              "      <td>{'continent': 'Americas', 'subContinent': 'Nor...</td>\n",
              "      <td>Organic Search</td>\n",
              "      <td>163906276211779928</td>\n",
              "      <td>Not Socially Engaged</td>\n",
              "      <td>{'referralPath': None, 'campaign': '(not set)'...</td>\n",
              "      <td>{'browser': 'Firefox', 'browserVersion': 'not ...</td>\n",
              "      <td>{'visits': 1, 'hits': 1, 'pageviews': 1, 'time...</td>\n",
              "      <td>[{'hitNumber': 1, 'time': 0, 'hour': 12, 'minu...</td>\n",
              "      <td>['PAGE']</td>\n",
              "      <td>...</td>\n",
              "      <td>United States</td>\n",
              "      <td>Windows</td>\n",
              "      <td>desktop</td>\n",
              "      <td>1.0</td>\n",
              "      <td>[0]</td>\n",
              "      <td>[0]</td>\n",
              "      <td>[None]</td>\n",
              "      <td>[None]</td>\n",
              "      <td>[None]</td>\n",
              "      <td>[None]</td>\n",
              "    </tr>\n",
              "    <tr>\n",
              "      <th>35723</th>\n",
              "      <td>20161130</td>\n",
              "      <td>{'continent': 'Americas', 'subContinent': 'Nor...</td>\n",
              "      <td>Referral</td>\n",
              "      <td>207342271544307763</td>\n",
              "      <td>Not Socially Engaged</td>\n",
              "      <td>{'referralPath': '/', 'campaign': '(not set)',...</td>\n",
              "      <td>{'browser': 'Chrome', 'browserVersion': 'not a...</td>\n",
              "      <td>{'visits': 1, 'hits': 2, 'pageviews': 2, 'time...</td>\n",
              "      <td>[{'hitNumber': 1, 'time': 0, 'hour': 14, 'minu...</td>\n",
              "      <td>['PAGE', 'PAGE']</td>\n",
              "      <td>...</td>\n",
              "      <td>United States</td>\n",
              "      <td>Chrome OS</td>\n",
              "      <td>desktop</td>\n",
              "      <td>2.0</td>\n",
              "      <td>[0, 0]</td>\n",
              "      <td>[0, 0]</td>\n",
              "      <td>[None, None]</td>\n",
              "      <td>[None, None]</td>\n",
              "      <td>[None, None]</td>\n",
              "      <td>[None, None]</td>\n",
              "    </tr>\n",
              "    <tr>\n",
              "      <th>35724</th>\n",
              "      <td>20161130</td>\n",
              "      <td>{'continent': 'Americas', 'subContinent': 'Nor...</td>\n",
              "      <td>Organic Search</td>\n",
              "      <td>7263171742001601494</td>\n",
              "      <td>Not Socially Engaged</td>\n",
              "      <td>{'referralPath': None, 'campaign': '(not set)'...</td>\n",
              "      <td>{'browser': 'Chrome', 'browserVersion': 'not a...</td>\n",
              "      <td>{'visits': 1, 'hits': 2, 'pageviews': 2, 'time...</td>\n",
              "      <td>[{'hitNumber': 1, 'time': 0, 'hour': 13, 'minu...</td>\n",
              "      <td>['PAGE', 'PAGE']</td>\n",
              "      <td>...</td>\n",
              "      <td>United States</td>\n",
              "      <td>iOS</td>\n",
              "      <td>mobile</td>\n",
              "      <td>2.0</td>\n",
              "      <td>[0, 0]</td>\n",
              "      <td>[0, 0]</td>\n",
              "      <td>[None, None]</td>\n",
              "      <td>[None, None]</td>\n",
              "      <td>[None, None]</td>\n",
              "      <td>[None, None]</td>\n",
              "    </tr>\n",
              "  </tbody>\n",
              "</table>\n",
              "<p>5 rows × 41 columns</p>\n",
              "</div>\n",
              "      <button class=\"colab-df-convert\" onclick=\"convertToInteractive('df-61d6e932-277c-4429-9548-91a6d5d58ed9')\"\n",
              "              title=\"Convert this dataframe to an interactive table.\"\n",
              "              style=\"display:none;\">\n",
              "        \n",
              "  <svg xmlns=\"http://www.w3.org/2000/svg\" height=\"24px\"viewBox=\"0 0 24 24\"\n",
              "       width=\"24px\">\n",
              "    <path d=\"M0 0h24v24H0V0z\" fill=\"none\"/>\n",
              "    <path d=\"M18.56 5.44l.94 2.06.94-2.06 2.06-.94-2.06-.94-.94-2.06-.94 2.06-2.06.94zm-11 1L8.5 8.5l.94-2.06 2.06-.94-2.06-.94L8.5 2.5l-.94 2.06-2.06.94zm10 10l.94 2.06.94-2.06 2.06-.94-2.06-.94-.94-2.06-.94 2.06-2.06.94z\"/><path d=\"M17.41 7.96l-1.37-1.37c-.4-.4-.92-.59-1.43-.59-.52 0-1.04.2-1.43.59L10.3 9.45l-7.72 7.72c-.78.78-.78 2.05 0 2.83L4 21.41c.39.39.9.59 1.41.59.51 0 1.02-.2 1.41-.59l7.78-7.78 2.81-2.81c.8-.78.8-2.07 0-2.86zM5.41 20L4 18.59l7.72-7.72 1.47 1.35L5.41 20z\"/>\n",
              "  </svg>\n",
              "      </button>\n",
              "      \n",
              "  <style>\n",
              "    .colab-df-container {\n",
              "      display:flex;\n",
              "      flex-wrap:wrap;\n",
              "      gap: 12px;\n",
              "    }\n",
              "\n",
              "    .colab-df-convert {\n",
              "      background-color: #E8F0FE;\n",
              "      border: none;\n",
              "      border-radius: 50%;\n",
              "      cursor: pointer;\n",
              "      display: none;\n",
              "      fill: #1967D2;\n",
              "      height: 32px;\n",
              "      padding: 0 0 0 0;\n",
              "      width: 32px;\n",
              "    }\n",
              "\n",
              "    .colab-df-convert:hover {\n",
              "      background-color: #E2EBFA;\n",
              "      box-shadow: 0px 1px 2px rgba(60, 64, 67, 0.3), 0px 1px 3px 1px rgba(60, 64, 67, 0.15);\n",
              "      fill: #174EA6;\n",
              "    }\n",
              "\n",
              "    [theme=dark] .colab-df-convert {\n",
              "      background-color: #3B4455;\n",
              "      fill: #D2E3FC;\n",
              "    }\n",
              "\n",
              "    [theme=dark] .colab-df-convert:hover {\n",
              "      background-color: #434B5C;\n",
              "      box-shadow: 0px 1px 3px 1px rgba(0, 0, 0, 0.15);\n",
              "      filter: drop-shadow(0px 1px 2px rgba(0, 0, 0, 0.3));\n",
              "      fill: #FFFFFF;\n",
              "    }\n",
              "  </style>\n",
              "\n",
              "      <script>\n",
              "        const buttonEl =\n",
              "          document.querySelector('#df-61d6e932-277c-4429-9548-91a6d5d58ed9 button.colab-df-convert');\n",
              "        buttonEl.style.display =\n",
              "          google.colab.kernel.accessAllowed ? 'block' : 'none';\n",
              "\n",
              "        async function convertToInteractive(key) {\n",
              "          const element = document.querySelector('#df-61d6e932-277c-4429-9548-91a6d5d58ed9');\n",
              "          const dataTable =\n",
              "            await google.colab.kernel.invokeFunction('convertToInteractive',\n",
              "                                                     [key], {});\n",
              "          if (!dataTable) return;\n",
              "\n",
              "          const docLinkHtml = 'Like what you see? Visit the ' +\n",
              "            '<a target=\"_blank\" href=https://colab.research.google.com/notebooks/data_table.ipynb>data table notebook</a>'\n",
              "            + ' to learn more about interactive tables.';\n",
              "          element.innerHTML = '';\n",
              "          dataTable['output_type'] = 'display_data';\n",
              "          await google.colab.output.renderOutput(dataTable, element);\n",
              "          const docLink = document.createElement('div');\n",
              "          docLink.innerHTML = docLinkHtml;\n",
              "          element.appendChild(docLink);\n",
              "        }\n",
              "      </script>\n",
              "    </div>\n",
              "  </div>\n",
              "  "
            ]
          },
          "metadata": {},
          "execution_count": 46
        }
      ]
    },
    {
      "cell_type": "markdown",
      "source": [
        "## Method in PySpark"
      ],
      "metadata": {
        "id": "L-nj0rBnSluV"
      }
    },
    {
      "cell_type": "code",
      "source": [
        "! pip install pyspark"
      ],
      "metadata": {
        "colab": {
          "base_uri": "https://localhost:8080/"
        },
        "id": "SZs1jMorSlX6",
        "outputId": "690c0ace-91c2-4602-8c68-c9d986f20431"
      },
      "execution_count": 47,
      "outputs": [
        {
          "output_type": "stream",
          "name": "stdout",
          "text": [
            "Collecting pyspark\n",
            "  Downloading pyspark-3.2.1.tar.gz (281.4 MB)\n",
            "\u001b[K     |████████████████████████████████| 281.4 MB 24 kB/s \n",
            "\u001b[?25hCollecting py4j==0.10.9.3\n",
            "  Downloading py4j-0.10.9.3-py2.py3-none-any.whl (198 kB)\n",
            "\u001b[K     |████████████████████████████████| 198 kB 44.5 MB/s \n",
            "\u001b[?25hBuilding wheels for collected packages: pyspark\n",
            "  Building wheel for pyspark (setup.py) ... \u001b[?25l\u001b[?25hdone\n",
            "  Created wheel for pyspark: filename=pyspark-3.2.1-py2.py3-none-any.whl size=281853642 sha256=0a7db4c631183b02b7405d0f5a1d09f158affce151c592c92fedc4b708ac6dc1\n",
            "  Stored in directory: /root/.cache/pip/wheels/9f/f5/07/7cd8017084dce4e93e84e92efd1e1d5334db05f2e83bcef74f\n",
            "Successfully built pyspark\n",
            "Installing collected packages: py4j, pyspark\n",
            "Successfully installed py4j-0.10.9.3 pyspark-3.2.1\n"
          ]
        }
      ]
    },
    {
      "cell_type": "code",
      "source": [
        "import pyspark"
      ],
      "metadata": {
        "id": "Z-DeqpYzSsF3"
      },
      "execution_count": 48,
      "outputs": []
    },
    {
      "cell_type": "code",
      "source": [
        ""
      ],
      "metadata": {
        "id": "SfeccDbOSuL5"
      },
      "execution_count": null,
      "outputs": []
    }
  ],
  "metadata": {
    "colab": {
      "collapsed_sections": [],
      "name": "360Dataset.ipynb",
      "provenance": [],
      "include_colab_link": true
    },
    "kernelspec": {
      "display_name": "Python 3",
      "name": "python3"
    },
    "language_info": {
      "name": "python"
    }
  },
  "nbformat": 4,
  "nbformat_minor": 0
}